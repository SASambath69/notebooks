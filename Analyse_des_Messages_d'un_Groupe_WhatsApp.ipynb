{
  "nbformat": 4,
  "nbformat_minor": 0,
  "metadata": {
    "colab": {
      "name": "Analyse des Messages d'un Groupe WhatsApp.ipynb",
      "provenance": [],
      "collapsed_sections": [
        "W6odBeb0mKQ3",
        "lDJogjBwsVx9",
        "MgkGaapByOIZ",
        "c_S4IEKyDoNG",
        "PDClYw3RDsL0",
        "2ZrTFD5yDyHl"
      ],
      "authorship_tag": "ABX9TyMjZh07Do2bAcMJcTUSW3JC",
      "include_colab_link": true
    },
    "kernelspec": {
      "name": "python3",
      "display_name": "Python 3"
    }
  },
  "cells": [
    {
      "cell_type": "markdown",
      "metadata": {
        "id": "view-in-github",
        "colab_type": "text"
      },
      "source": [
        "<a href=\"https://colab.research.google.com/github/SASambath69/notebooks/blob/main/Analyse_des_Messages_d'un_Groupe_WhatsApp.ipynb\" target=\"_parent\"><img src=\"https://colab.research.google.com/assets/colab-badge.svg\" alt=\"Open In Colab\"/></a>"
      ]
    },
    {
      "cell_type": "markdown",
      "metadata": {
        "id": "35_cV6K-ut2y"
      },
      "source": [
        "# Objectifs\n",
        "\n",
        "Le présent notebook a été réalisé pour effectuer une analyse des discussions d'un groupe WhatsApp. Les informations concernant les expéditeurs seront anonymisées. Les objectifs seront les suivants :\n",
        "\n",
        "*    A quel moment de la journée et quel jour de la semaine il y a le plus de messages ?\n",
        "*    Quelles sont les contributions des membres du groupe (classement par nombre de messages envoyés) ?\n",
        "*    Quels sont les 20 mots les plus utilisés (au global, puis par les 5 personnes qui envoient le plus de messages) ?\n",
        "*    Quels sont les emojis les plus présents ?"
      ]
    },
    {
      "cell_type": "markdown",
      "metadata": {
        "id": "W6odBeb0mKQ3"
      },
      "source": [
        "# Import des Librairies\n",
        "\n",
        "Petites précisions sur quelques librairies utilisées :\n",
        "\n",
        "*    nltk : pour l'analyse des mots contenus dans les messages\n",
        "*    string : servira pour retirer les ponctuations lors de l'analyse des mots\n",
        "*    emoji : pour l'analyse des emojis les plus utilsés\n",
        "*    InteractiveShell : pour afficher tous les outputs d'un bloc de code, et ne pas se limiter au dernier output\n",
        "*    drive : pour me connecter à mon Google Drive et récupérer le fichier txt correspondant à la sauvegarde de la discussion WhatsApp"
      ]
    },
    {
      "cell_type": "code",
      "metadata": {
        "id": "AaMkU75Xj6Ls"
      },
      "source": [
        "import pandas as pd\n",
        "import numpy as np\n",
        "import matplotlib.pyplot as plt\n",
        "import plotly.express as px\n",
        "import nltk\n",
        "from nltk.tokenize import word_tokenize\n",
        "from nltk.corpus import stopwords\n",
        "nltk.download('popular')\n",
        "import string\n",
        "!pip install emoji\n",
        "import emoji\n",
        "from IPython.core.interactiveshell import InteractiveShell\n",
        "InteractiveShell.ast_node_interactivity = \"all\""
      ],
      "execution_count": null,
      "outputs": []
    },
    {
      "cell_type": "code",
      "metadata": {
        "id": "fgUHEcTskKSX"
      },
      "source": [
        "from google.colab import drive\n",
        "\n",
        "drive.mount('/content/drive')"
      ],
      "execution_count": null,
      "outputs": []
    },
    {
      "cell_type": "markdown",
      "metadata": {
        "id": "lDJogjBwsVx9"
      },
      "source": [
        "# Import et Retraitement du fichier contenant les discussions\n",
        "\n",
        "Par défaut, les discussions vont être retranscris dans un DataFrame à 1 colonne. Les retraitements et travaux seront les suivants :\n",
        "\n",
        "1.    Identification des lignes qui correspondent à des suites de messages. En effet, selon la longueur des messages, ceux-ci peuvent apparaître sur plusieurs lignes du DataFrame. L'objectif est ainsi de les repérer selon différents moyens (longueur du texte inférieur à un certain nombre ou absence de date dans les 1ers caractères du message) puis de les replacer à la suite des messages dont ils correspondent\n",
        "2.    Création d'une colonne contenant la date et heure de l'envoi du message\n",
        "3.    Création d'une colonne contenant le nom de l'expéditeur et anonymisation\n",
        "4.    Création de 2 colonnes correspondant au jour de la semaine (de 1 à 7) et à l'heure de la journée (de 0 à 23), puis pivot table pour afficher le nombre de messages envoyés par heure de la jour et par jour de la semaine\n",
        "5.    Création d'une colonne contenant le message\n",
        "6.    Identification des mots les plus utilisés (ajout de certains mots, expressions, caractères à la liste des stopwords). Pour les messages contenant des médias, ceux-ci apparaissent avec la mention \"<Médias omis>\". Je décide de ne pas en tenir compte\n",
        "7.    Identification des mots les plus utilisés par les 5 personnes qui envoient le plus de message\n",
        "8.    Identification des emojis les plus utilisés"
      ]
    },
    {
      "cell_type": "code",
      "metadata": {
        "id": "P6aQJX4iLVPj"
      },
      "source": [
        "df = pd.read_csv('/content/drive/My Drive/Colab Notebooks/Discussion WhatsApp.txt', delimiter = \"\\t\", header = None, names = ['text'])\n",
        "\n",
        "# ------------------------------ Identification des lignes correspondant à des suites de message et replacement de ces derniers à la suite des messages auxquels ils appartiennent\n",
        "\n",
        "df['follow_message'] = df['text'].apply(lambda x: True if len(x) < 10 else (True if x[2] != '/' else False))\n",
        "df['text_def'] = df['text']\n",
        "for i in range(len(df['text'])):\n",
        "  if i != len(df['text'])-1 and df['follow_message'][i] == False and df['follow_message'][i+1] == False:\n",
        "    pass\n",
        "  elif df['follow_message'][i] == True:\n",
        "    start = i\n",
        "    while df['follow_message'][start] == True:\n",
        "      df['text_def'][i-1] = df['text_def'][i-1] + ' ' + df['text_def'][start]\n",
        "      start += 1\n",
        "\n",
        "df = df.loc[df['follow_message'] == False].drop(columns=['text','follow_message'])\n",
        "\n",
        "# ------------------------------ Extraction des dates et heures\n",
        "\n",
        "df[['datetime_str','no_date']] = df[\"text_def\"].str.split(' - ', 1, expand=True)\n",
        "df['datetime_str'] = df['datetime_str'].str.replace(' à', '')\n",
        "df['datetime_str'] = pd.to_datetime(df['datetime_str'])\n",
        "\n",
        "# ------------------------------ Extraction des expéditeurs\n",
        "\n",
        "df = df.loc[df['no_date'].str.contains(':')==True]\n",
        "df[['sender','text_message']] = df['no_date'].str.split(': ', 1, expand=True)\n",
        "\n",
        "# ------------------------------ Anonymisation\n",
        "\n",
        "senders = list(df['sender'].unique())\n",
        "anonyme = []\n",
        "for i in range(len(df['sender'].unique())):\n",
        "  anonyme.append('sender_{}'.format(i+1))\n",
        "df['sender'] = df['sender'].replace(senders, anonyme)\n",
        "\n",
        "# ------------------------------ Création de colonnes \"day_of_week\" et \"hour_of_day\" pour le Heatmap\n",
        "\n",
        "df['day_of_week'] = df['datetime_str'].dt.dayofweek + 1\n",
        "df['hour_of_day'] = df['datetime_str'].dt.hour\n",
        "heatmap_df = df.pivot_table(index='day_of_week', columns='hour_of_day', values='text_message', aggfunc='count')\n",
        "\n",
        "# ------------------------------ Repérer les mots les plus utilisés\n",
        "\n",
        "stop_words = list(stopwords.words('french'))\n",
        "stop_words.extend(['a','’','je','ça','ca','c','j','et','...'])\n",
        "\n",
        "all_words = ''\n",
        "\n",
        "# Certains messages correspondent en réalité à des médias et sont inscrits \"<Médias omis>\". On n'en tient pas compte pour la suite\n",
        "for i in df['text_message'].loc[df['text_message'].str.lower().str.contains('médias omis')==False]:\n",
        "  all_words = all_words + ' ' + i\n",
        "\n",
        "df_words = pd.DataFrame({'words' : word_tokenize(all_words)})\n",
        "df_words['no_stop_words'] = df_words['words'].apply(lambda x: x.lower() if x.lower() not in stop_words and x.lower() not in list(string.punctuation) else np.NaN)\n",
        "\n",
        "df_top_words = pd.DataFrame({'words' : list(df_words['no_stop_words'].value_counts().head(20).index),\n",
        "                                  'count' : list(df_words['no_stop_words'].value_counts().head(20).values)})\n",
        "\n",
        "# ------------------------------ Mots les plus utilisés par expéditeur (top 5 des expéditeurs)\n",
        "\n",
        "df_by_sender = pd.DataFrame()\n",
        "\n",
        "for i in range(5):\n",
        "  sender = df['sender'].value_counts().head(5).index[i]\n",
        "  df_sender = df.loc[df['sender'] == sender].loc[df['text_message'].str.lower().str.contains('médias omis')==False]\n",
        "  all_words_sender = ''\n",
        "  for j in df_sender['text_message']:\n",
        "    all_words_sender = all_words_sender + ' ' + j\n",
        "  df_words_sender = pd.DataFrame({'sender' : sender, 'words' : word_tokenize(all_words_sender)})\n",
        "  df_words_sender['no_stop_words'] = df_words_sender['words'].apply(lambda x: x.lower() if x.lower() not in stop_words and x.lower() not in list(string.punctuation) else np.NaN)\n",
        "  df_words_sender_top = pd.DataFrame({'sender' : sender, 'words' : list(df_words_sender['no_stop_words'].value_counts().head(20).index), 'count' : list(df_words_sender['no_stop_words'].value_counts().head(20).values)})\n",
        "\n",
        "  df_by_sender = pd.concat([df_by_sender, df_words_sender_top], axis = 0)\n",
        "\n",
        "# ------------------------------ Top 10 des emojis\n",
        "\n",
        "df_words['emoji'] = df_words['no_stop_words'].apply(lambda x: x if x in emoji.UNICODE_EMOJI and x != '\\U0001f3fc' else np.NaN)\n",
        "\n",
        "df_top_emoji = pd.DataFrame({'emoji' : list(df_words['emoji'].value_counts().head(10).index), 'count' : list(df_words['emoji'].value_counts().head(10).values)})"
      ],
      "execution_count": null,
      "outputs": []
    },
    {
      "cell_type": "markdown",
      "metadata": {
        "id": "MgkGaapByOIZ"
      },
      "source": [
        "# A quel moment de la journée et quel jour de la semaine il y a le plus de messages ?"
      ]
    },
    {
      "cell_type": "code",
      "metadata": {
        "id": "VMB2Vh0KWqZV",
        "outputId": "9e20a611-34c9-46b7-abf9-f1c81a0f4826",
        "colab": {
          "base_uri": "https://localhost:8080/",
          "height": 326
        }
      },
      "source": [
        "# Heatmap\n",
        "plt.pcolor(heatmap_df, cmap='Reds')\n",
        "plt.xlabel(\"Hour of Day\")\n",
        "plt.ylabel(\"Day of Week\")\n",
        "plt.colorbar()\n",
        "plt.tight_layout()\n",
        "plt.title('Nombre de messages envoyés par heure de la journée et par jour de la semaine')\n",
        "plt.show()"
      ],
      "execution_count": null,
      "outputs": [
        {
          "output_type": "execute_result",
          "data": {
            "text/plain": [
              "<matplotlib.collections.PolyCollection at 0x7f803e2f3668>"
            ]
          },
          "metadata": {
            "tags": []
          },
          "execution_count": 50
        },
        {
          "output_type": "execute_result",
          "data": {
            "text/plain": [
              "Text(0.5, 0, 'Hour of Day')"
            ]
          },
          "metadata": {
            "tags": []
          },
          "execution_count": 50
        },
        {
          "output_type": "execute_result",
          "data": {
            "text/plain": [
              "Text(0, 0.5, 'Day of Week')"
            ]
          },
          "metadata": {
            "tags": []
          },
          "execution_count": 50
        },
        {
          "output_type": "execute_result",
          "data": {
            "text/plain": [
              "<matplotlib.colorbar.Colorbar at 0x7f803e5627b8>"
            ]
          },
          "metadata": {
            "tags": []
          },
          "execution_count": 50
        },
        {
          "output_type": "execute_result",
          "data": {
            "text/plain": [
              "Text(0.5, 1.0, 'Nombre de messages envoyés par heure de la journée et par jour de la semaine')"
            ]
          },
          "metadata": {
            "tags": []
          },
          "execution_count": 50
        },
        {
          "output_type": "display_data",
          "data": {
            "image/png": "[encoded data removed]",
            "text/plain": [
              "<Figure size 432x288 with 2 Axes>"
            ]
          },
          "metadata": {
            "tags": [],
            "needs_background": "light"
          }
        }
      ]
    },
    {
      "cell_type": "markdown",
      "metadata": {
        "id": "Kr_bBlQTEEF9"
      },
      "source": [
        "Les moments où les messages sont les plus envoyés sont :\n",
        "*    en début de journée (entre 5h et 8h) et début d'après-midi (vers 13h)\n",
        "*    plutôt en début de semaine (Mardi et Mercredi)"
      ]
    },
    {
      "cell_type": "markdown",
      "metadata": {
        "id": "c_S4IEKyDoNG"
      },
      "source": [
        "# Quelles sont les contributions des membres du groupe (classement par nombre de messages envoyés) ?"
      ]
    },
    {
      "cell_type": "code",
      "metadata": {
        "id": "srNd8mbqhtvE",
        "outputId": "bba4e352-a459-430e-abac-50c1abb76567",
        "colab": {
          "base_uri": "https://localhost:8080/",
          "height": 542
        }
      },
      "source": [
        "# Histogram\n",
        "fig = px.histogram(data_frame=df, x='sender').update_xaxes(categoryorder='total descending')\n",
        "fig.update_layout(title = 'Contribution des membres', title_x = 0.5)"
      ],
      "execution_count": null,
      "outputs": [
        {
          "output_type": "display_data",
          "data": {
            "text/html": [
              "<html>\n",
              "<head><meta charset=\"utf-8\" /></head>\n",
              "<body>\n",
              "    <div>\n",
              "            <script src=\"https://cdnjs.cloudflare.com/ajax/libs/mathjax/2.7.5/MathJax.js?config=TeX-AMS-MML_SVG\"></script><script type=\"text/javascript\">if (window.MathJax) {MathJax.Hub.Config({SVG: {font: \"STIX-Web\"}});}</script>\n",
              "                <script type=\"text/javascript\">window.PlotlyConfig = {MathJaxConfig: 'local'};</script>\n",
              "        <script src=\"https://cdn.plot.ly/plotly-latest.min.js\"></script>    \n",
              "            <div id=\"64fdefbe-fef0-47fe-8d94-53e13cc1db09\" class=\"plotly-graph-div\" style=\"height:525px; width:100%;\"></div>\n",
              "            <script type=\"text/javascript\">\n",
              "                \n",
              "                    window.PLOTLYENV=window.PLOTLYENV || {};\n",
              "                    \n",
              "                if (document.getElementById(\"64fdefbe-fef0-47fe-8d94-53e13cc1db09\")) {\n",
              "                    Plotly.newPlot(\n",
              "                        '64fdefbe-fef0-47fe-8d94-53e13cc1db09',\n",
              "                        [{\"alignmentgroup\": \"True\", \"bingroup\": \"x\", \"hoverlabel\": {\"namelength\": 0}, \"hovertemplate\": \"sender=%{x}<br>count=%{y}\", \"legendgroup\": \"\", \"marker\": {\"color\": \"#636efa\"}, \"name\": \"\", \"offsetgroup\": \"\", \"orientation\": \"v\", \"showlegend\": false, \"type\": \"histogram\", \"x\": [\"sender_1\", \"sender_2\", \"sender_3\", \"sender_1\", \"sender_1\", \"sender_4\", \"sender_5\", \"sender_5\", \"sender_4\", \"sender_4\", \"sender_6\", \"sender_7\", \"sender_4\", \"sender_8\", \"sender_8\", \"sender_4\", \"sender_4\", \"sender_8\", \"sender_4\", \"sender_4\", \"sender_5\", \"sender_1\", \"sender_5\", \"sender_5\", \"sender_3\", \"sender_4\", \"sender_5\", \"sender_4\", \"sender_5\", \"sender_1\", \"sender_1\", \"sender_4\", \"sender_5\", \"sender_5\", \"sender_4\", \"sender_4\", \"sender_9\", \"sender_3\", \"sender_4\", \"sender_4\", \"sender_4\", \"sender_7\", \"sender_4\", \"sender_4\", \"sender_1\", \"sender_4\", \"sender_4\", \"sender_4\", \"sender_1\", \"sender_1\", \"sender_4\", \"sender_4\", \"sender_1\", \"sender_4\", \"sender_4\", \"sender_1\", \"sender_4\", \"sender_4\", \"sender_1\", \"sender_7\", \"sender_4\", \"sender_2\", \"sender_1\", \"sender_4\", \"sender_4\", \"sender_4\", \"sender_1\", \"sender_4\", \"sender_4\", \"sender_4\", \"sender_4\", \"sender_1\", \"sender_1\", \"sender_4\", \"sender_4\", \"sender_4\", \"sender_1\", \"sender_4\", \"sender_1\", \"sender_4\", \"sender_10\", \"sender_11\", \"sender_1\", \"sender_1\", \"sender_4\", \"sender_1\", \"sender_1\", \"sender_1\", \"sender_5\", \"sender_4\", \"sender_4\", \"sender_1\", \"sender_3\", \"sender_4\", \"sender_1\", \"sender_4\", \"sender_3\", \"sender_4\", \"sender_3\", \"sender_4\", \"sender_4\", \"sender_3\", \"sender_3\", \"sender_4\", \"sender_7\", \"sender_1\", \"sender_8\", \"sender_8\", \"sender_10\", \"sender_8\", \"sender_10\", \"sender_8\", \"sender_10\", \"sender_4\", \"sender_4\", \"sender_4\", \"sender_1\", \"sender_4\", \"sender_4\", \"sender_3\", \"sender_4\", \"sender_3\", \"sender_1\", \"sender_3\", \"sender_4\", \"sender_4\", \"sender_4\", \"sender_3\", \"sender_4\", \"sender_4\", \"sender_4\", \"sender_4\", \"sender_8\", \"sender_4\", \"sender_3\", \"sender_4\", \"sender_4\", \"sender_7\", \"sender_8\", \"sender_4\", \"sender_8\", \"sender_3\", \"sender_4\", \"sender_4\", \"sender_4\", \"sender_8\", \"sender_4\", \"sender_8\", \"sender_4\", \"sender_3\", \"sender_8\", \"sender_8\", \"sender_3\", \"sender_8\", \"sender_7\", \"sender_8\", \"sender_3\", \"sender_4\", \"sender_3\", \"sender_7\", \"sender_7\", \"sender_4\", \"sender_4\", \"sender_3\", \"sender_8\", \"sender_4\", \"sender_4\", \"sender_3\", \"sender_4\", \"sender_4\", \"sender_3\", \"sender_4\", \"sender_4\", \"sender_2\", \"sender_4\", \"sender_4\", \"sender_5\", \"sender_5\", \"sender_4\", \"sender_4\", \"sender_12\", \"sender_4\", \"sender_3\", \"sender_5\", \"sender_5\", \"sender_4\", \"sender_3\", \"sender_1\", \"sender_5\", \"sender_3\", \"sender_5\", \"sender_5\", \"sender_5\", \"sender_1\", \"sender_4\", \"sender_1\", \"sender_3\", \"sender_9\", \"sender_1\", \"sender_1\", \"sender_5\", \"sender_1\", \"sender_5\", \"sender_1\", \"sender_5\", \"sender_1\", \"sender_1\", \"sender_1\", \"sender_5\", \"sender_5\", \"sender_1\", \"sender_4\", \"sender_5\", \"sender_4\", \"sender_4\", \"sender_5\", \"sender_8\", \"sender_4\", \"sender_3\", \"sender_7\", \"sender_1\", \"sender_5\", \"sender_5\", \"sender_4\", \"sender_4\", \"sender_13\", \"sender_13\", \"sender_4\", \"sender_4\", \"sender_4\", \"sender_4\", \"sender_4\", \"sender_3\", \"sender_7\", \"sender_1\", \"sender_5\", \"sender_1\", \"sender_6\", \"sender_8\", \"sender_4\", \"sender_4\", \"sender_1\", \"sender_5\", \"sender_3\", \"sender_1\", \"sender_3\", \"sender_1\", \"sender_7\", \"sender_1\", \"sender_4\", \"sender_3\", \"sender_4\", \"sender_5\", \"sender_10\", \"sender_4\", \"sender_4\", \"sender_4\", \"sender_3\", \"sender_3\", \"sender_7\", \"sender_4\", \"sender_4\", \"sender_3\", \"sender_4\", \"sender_3\", \"sender_4\", \"sender_3\", \"sender_7\", \"sender_7\", \"sender_4\", \"sender_3\", \"sender_1\", \"sender_7\", \"sender_4\", \"sender_4\", \"sender_4\", \"sender_7\", \"sender_4\", \"sender_4\", \"sender_4\", \"sender_4\", \"sender_7\", \"sender_3\", \"sender_4\", \"sender_5\", \"sender_4\", \"sender_4\", \"sender_5\", \"sender_10\", \"sender_4\", \"sender_4\", \"sender_4\", \"sender_1\", \"sender_4\", \"sender_4\", \"sender_9\", \"sender_4\", \"sender_4\", \"sender_9\", \"sender_4\", \"sender_4\", \"sender_4\", \"sender_7\", \"sender_8\", \"sender_14\", \"sender_1\", \"sender_3\", \"sender_10\", \"sender_4\", \"sender_4\", \"sender_4\", \"sender_4\", \"sender_3\", \"sender_4\", \"sender_3\", \"sender_4\", \"sender_4\", \"sender_3\", \"sender_4\", \"sender_4\", \"sender_4\", \"sender_3\", \"sender_4\", \"sender_7\", \"sender_7\", \"sender_1\", \"sender_4\", \"sender_10\", \"sender_3\", \"sender_4\", \"sender_3\", \"sender_4\", \"sender_4\", \"sender_4\", \"sender_1\", \"sender_3\", \"sender_11\", \"sender_3\", \"sender_11\", \"sender_3\", \"sender_4\", \"sender_12\", \"sender_4\", \"sender_4\", \"sender_7\", \"sender_4\", \"sender_7\", \"sender_3\", \"sender_1\", \"sender_5\", \"sender_13\", \"sender_4\", \"sender_4\", \"sender_7\", \"sender_4\", \"sender_4\", \"sender_4\", \"sender_4\", \"sender_12\", \"sender_4\", \"sender_4\", \"sender_4\", \"sender_4\", \"sender_4\", \"sender_4\", \"sender_4\", \"sender_7\", \"sender_4\", \"sender_3\", \"sender_4\", \"sender_4\", \"sender_3\", \"sender_4\", \"sender_4\", \"sender_7\", \"sender_10\", \"sender_7\", \"sender_3\", \"sender_7\", \"sender_1\", \"sender_14\", \"sender_7\", \"sender_4\", \"sender_1\", \"sender_13\", \"sender_4\", \"sender_4\", \"sender_3\", \"sender_4\", \"sender_4\", \"sender_7\", \"sender_4\", \"sender_4\", \"sender_7\", \"sender_4\", \"sender_4\", \"sender_3\", \"sender_7\", \"sender_5\", \"sender_4\", \"sender_4\", \"sender_3\", \"sender_4\", \"sender_4\", \"sender_7\", \"sender_4\", \"sender_4\", \"sender_7\", \"sender_4\", \"sender_12\", \"sender_4\", \"sender_4\", \"sender_4\", \"sender_4\", \"sender_3\", \"sender_1\", \"sender_7\", \"sender_4\", \"sender_4\", \"sender_15\", \"sender_4\", \"sender_3\", \"sender_3\", \"sender_4\", \"sender_4\", \"sender_4\", \"sender_4\", \"sender_3\", \"sender_4\", \"sender_4\", \"sender_3\", \"sender_13\", \"sender_13\", \"sender_13\", \"sender_13\", \"sender_13\", \"sender_13\", \"sender_13\", \"sender_13\", \"sender_13\", \"sender_13\", \"sender_13\", \"sender_13\", \"sender_4\", \"sender_4\", \"sender_4\", \"sender_4\", \"sender_3\", \"sender_4\", \"sender_7\", \"sender_11\", \"sender_5\", \"sender_5\", \"sender_3\", \"sender_9\", \"sender_9\", \"sender_9\", \"sender_7\", \"sender_5\", \"sender_4\", \"sender_4\", \"sender_3\", \"sender_4\", \"sender_4\", \"sender_4\", \"sender_5\", \"sender_3\", \"sender_5\", \"sender_4\", \"sender_4\", \"sender_5\", \"sender_4\", \"sender_4\", \"sender_4\", \"sender_1\", \"sender_7\", \"sender_4\", \"sender_7\", \"sender_3\", \"sender_4\", \"sender_1\", \"sender_1\", \"sender_4\", \"sender_4\", \"sender_1\", \"sender_4\", \"sender_7\", \"sender_5\", \"sender_1\", \"sender_1\", \"sender_4\", \"sender_1\", \"sender_1\", \"sender_3\", \"sender_1\", \"sender_3\", \"sender_7\", \"sender_4\", \"sender_13\", \"sender_4\", \"sender_4\", \"sender_4\", \"sender_4\", \"sender_3\", \"sender_4\", \"sender_1\", \"sender_3\", \"sender_6\", \"sender_6\", \"sender_8\", \"sender_8\", \"sender_3\", \"sender_1\", \"sender_4\", \"sender_8\", \"sender_10\", \"sender_1\", \"sender_4\", \"sender_4\", \"sender_3\", \"sender_3\", \"sender_1\", \"sender_3\", \"sender_8\", \"sender_3\", \"sender_4\", \"sender_3\", \"sender_6\", \"sender_4\", \"sender_4\", \"sender_7\", \"sender_4\", \"sender_4\", \"sender_9\", \"sender_7\", \"sender_4\", \"sender_4\", \"sender_4\", \"sender_9\", \"sender_3\", \"sender_13\", \"sender_12\", \"sender_4\", \"sender_1\", \"sender_13\", \"sender_7\", \"sender_1\", \"sender_7\", \"sender_1\", \"sender_5\", \"sender_1\", \"sender_5\", \"sender_3\", \"sender_4\", \"sender_6\", \"sender_4\", \"sender_4\", \"sender_4\", \"sender_4\", \"sender_7\", \"sender_4\", \"sender_4\", \"sender_6\", \"sender_4\", \"sender_4\", \"sender_4\", \"sender_6\", \"sender_4\", \"sender_6\", \"sender_4\", \"sender_4\", \"sender_4\", \"sender_4\", \"sender_4\", \"sender_4\", \"sender_4\", \"sender_6\", \"sender_4\", \"sender_5\", \"sender_8\", \"sender_5\", \"sender_1\", \"sender_4\", \"sender_8\", \"sender_1\", \"sender_7\", \"sender_4\", \"sender_14\", \"sender_7\", \"sender_7\", \"sender_1\", \"sender_4\", \"sender_4\", \"sender_4\", \"sender_4\", \"sender_5\", \"sender_3\", \"sender_4\", \"sender_1\", \"sender_4\", \"sender_5\", \"sender_13\", \"sender_4\", \"sender_4\", \"sender_3\", \"sender_1\", \"sender_14\", \"sender_12\", \"sender_14\", \"sender_7\", \"sender_5\", \"sender_13\", \"sender_4\", \"sender_4\", \"sender_4\", \"sender_4\", \"sender_1\", \"sender_4\", \"sender_1\", \"sender_4\", \"sender_4\", \"sender_14\", \"sender_4\", \"sender_1\", \"sender_1\", \"sender_4\", \"sender_4\", \"sender_4\", \"sender_4\", \"sender_4\", \"sender_3\", \"sender_4\", \"sender_1\", \"sender_4\", \"sender_14\", \"sender_14\", \"sender_3\", \"sender_4\", \"sender_4\", \"sender_10\", \"sender_14\", \"sender_4\", \"sender_11\", \"sender_5\", \"sender_1\", \"sender_1\", \"sender_4\", \"sender_4\", \"sender_4\", \"sender_7\", \"sender_7\", \"sender_7\", \"sender_4\", \"sender_4\", \"sender_4\", \"sender_7\", \"sender_4\", \"sender_4\", \"sender_4\", \"sender_7\", \"sender_7\", \"sender_4\", \"sender_7\", \"sender_4\", \"sender_1\", \"sender_3\", \"sender_4\", \"sender_4\", \"sender_4\", \"sender_4\", \"sender_6\", \"sender_4\", \"sender_4\", \"sender_7\", \"sender_8\", \"sender_11\", \"sender_12\", \"sender_1\", \"sender_14\", \"sender_7\", \"sender_4\", \"sender_4\", \"sender_3\", \"sender_4\", \"sender_1\", \"sender_5\", \"sender_1\", \"sender_13\", \"sender_14\", \"sender_10\", \"sender_6\", \"sender_1\", \"sender_7\", \"sender_4\", \"sender_4\", \"sender_13\", \"sender_13\", \"sender_4\", \"sender_4\", \"sender_4\", \"sender_4\", \"sender_3\", \"sender_4\", \"sender_4\", \"sender_4\", \"sender_3\", \"sender_4\", \"sender_3\", \"sender_5\", \"sender_4\", \"sender_14\", \"sender_3\", \"sender_1\", \"sender_4\", \"sender_4\", \"sender_13\", \"sender_4\", \"sender_13\", \"sender_4\", \"sender_3\", \"sender_1\", \"sender_14\", \"sender_12\", \"sender_11\", \"sender_11\", \"sender_6\", \"sender_7\", \"sender_8\", \"sender_6\", \"sender_4\", \"sender_7\", \"sender_4\", \"sender_4\", \"sender_4\", \"sender_4\", \"sender_4\", \"sender_3\", \"sender_4\", \"sender_4\", \"sender_3\", \"sender_4\", \"sender_3\", \"sender_4\", \"sender_3\", \"sender_4\", \"sender_4\", \"sender_4\", \"sender_4\", \"sender_4\", \"sender_3\", \"sender_4\", \"sender_4\", \"sender_4\", \"sender_9\", \"sender_4\", \"sender_3\", \"sender_4\", \"sender_4\", \"sender_4\", \"sender_4\", \"sender_3\", \"sender_4\", \"sender_3\", \"sender_4\", \"sender_4\", \"sender_4\", \"sender_4\", \"sender_4\", \"sender_3\", \"sender_4\", \"sender_4\", \"sender_3\", \"sender_4\", \"sender_4\", \"sender_5\", \"sender_10\", \"sender_4\", \"sender_4\", \"sender_5\", \"sender_4\", \"sender_3\", \"sender_4\", \"sender_3\", \"sender_1\", \"sender_5\", \"sender_5\", \"sender_4\", \"sender_10\", \"sender_1\", \"sender_10\", \"sender_4\", \"sender_4\", \"sender_1\", \"sender_4\", \"sender_1\", \"sender_1\", \"sender_4\", \"sender_4\", \"sender_4\", \"sender_7\", \"sender_4\", \"sender_7\", \"sender_1\", \"sender_7\", \"sender_7\", \"sender_5\", \"sender_1\", \"sender_4\", \"sender_3\", \"sender_14\", \"sender_4\", \"sender_4\", \"sender_7\", \"sender_4\", \"sender_4\", \"sender_7\", \"sender_4\", \"sender_1\", \"sender_4\", \"sender_4\", \"sender_4\", \"sender_1\", \"sender_4\", \"sender_3\", \"sender_4\", \"sender_3\", \"sender_4\", \"sender_5\", \"sender_14\", \"sender_3\", \"sender_4\", \"sender_4\", \"sender_7\", \"sender_4\", \"sender_4\", \"sender_4\", \"sender_4\", \"sender_4\", \"sender_7\", \"sender_4\", \"sender_4\", \"sender_4\", \"sender_4\", \"sender_7\", \"sender_4\", \"sender_4\", \"sender_4\", \"sender_3\", \"sender_4\", \"sender_4\", \"sender_4\", \"sender_1\", \"sender_4\", \"sender_4\", \"sender_3\", \"sender_4\", \"sender_4\", \"sender_7\", \"sender_4\", \"sender_6\", \"sender_7\", \"sender_4\", \"sender_7\", \"sender_4\", \"sender_7\", \"sender_4\", \"sender_4\", \"sender_4\", \"sender_4\", \"sender_4\", \"sender_4\", \"sender_4\", \"sender_4\", \"sender_3\", \"sender_4\", \"sender_4\", \"sender_4\", \"sender_14\", \"sender_4\", \"sender_4\", \"sender_3\", \"sender_4\", \"sender_4\", \"sender_4\", \"sender_8\", \"sender_4\", \"sender_4\", \"sender_4\", \"sender_4\", \"sender_13\", \"sender_4\", \"sender_13\", \"sender_4\", \"sender_4\", \"sender_4\", \"sender_3\", \"sender_4\", \"sender_4\", \"sender_4\", \"sender_4\", \"sender_4\", \"sender_4\", \"sender_9\", \"sender_12\", \"sender_4\", \"sender_7\", \"sender_7\", \"sender_4\", \"sender_7\", \"sender_4\", \"sender_4\", \"sender_4\", \"sender_4\", \"sender_4\", \"sender_4\", \"sender_5\", \"sender_3\", \"sender_5\", \"sender_4\", \"sender_4\", \"sender_5\", \"sender_4\", \"sender_5\", \"sender_4\", \"sender_5\", \"sender_4\", \"sender_5\", \"sender_5\", \"sender_7\", \"sender_7\", \"sender_4\", \"sender_5\", \"sender_4\", \"sender_4\", \"sender_4\", \"sender_6\", \"sender_4\", \"sender_4\", \"sender_4\", \"sender_4\", \"sender_4\", \"sender_4\", \"sender_3\", \"sender_14\", \"sender_3\", \"sender_11\", \"sender_3\", \"sender_4\", \"sender_4\", \"sender_4\", \"sender_4\", \"sender_5\", \"sender_14\", \"sender_14\", \"sender_3\", \"sender_4\", \"sender_4\", \"sender_5\", \"sender_4\", \"sender_4\", \"sender_5\", \"sender_5\", \"sender_4\", \"sender_4\", \"sender_5\", \"sender_5\", \"sender_4\", \"sender_4\", \"sender_4\", \"sender_4\", \"sender_4\", \"sender_4\", \"sender_3\", \"sender_4\", \"sender_9\", \"sender_5\", \"sender_14\", \"sender_4\", \"sender_4\", \"sender_4\", \"sender_3\", \"sender_4\", \"sender_5\", \"sender_3\", \"sender_4\", \"sender_3\", \"sender_4\", \"sender_4\", \"sender_1\", \"sender_4\", \"sender_11\", \"sender_4\", \"sender_7\", \"sender_9\", \"sender_3\", \"sender_4\", \"sender_7\", \"sender_4\", \"sender_4\", \"sender_3\", \"sender_7\", \"sender_4\", \"sender_7\", \"sender_4\", \"sender_4\", \"sender_7\", \"sender_4\", \"sender_3\", \"sender_4\", \"sender_4\", \"sender_3\", \"sender_9\", \"sender_9\", \"sender_4\", \"sender_1\", \"sender_4\", \"sender_4\", \"sender_4\", \"sender_4\", \"sender_4\", \"sender_4\", \"sender_4\", \"sender_1\", \"sender_4\", \"sender_3\", \"sender_4\", \"sender_4\", \"sender_3\", \"sender_14\", \"sender_4\", \"sender_4\", \"sender_14\", \"sender_4\", \"sender_4\", \"sender_4\", \"sender_11\", \"sender_4\", \"sender_4\", \"sender_4\", \"sender_4\", \"sender_4\", \"sender_4\", \"sender_4\", \"sender_11\", \"sender_4\", \"sender_4\", \"sender_4\", \"sender_4\", \"sender_4\", \"sender_4\", \"sender_4\", \"sender_4\", \"sender_4\", \"sender_11\", \"sender_4\", \"sender_4\", \"sender_4\", \"sender_7\", \"sender_4\", \"sender_4\", \"sender_4\", \"sender_4\", \"sender_11\", \"sender_4\", \"sender_4\", \"sender_4\", \"sender_4\", \"sender_4\", \"sender_12\", \"sender_12\", \"sender_4\", \"sender_12\", \"sender_4\", \"sender_4\", \"sender_12\", \"sender_4\", \"sender_4\", \"sender_4\", \"sender_12\", \"sender_12\", \"sender_4\", \"sender_4\", \"sender_12\", \"sender_4\", \"sender_4\", \"sender_12\", \"sender_12\", \"sender_4\", \"sender_12\", \"sender_4\", \"sender_4\", \"sender_4\", \"sender_4\", \"sender_4\", \"sender_4\", \"sender_12\", \"sender_4\", \"sender_4\", \"sender_4\", \"sender_12\", \"sender_4\", \"sender_4\", \"sender_3\", \"sender_8\", \"sender_10\", \"sender_3\", \"sender_4\", \"sender_4\", \"sender_4\", \"sender_4\", \"sender_10\", \"sender_4\", \"sender_3\", \"sender_4\", \"sender_8\", \"sender_10\", \"sender_8\", \"sender_4\", \"sender_4\", \"sender_8\", \"sender_4\", \"sender_3\", \"sender_4\", \"sender_4\", \"sender_4\", \"sender_4\", \"sender_4\", \"sender_8\", \"sender_6\", \"sender_4\", \"sender_3\", \"sender_4\", \"sender_10\", \"sender_4\", \"sender_8\", \"sender_4\", \"sender_4\", \"sender_4\", \"sender_3\", \"sender_4\", \"sender_4\", \"sender_3\", \"sender_4\", \"sender_4\", \"sender_4\", \"sender_8\", \"sender_4\", \"sender_4\", \"sender_4\", \"sender_9\", \"sender_8\", \"sender_4\", \"sender_4\", \"sender_12\", \"sender_4\", \"sender_4\", \"sender_4\", \"sender_12\", \"sender_10\", \"sender_4\", \"sender_4\", \"sender_10\", \"sender_10\", \"sender_12\", \"sender_4\", \"sender_4\", \"sender_4\", \"sender_12\", \"sender_9\", \"sender_4\", \"sender_4\", \"sender_4\", \"sender_9\", \"sender_4\", \"sender_10\", \"sender_5\", \"sender_4\", \"sender_9\", \"sender_4\", \"sender_8\", \"sender_4\", \"sender_4\", \"sender_12\", \"sender_4\", \"sender_4\", \"sender_8\", \"sender_4\", \"sender_8\", \"sender_5\", \"sender_4\", \"sender_10\", \"sender_9\", \"sender_3\", \"sender_3\", \"sender_10\", \"sender_4\", \"sender_4\", \"sender_9\", \"sender_7\", \"sender_4\", \"sender_4\", \"sender_9\", \"sender_9\", \"sender_4\", \"sender_14\", \"sender_3\", \"sender_14\", \"sender_4\", \"sender_4\", \"sender_6\", \"sender_4\", \"sender_4\", \"sender_4\", \"sender_10\", \"sender_4\", \"sender_4\", \"sender_7\", \"sender_10\", \"sender_8\", \"sender_8\", \"sender_4\", \"sender_4\", \"sender_8\", \"sender_10\", \"sender_4\", \"sender_4\", \"sender_8\", \"sender_10\", \"sender_6\", \"sender_4\", \"sender_4\", \"sender_4\", \"sender_4\", \"sender_15\", \"sender_10\", \"sender_15\", \"sender_15\", \"sender_3\", \"sender_10\", \"sender_4\", \"sender_8\", \"sender_4\", \"sender_4\", \"sender_15\", \"sender_12\", \"sender_4\", \"sender_4\", \"sender_4\", \"sender_14\", \"sender_4\", \"sender_12\", \"sender_4\", \"sender_4\", \"sender_12\", \"sender_4\", \"sender_14\", \"sender_4\", \"sender_12\", \"sender_8\", \"sender_4\", \"sender_4\", \"sender_7\", \"sender_4\", \"sender_10\", \"sender_4\", \"sender_4\", \"sender_4\", \"sender_9\", \"sender_4\", \"sender_10\", \"sender_4\", \"sender_4\", \"sender_8\", \"sender_4\", \"sender_8\", \"sender_4\", \"sender_4\", \"sender_4\", \"sender_10\", \"sender_4\", \"sender_4\", \"sender_10\", \"sender_7\", \"sender_4\", \"sender_4\", \"sender_4\", \"sender_12\", \"sender_4\", \"sender_4\", \"sender_7\", \"sender_4\", \"sender_10\", \"sender_7\", \"sender_4\", \"sender_12\", \"sender_12\", \"sender_9\", \"sender_4\", \"sender_14\", \"sender_6\", \"sender_5\", \"sender_4\", \"sender_6\", \"sender_4\", \"sender_6\", \"sender_4\", \"sender_4\", \"sender_6\", \"sender_7\", \"sender_12\", \"sender_10\", \"sender_8\", \"sender_7\", \"sender_4\", \"sender_4\", \"sender_4\", \"sender_7\", \"sender_3\", \"sender_12\", \"sender_4\", \"sender_6\", \"sender_8\", \"sender_3\", \"sender_12\", \"sender_8\", \"sender_3\", \"sender_12\", \"sender_8\", \"sender_4\", \"sender_5\", \"sender_5\", \"sender_12\", \"sender_4\", \"sender_8\", \"sender_4\", \"sender_4\", \"sender_4\", \"sender_4\", \"sender_8\", \"sender_3\", \"sender_8\", \"sender_4\", \"sender_4\", \"sender_3\", \"sender_3\", \"sender_4\", \"sender_3\", \"sender_7\", \"sender_4\", \"sender_4\", \"sender_4\", \"sender_9\", \"sender_3\", \"sender_5\", \"sender_9\", \"sender_5\", \"sender_4\", \"sender_3\", \"sender_3\", \"sender_8\", \"sender_4\", \"sender_5\", \"sender_4\", \"sender_10\", \"sender_4\", \"sender_4\", \"sender_7\", \"sender_5\", \"sender_4\", \"sender_4\", \"sender_8\", \"sender_4\", \"sender_10\", \"sender_4\", \"sender_6\", \"sender_8\", \"sender_4\", \"sender_4\", \"sender_6\", \"sender_8\", \"sender_3\", \"sender_7\", \"sender_4\", \"sender_8\", \"sender_8\", \"sender_7\", \"sender_4\", \"sender_8\", \"sender_3\", \"sender_4\", \"sender_8\", \"sender_8\", \"sender_4\", \"sender_8\", \"sender_4\", \"sender_14\", \"sender_14\", \"sender_14\", \"sender_4\", \"sender_10\", \"sender_12\", \"sender_4\", \"sender_14\", \"sender_14\", \"sender_14\", \"sender_11\", \"sender_8\", \"sender_9\", \"sender_4\", \"sender_4\", \"sender_14\", \"sender_3\", \"sender_7\", \"sender_5\", \"sender_14\", \"sender_7\", \"sender_7\", \"sender_12\", \"sender_14\", \"sender_12\", \"sender_14\", \"sender_12\", \"sender_8\", \"sender_4\", \"sender_10\", \"sender_4\", \"sender_8\", \"sender_6\", \"sender_8\", \"sender_12\", \"sender_4\", \"sender_4\", \"sender_6\", \"sender_7\", \"sender_8\", \"sender_8\", \"sender_4\", \"sender_6\", \"sender_4\", \"sender_4\", \"sender_4\", \"sender_4\", \"sender_7\", \"sender_4\", \"sender_7\", \"sender_4\", \"sender_14\", \"sender_14\", \"sender_14\", \"sender_5\", \"sender_12\", \"sender_4\", \"sender_4\", \"sender_7\", \"sender_4\", \"sender_14\", \"sender_4\", \"sender_14\", \"sender_14\", \"sender_12\", \"sender_4\", \"sender_14\", \"sender_5\", \"sender_7\", \"sender_14\", \"sender_8\", \"sender_3\", \"sender_4\", \"sender_4\", \"sender_4\", \"sender_3\", \"sender_4\", \"sender_4\", \"sender_3\", \"sender_4\", \"sender_10\", \"sender_11\", \"sender_4\", \"sender_4\", \"sender_8\", \"sender_3\", \"sender_4\", \"sender_4\", \"sender_4\", \"sender_3\", \"sender_7\", \"sender_7\", \"sender_7\", \"sender_7\", \"sender_7\", \"sender_7\", \"sender_7\", \"sender_11\", \"sender_3\", \"sender_7\", \"sender_3\", \"sender_7\", \"sender_7\", \"sender_4\", \"sender_11\", \"sender_8\", \"sender_3\", \"sender_7\", \"sender_3\", \"sender_5\", \"sender_7\", \"sender_4\", \"sender_3\", \"sender_8\", \"sender_7\", \"sender_3\", \"sender_14\", \"sender_14\", \"sender_7\", \"sender_7\", \"sender_11\", \"sender_7\", \"sender_11\", \"sender_3\", \"sender_7\", \"sender_7\", \"sender_3\", \"sender_7\", \"sender_7\", \"sender_3\", \"sender_4\", \"sender_3\", \"sender_4\", \"sender_11\", \"sender_4\", \"sender_14\", \"sender_3\", \"sender_4\", \"sender_3\", \"sender_4\", \"sender_3\", \"sender_4\", \"sender_3\", \"sender_4\", \"sender_4\", \"sender_8\", \"sender_3\", \"sender_4\", \"sender_7\", \"sender_14\", \"sender_4\", \"sender_4\", \"sender_3\", \"sender_4\", \"sender_4\", \"sender_4\", \"sender_3\", \"sender_4\", \"sender_14\", \"sender_4\", \"sender_4\", \"sender_7\", \"sender_3\", \"sender_4\", \"sender_7\", \"sender_4\", \"sender_4\", \"sender_14\", \"sender_4\", \"sender_4\", \"sender_4\", \"sender_4\", \"sender_3\", \"sender_4\", \"sender_4\", \"sender_7\", \"sender_4\", \"sender_14\", \"sender_4\", \"sender_14\", \"sender_4\", \"sender_4\", \"sender_4\", \"sender_3\", \"sender_3\", \"sender_7\", \"sender_7\", \"sender_4\", \"sender_4\", \"sender_14\", \"sender_4\", \"sender_4\", \"sender_14\", \"sender_4\", \"sender_4\", \"sender_3\", \"sender_4\", \"sender_4\", \"sender_3\", \"sender_4\", \"sender_7\", \"sender_4\", \"sender_4\", \"sender_4\", \"sender_16\", \"sender_4\", \"sender_8\", \"sender_4\", \"sender_4\", \"sender_4\", \"sender_4\", \"sender_8\", \"sender_4\", \"sender_10\", \"sender_8\", \"sender_8\", \"sender_9\", \"sender_10\", \"sender_4\", \"sender_4\", \"sender_12\", \"sender_4\", \"sender_12\", \"sender_4\", \"sender_4\", \"sender_12\", \"sender_4\", \"sender_4\", \"sender_4\", \"sender_14\", \"sender_4\", \"sender_12\", \"sender_4\", \"sender_12\", \"sender_8\", \"sender_4\", \"sender_8\", \"sender_4\", \"sender_4\", \"sender_8\", \"sender_4\", \"sender_4\", \"sender_8\", \"sender_4\", \"sender_4\", \"sender_4\", \"sender_3\", \"sender_1\", \"sender_10\", \"sender_8\", \"sender_4\", \"sender_14\", \"sender_3\", \"sender_8\", \"sender_14\", \"sender_7\", \"sender_4\", \"sender_3\", \"sender_3\", \"sender_4\", \"sender_4\", \"sender_4\", \"sender_4\", \"sender_3\", \"sender_4\", \"sender_12\", \"sender_10\", \"sender_7\", \"sender_4\", \"sender_4\", \"sender_4\", \"sender_4\", \"sender_4\", \"sender_4\", \"sender_14\", \"sender_4\", \"sender_4\", \"sender_4\", \"sender_3\", \"sender_4\", \"sender_4\", \"sender_3\", \"sender_3\", \"sender_4\", \"sender_4\", \"sender_4\", \"sender_3\", \"sender_4\", \"sender_4\", \"sender_6\", \"sender_4\", \"sender_4\", \"sender_10\", \"sender_6\", \"sender_4\", \"sender_4\", \"sender_6\", \"sender_6\", \"sender_3\", \"sender_4\", \"sender_4\", \"sender_3\", \"sender_3\", \"sender_4\", \"sender_4\", \"sender_3\", \"sender_4\", \"sender_4\", \"sender_3\", \"sender_4\", \"sender_4\", \"sender_3\", \"sender_4\", \"sender_3\", \"sender_4\", \"sender_4\", \"sender_4\", \"sender_3\", \"sender_3\", \"sender_4\", \"sender_4\", \"sender_3\", \"sender_4\", \"sender_4\", \"sender_12\", \"sender_4\", \"sender_4\", \"sender_4\", \"sender_4\", \"sender_3\", \"sender_8\", \"sender_12\", \"sender_3\", \"sender_4\", \"sender_4\", \"sender_4\", \"sender_4\", \"sender_4\", \"sender_7\", \"sender_4\", \"sender_4\", \"sender_10\", \"sender_3\", \"sender_4\", \"sender_4\", \"sender_16\", \"sender_8\", \"sender_10\", \"sender_3\", \"sender_8\", \"sender_10\", \"sender_8\", \"sender_7\", \"sender_8\", \"sender_4\", \"sender_4\", \"sender_7\", \"sender_10\", \"sender_4\", \"sender_4\", \"sender_4\", \"sender_3\", \"sender_4\", \"sender_8\", \"sender_4\", \"sender_4\", \"sender_8\", \"sender_4\", \"sender_4\", \"sender_4\", \"sender_4\", \"sender_4\", \"sender_4\", \"sender_4\", \"sender_4\", \"sender_8\", \"sender_4\", \"sender_8\", \"sender_4\", \"sender_4\", \"sender_4\", \"sender_4\", \"sender_4\", \"sender_8\", \"sender_10\", \"sender_4\", \"sender_4\", \"sender_4\", \"sender_4\", \"sender_4\", \"sender_3\", \"sender_8\", \"sender_7\", \"sender_4\", \"sender_10\", \"sender_4\", \"sender_4\", \"sender_4\", \"sender_4\", \"sender_7\", \"sender_4\", \"sender_6\", \"sender_4\", \"sender_14\", \"sender_7\", \"sender_4\", \"sender_4\", \"sender_16\", \"sender_4\", \"sender_14\", \"sender_10\", \"sender_7\", \"sender_3\", \"sender_7\", \"sender_3\", \"sender_4\", \"sender_4\", \"sender_8\", \"sender_7\", \"sender_4\", \"sender_4\", \"sender_5\", \"sender_3\", \"sender_10\", \"sender_4\", \"sender_4\", \"sender_8\", \"sender_10\", \"sender_4\", \"sender_4\", \"sender_4\", \"sender_4\", \"sender_7\", \"sender_4\", \"sender_4\", \"sender_4\", \"sender_4\", \"sender_4\", \"sender_4\", \"sender_4\", \"sender_4\", \"sender_4\", \"sender_10\", \"sender_7\", \"sender_3\", \"sender_14\", \"sender_3\", \"sender_7\", \"sender_7\", \"sender_7\", \"sender_14\", \"sender_3\", \"sender_3\", \"sender_14\", \"sender_14\", \"sender_3\", \"sender_14\", \"sender_7\", \"sender_14\", \"sender_4\", \"sender_14\", \"sender_3\", \"sender_16\", \"sender_8\", \"sender_4\", \"sender_4\", \"sender_8\", \"sender_4\", \"sender_4\", \"sender_11\", \"sender_4\", \"sender_11\", \"sender_4\", \"sender_4\", \"sender_11\", \"sender_4\", \"sender_4\", \"sender_11\", \"sender_16\", \"sender_14\", \"sender_4\", \"sender_11\", \"sender_7\", \"sender_4\", \"sender_4\", \"sender_14\", \"sender_16\", \"sender_14\", \"sender_4\", \"sender_14\", \"sender_14\", \"sender_4\", \"sender_7\", \"sender_8\", \"sender_4\", \"sender_14\", \"sender_7\", \"sender_10\", \"sender_7\", \"sender_4\", \"sender_8\", \"sender_4\", \"sender_4\", \"sender_12\", \"sender_7\", \"sender_14\", \"sender_8\", \"sender_4\", \"sender_4\", \"sender_14\", \"sender_6\", \"sender_9\", \"sender_14\", \"sender_4\", \"sender_7\", \"sender_4\", \"sender_3\", \"sender_9\", \"sender_4\", \"sender_4\", \"sender_3\", \"sender_7\", \"sender_4\", \"sender_4\", \"sender_8\", \"sender_4\", \"sender_4\", \"sender_4\", \"sender_8\", \"sender_4\", \"sender_7\", \"sender_4\", \"sender_14\", \"sender_4\", \"sender_8\", \"sender_4\", \"sender_8\", \"sender_4\", \"sender_14\", \"sender_7\", \"sender_4\", \"sender_14\", \"sender_4\", \"sender_4\", \"sender_8\", \"sender_4\", \"sender_4\", \"sender_4\", \"sender_4\", \"sender_7\", \"sender_4\", \"sender_4\", \"sender_7\", \"sender_7\", \"sender_4\", \"sender_4\", \"sender_9\", \"sender_7\", \"sender_14\", \"sender_9\", \"sender_7\", \"sender_8\", \"sender_9\", \"sender_7\", \"sender_4\", \"sender_4\", \"sender_16\", \"sender_7\", \"sender_3\", \"sender_4\", \"sender_4\", \"sender_12\", \"sender_3\", \"sender_12\", \"sender_3\", \"sender_3\", \"sender_12\", \"sender_3\", \"sender_13\", \"sender_4\", \"sender_4\", \"sender_4\", \"sender_7\", \"sender_4\", \"sender_7\", \"sender_4\", \"sender_4\", \"sender_4\", \"sender_7\", \"sender_7\", \"sender_4\", \"sender_4\", \"sender_4\", \"sender_4\", \"sender_4\", \"sender_5\", \"sender_4\", \"sender_4\", \"sender_4\", \"sender_4\", \"sender_4\", \"sender_3\", \"sender_4\", \"sender_4\", \"sender_8\", \"sender_10\", \"sender_4\", \"sender_5\", \"sender_5\", \"sender_4\", \"sender_5\", \"sender_5\", \"sender_4\", \"sender_4\", \"sender_4\", \"sender_12\", \"sender_3\", \"sender_7\", \"sender_7\", \"sender_11\", \"sender_7\", \"sender_11\", \"sender_7\", \"sender_4\", \"sender_8\", \"sender_4\", \"sender_6\", \"sender_4\", \"sender_4\", \"sender_4\", \"sender_6\", \"sender_7\", \"sender_8\", \"sender_3\", \"sender_3\", \"sender_8\", \"sender_3\", \"sender_7\", \"sender_4\", \"sender_3\", \"sender_4\", \"sender_4\", \"sender_12\", \"sender_3\", \"sender_4\", \"sender_4\", \"sender_3\", \"sender_7\", \"sender_10\", \"sender_4\", \"sender_10\", \"sender_4\", \"sender_4\", \"sender_4\", \"sender_4\", \"sender_4\", \"sender_7\", \"sender_4\", \"sender_14\", \"sender_3\", \"sender_10\", \"sender_7\", \"sender_4\", \"sender_4\", \"sender_4\", \"sender_3\", \"sender_8\", \"sender_10\", \"sender_4\", \"sender_6\", \"sender_6\", \"sender_4\", \"sender_4\", \"sender_4\", \"sender_10\", \"sender_3\", \"sender_4\", \"sender_4\", \"sender_4\", \"sender_4\", \"sender_3\", \"sender_4\", \"sender_3\", \"sender_4\", \"sender_4\", \"sender_4\", \"sender_3\", \"sender_4\", \"sender_3\", \"sender_4\", \"sender_7\", \"sender_4\", \"sender_4\", \"sender_4\", \"sender_4\", \"sender_3\", \"sender_4\", \"sender_4\", \"sender_4\", \"sender_4\", \"sender_4\", \"sender_3\", \"sender_7\", \"sender_4\", \"sender_3\", \"sender_4\", \"sender_4\", \"sender_3\", \"sender_4\", \"sender_3\", \"sender_4\", \"sender_4\", \"sender_7\", \"sender_4\", \"sender_3\", \"sender_3\", \"sender_7\", \"sender_4\", \"sender_4\", \"sender_3\", \"sender_4\", \"sender_4\", \"sender_4\", \"sender_3\", \"sender_3\", \"sender_4\", \"sender_4\", \"sender_7\", \"sender_5\", \"sender_4\", \"sender_4\", \"sender_4\", \"sender_4\", \"sender_4\", \"sender_5\", \"sender_4\", \"sender_5\", \"sender_4\", \"sender_4\", \"sender_3\", \"sender_7\", \"sender_4\", \"sender_4\", \"sender_4\", \"sender_4\", \"sender_16\", \"sender_8\", \"sender_4\", \"sender_14\", \"sender_5\", \"sender_3\", \"sender_9\", \"sender_4\", \"sender_4\", \"sender_3\", \"sender_4\", \"sender_7\", \"sender_4\", \"sender_4\", \"sender_4\", \"sender_4\", \"sender_7\", \"sender_14\", \"sender_7\", \"sender_4\", \"sender_4\", \"sender_8\", \"sender_3\", \"sender_16\", \"sender_4\", \"sender_4\", \"sender_4\", \"sender_4\", \"sender_4\", \"sender_4\", \"sender_4\", \"sender_5\", \"sender_7\", \"sender_4\", \"sender_4\", \"sender_4\", \"sender_5\", \"sender_9\", \"sender_5\", \"sender_10\", \"sender_4\", \"sender_4\", \"sender_14\", \"sender_14\", \"sender_12\", \"sender_10\", \"sender_5\", \"sender_14\", \"sender_12\", \"sender_14\", \"sender_14\", \"sender_7\", \"sender_4\", \"sender_4\", \"sender_4\", \"sender_4\", \"sender_4\", \"sender_3\", \"sender_4\", \"sender_4\", \"sender_8\", \"sender_4\", \"sender_4\", \"sender_4\", \"sender_4\", \"sender_4\", \"sender_4\", \"sender_4\", \"sender_10\", \"sender_4\", \"sender_6\", \"sender_10\", \"sender_4\", \"sender_4\", \"sender_6\", \"sender_4\", \"sender_14\", \"sender_4\", \"sender_7\", \"sender_4\", \"sender_4\", \"sender_4\", \"sender_4\", \"sender_4\", \"sender_10\", \"sender_4\", \"sender_12\", \"sender_4\", \"sender_4\", \"sender_5\", \"sender_4\", \"sender_7\", \"sender_4\", \"sender_5\", \"sender_5\", \"sender_4\", \"sender_4\", \"sender_5\", \"sender_4\", \"sender_4\", \"sender_4\", \"sender_4\", \"sender_3\", \"sender_4\", \"sender_4\", \"sender_14\", \"sender_3\", \"sender_16\", \"sender_4\", \"sender_3\", \"sender_7\", \"sender_5\", \"sender_3\", \"sender_7\", \"sender_4\", \"sender_3\", \"sender_5\", \"sender_4\", \"sender_7\", \"sender_7\", \"sender_4\", \"sender_3\", \"sender_4\", \"sender_7\", \"sender_4\", \"sender_4\", \"sender_7\", \"sender_16\", \"sender_7\", \"sender_16\", \"sender_4\", \"sender_4\", \"sender_4\", \"sender_7\", \"sender_7\", \"sender_5\", \"sender_5\", \"sender_4\", \"sender_16\", \"sender_4\", \"sender_4\", \"sender_3\", \"sender_5\", \"sender_7\", \"sender_7\", \"sender_3\", \"sender_16\", \"sender_4\", \"sender_4\", \"sender_3\", \"sender_4\", \"sender_3\", \"sender_4\", \"sender_4\", \"sender_7\", \"sender_5\", \"sender_4\", \"sender_4\", \"sender_10\", \"sender_4\", \"sender_5\", \"sender_7\", \"sender_4\", \"sender_4\", \"sender_4\", \"sender_3\", \"sender_4\", \"sender_4\", \"sender_4\", \"sender_14\", \"sender_4\", \"sender_4\", \"sender_4\", \"sender_3\", \"sender_7\", \"sender_4\", \"sender_4\", \"sender_16\", \"sender_5\", \"sender_4\", \"sender_4\", \"sender_16\", \"sender_3\", \"sender_4\", \"sender_5\", \"sender_4\", \"sender_5\", \"sender_4\", \"sender_4\", \"sender_4\", \"sender_5\", \"sender_4\", \"sender_4\", \"sender_5\", \"sender_4\", \"sender_5\", \"sender_4\", \"sender_4\", \"sender_5\", \"sender_4\", \"sender_5\", \"sender_4\", \"sender_5\", \"sender_4\", \"sender_7\", \"sender_7\", \"sender_3\", \"sender_7\", \"sender_3\", \"sender_7\", \"sender_4\", \"sender_7\", \"sender_7\", \"sender_4\", \"sender_4\", \"sender_4\", \"sender_6\", \"sender_3\", \"sender_10\", \"sender_4\", \"sender_4\", \"sender_4\", \"sender_9\", \"sender_6\", \"sender_4\", \"sender_8\", \"sender_6\", \"sender_4\", \"sender_9\", \"sender_6\", \"sender_4\", \"sender_4\", \"sender_12\", \"sender_12\", \"sender_12\", \"sender_4\", \"sender_4\", \"sender_4\", \"sender_4\", \"sender_4\", \"sender_4\", \"sender_4\", \"sender_12\", \"sender_4\", \"sender_12\", \"sender_4\", \"sender_4\", \"sender_4\", \"sender_4\", \"sender_4\", \"sender_12\", \"sender_7\", \"sender_12\", \"sender_16\", \"sender_12\", \"sender_12\", \"sender_7\", \"sender_7\", \"sender_7\", \"sender_4\", \"sender_4\", \"sender_4\", \"sender_4\", \"sender_4\", \"sender_7\", \"sender_4\", \"sender_7\", \"sender_4\", \"sender_14\", \"sender_4\", \"sender_14\", \"sender_4\", \"sender_7\", \"sender_7\", \"sender_7\", \"sender_14\", \"sender_4\", \"sender_7\", \"sender_16\", \"sender_8\", \"sender_4\", \"sender_4\", \"sender_4\", \"sender_4\", \"sender_5\", \"sender_10\", \"sender_4\", \"sender_4\", \"sender_8\", \"sender_16\", \"sender_10\", \"sender_8\", \"sender_3\", \"sender_4\", \"sender_4\", \"sender_8\", \"sender_14\", \"sender_7\", \"sender_7\", \"sender_4\", \"sender_4\", \"sender_4\", \"sender_4\", \"sender_3\", \"sender_6\", \"sender_10\", \"sender_4\", \"sender_4\", \"sender_7\", \"sender_4\", \"sender_4\", \"sender_4\", \"sender_14\", \"sender_14\", \"sender_4\", \"sender_4\", \"sender_4\", \"sender_4\", \"sender_4\", \"sender_4\", \"sender_3\", \"sender_4\", \"sender_3\", \"sender_4\", \"sender_4\", \"sender_4\", \"sender_3\", \"sender_7\", \"sender_7\", \"sender_8\", \"sender_9\", \"sender_16\", \"sender_10\", \"sender_7\", \"sender_4\", \"sender_4\", \"sender_3\", \"sender_10\", \"sender_4\", \"sender_7\", \"sender_4\", \"sender_8\", \"sender_4\", \"sender_7\", \"sender_10\", \"sender_4\", \"sender_4\", \"sender_10\", \"sender_4\", \"sender_4\", \"sender_4\", \"sender_4\", \"sender_16\", \"sender_8\", \"sender_4\", \"sender_4\", \"sender_8\", \"sender_4\", \"sender_7\", \"sender_10\", \"sender_5\", \"sender_4\", \"sender_4\", \"sender_12\", \"sender_16\", \"sender_8\", \"sender_4\", \"sender_8\", \"sender_4\", \"sender_4\", \"sender_4\", \"sender_4\", \"sender_4\", \"sender_11\", \"sender_4\", \"sender_16\", \"sender_4\", \"sender_4\", \"sender_11\", \"sender_4\", \"sender_4\", \"sender_16\", \"sender_4\", \"sender_4\", \"sender_16\", \"sender_4\", \"sender_4\", \"sender_16\", \"sender_4\", \"sender_16\", \"sender_16\", \"sender_4\", \"sender_11\", \"sender_4\", \"sender_16\", \"sender_4\", \"sender_4\", \"sender_11\", \"sender_16\", \"sender_11\", \"sender_4\", \"sender_16\", \"sender_4\", \"sender_4\", \"sender_4\", \"sender_11\", \"sender_6\", \"sender_16\", \"sender_6\", \"sender_16\", \"sender_4\", \"sender_4\", \"sender_4\", \"sender_16\", \"sender_4\", \"sender_14\", \"sender_4\", \"sender_16\", \"sender_4\", \"sender_4\", \"sender_4\", \"sender_4\", \"sender_4\", \"sender_4\", \"sender_4\", \"sender_4\", \"sender_4\", \"sender_4\", \"sender_4\", \"sender_4\", \"sender_4\", \"sender_16\", \"sender_4\", \"sender_4\", \"sender_16\", \"sender_3\", \"sender_16\", \"sender_3\", \"sender_4\", \"sender_5\", \"sender_4\", \"sender_4\", \"sender_5\", \"sender_4\", \"sender_4\", \"sender_5\", \"sender_4\", \"sender_5\", \"sender_4\", \"sender_7\", \"sender_4\", \"sender_4\", \"sender_7\", \"sender_16\", \"sender_7\", \"sender_4\", \"sender_4\", \"sender_7\", \"sender_4\", \"sender_4\", \"sender_7\", \"sender_7\", \"sender_4\", \"sender_4\", \"sender_7\", \"sender_7\", \"sender_4\", \"sender_7\", \"sender_4\", \"sender_4\", \"sender_4\", \"sender_4\", \"sender_3\", \"sender_7\", \"sender_4\", \"sender_4\", \"sender_4\", \"sender_4\", \"sender_4\", \"sender_4\", \"sender_14\", \"sender_4\", \"sender_4\", \"sender_4\", \"sender_7\", \"sender_4\", \"sender_4\", \"sender_4\", \"sender_3\", \"sender_4\", \"sender_4\", \"sender_3\", \"sender_4\", \"sender_3\", \"sender_4\", \"sender_4\", \"sender_3\", \"sender_4\", \"sender_3\", \"sender_4\", \"sender_3\", \"sender_4\", \"sender_4\", \"sender_4\", \"sender_4\", \"sender_3\", \"sender_4\", \"sender_4\", \"sender_3\", \"sender_4\", \"sender_4\", \"sender_9\", \"sender_4\", \"sender_4\", \"sender_4\", \"sender_4\", \"sender_4\", \"sender_9\", \"sender_4\", \"sender_12\", \"sender_4\", \"sender_4\", \"sender_12\", \"sender_12\", \"sender_4\", \"sender_12\", \"sender_7\", \"sender_12\", \"sender_9\", \"sender_4\", \"sender_4\", \"sender_4\", \"sender_4\", \"sender_9\", \"sender_4\", \"sender_7\", \"sender_4\", \"sender_7\", \"sender_4\", \"sender_6\", \"sender_4\", \"sender_12\", \"sender_7\", \"sender_4\", \"sender_11\", \"sender_4\", \"sender_12\", \"sender_4\", \"sender_4\", \"sender_12\", \"sender_11\", \"sender_4\", \"sender_7\", \"sender_4\", \"sender_12\", \"sender_12\", \"sender_7\", \"sender_7\", \"sender_4\", \"sender_4\", \"sender_12\", \"sender_4\", \"sender_4\", \"sender_7\", \"sender_4\", \"sender_7\", \"sender_4\", \"sender_7\", \"sender_4\", \"sender_14\", \"sender_14\", \"sender_4\", \"sender_4\", \"sender_4\", \"sender_14\", \"sender_4\", \"sender_14\", \"sender_4\", \"sender_4\", \"sender_4\", \"sender_14\", \"sender_4\", \"sender_4\", \"sender_14\", \"sender_4\", \"sender_4\", \"sender_14\", \"sender_14\", \"sender_7\", \"sender_4\", \"sender_4\", \"sender_7\", \"sender_4\", \"sender_4\", \"sender_7\", \"sender_4\", \"sender_4\", \"sender_7\", \"sender_4\", \"sender_14\", \"sender_7\", \"sender_4\", \"sender_4\", \"sender_14\", \"sender_4\", \"sender_14\", \"sender_14\", \"sender_4\", \"sender_4\", \"sender_4\", \"sender_4\", \"sender_7\", \"sender_4\", \"sender_4\", \"sender_7\", \"sender_4\", \"sender_4\", \"sender_7\", \"sender_4\", \"sender_4\", \"sender_7\", \"sender_4\", \"sender_4\", \"sender_4\", \"sender_7\", \"sender_8\", \"sender_7\", \"sender_4\", \"sender_4\", \"sender_4\", \"sender_4\", \"sender_7\", \"sender_4\", \"sender_10\", \"sender_8\", \"sender_4\", \"sender_7\", \"sender_6\", \"sender_4\", \"sender_7\", \"sender_4\", \"sender_4\", \"sender_4\", \"sender_16\", \"sender_4\", \"sender_7\", \"sender_4\", \"sender_4\", \"sender_16\", \"sender_4\", \"sender_16\", \"sender_4\", \"sender_4\", \"sender_16\", \"sender_4\", \"sender_4\", \"sender_4\", \"sender_4\", \"sender_4\", \"sender_7\", \"sender_4\", \"sender_3\", \"sender_4\", \"sender_4\", \"sender_3\", \"sender_3\", \"sender_4\", \"sender_4\", \"sender_3\", \"sender_4\", \"sender_3\", \"sender_4\", \"sender_3\", \"sender_4\", \"sender_9\", \"sender_4\", \"sender_4\", \"sender_9\", \"sender_4\", \"sender_9\", \"sender_4\", \"sender_9\", \"sender_4\", \"sender_4\", \"sender_7\", \"sender_4\", \"sender_9\", \"sender_7\", \"sender_4\", \"sender_7\", \"sender_7\", \"sender_4\", \"sender_7\", \"sender_4\", \"sender_4\", \"sender_4\", \"sender_12\", \"sender_4\", \"sender_4\", \"sender_12\", \"sender_4\", \"sender_12\", \"sender_4\", \"sender_4\", \"sender_3\", \"sender_4\", \"sender_12\", \"sender_4\", \"sender_12\", \"sender_4\", \"sender_12\", \"sender_4\", \"sender_4\", \"sender_4\", \"sender_4\", \"sender_4\", \"sender_12\", \"sender_4\", \"sender_4\", \"sender_4\", \"sender_12\", \"sender_4\", \"sender_12\", \"sender_7\", \"sender_4\", \"sender_4\", \"sender_4\", \"sender_7\", \"sender_4\", \"sender_7\", \"sender_4\", \"sender_4\", \"sender_4\", \"sender_7\", \"sender_4\", \"sender_7\", \"sender_4\", \"sender_4\", \"sender_4\", \"sender_4\", \"sender_12\", \"sender_7\", \"sender_4\", \"sender_7\", \"sender_4\", \"sender_10\", \"sender_4\", \"sender_4\", \"sender_11\", \"sender_4\", \"sender_11\", \"sender_4\", \"sender_4\", \"sender_4\", \"sender_11\", \"sender_4\", \"sender_4\", \"sender_4\", \"sender_5\", \"sender_10\", \"sender_10\", \"sender_8\", \"sender_10\", \"sender_8\", \"sender_3\", \"sender_4\", \"sender_8\", \"sender_10\", \"sender_8\", \"sender_7\", \"sender_7\", \"sender_8\", \"sender_3\", \"sender_7\", \"sender_3\", \"sender_4\", \"sender_3\", \"sender_4\", \"sender_3\", \"sender_4\", \"sender_7\", \"sender_3\", \"sender_4\", \"sender_4\", \"sender_4\", \"sender_7\", \"sender_4\", \"sender_4\", \"sender_7\", \"sender_4\", \"sender_7\", \"sender_4\", \"sender_7\", \"sender_4\", \"sender_4\", \"sender_4\", \"sender_4\", \"sender_4\", \"sender_7\", \"sender_4\", \"sender_3\", \"sender_4\", \"sender_4\", \"sender_4\", \"sender_4\", \"sender_3\", \"sender_4\", \"sender_3\", \"sender_4\", \"sender_7\", \"sender_4\", \"sender_8\", \"sender_3\", \"sender_10\", \"sender_3\", \"sender_8\", \"sender_10\", \"sender_3\", \"sender_4\", \"sender_4\", \"sender_4\", \"sender_4\", \"sender_3\", \"sender_4\", \"sender_4\", \"sender_4\", \"sender_3\", \"sender_4\", \"sender_3\", \"sender_4\", \"sender_4\", \"sender_4\", \"sender_3\", \"sender_4\", \"sender_4\", \"sender_4\", \"sender_4\", \"sender_4\", \"sender_5\", \"sender_7\", \"sender_5\", \"sender_4\", \"sender_14\", \"sender_4\", \"sender_3\", \"sender_4\", \"sender_12\", \"sender_14\", \"sender_4\", \"sender_14\", \"sender_3\", \"sender_12\", \"sender_3\", \"sender_16\", \"sender_10\", \"sender_14\", \"sender_14\", \"sender_4\", \"sender_7\", \"sender_7\", \"sender_12\", \"sender_7\", \"sender_12\", \"sender_7\", \"sender_12\", \"sender_6\", \"sender_12\", \"sender_7\", \"sender_6\", \"sender_12\", \"sender_6\", \"sender_7\", \"sender_6\", \"sender_8\", \"sender_7\", \"sender_8\", \"sender_7\", \"sender_7\", \"sender_8\", \"sender_4\", \"sender_4\", \"sender_4\", \"sender_4\", \"sender_7\", \"sender_4\", \"sender_4\", \"sender_7\", \"sender_4\", \"sender_7\", \"sender_4\", \"sender_7\", \"sender_4\", \"sender_4\", \"sender_4\", \"sender_6\", \"sender_7\", \"sender_7\", \"sender_6\", \"sender_6\", \"sender_7\", \"sender_4\", \"sender_6\", \"sender_8\", \"sender_4\", \"sender_7\", \"sender_4\", \"sender_6\", \"sender_12\", \"sender_4\", \"sender_4\", \"sender_12\", \"sender_12\", \"sender_12\", \"sender_7\", \"sender_6\", \"sender_7\", \"sender_7\", \"sender_6\", \"sender_7\", \"sender_6\", \"sender_12\", \"sender_7\", \"sender_4\", \"sender_4\", \"sender_7\", \"sender_12\", \"sender_7\", \"sender_12\", \"sender_12\", \"sender_7\", \"sender_12\", \"sender_12\", \"sender_7\", \"sender_7\", \"sender_4\", \"sender_6\", \"sender_7\", \"sender_4\", \"sender_4\", \"sender_4\", \"sender_7\", \"sender_4\", \"sender_12\", \"sender_16\", \"sender_4\", \"sender_4\", \"sender_16\", \"sender_4\", \"sender_4\", \"sender_7\", \"sender_4\", \"sender_7\", \"sender_4\", \"sender_4\", \"sender_4\", \"sender_4\", \"sender_7\", \"sender_4\", \"sender_13\", \"sender_16\", \"sender_3\", \"sender_16\", \"sender_3\", \"sender_8\", \"sender_4\", \"sender_7\", \"sender_13\", \"sender_16\", \"sender_3\", \"sender_4\", \"sender_4\", \"sender_16\", \"sender_7\", \"sender_4\", \"sender_4\", \"sender_8\", \"sender_8\", \"sender_4\", \"sender_7\", \"sender_4\", \"sender_7\", \"sender_4\", \"sender_8\", \"sender_4\", \"sender_4\", \"sender_7\", \"sender_4\", \"sender_7\", \"sender_4\", \"sender_4\", \"sender_4\", \"sender_10\", \"sender_4\", \"sender_4\", \"sender_4\", \"sender_14\", \"sender_7\", \"sender_4\", \"sender_4\", \"sender_12\", \"sender_4\", \"sender_7\", \"sender_7\", \"sender_12\", \"sender_7\", \"sender_4\", \"sender_10\", \"sender_4\", \"sender_7\", \"sender_4\", \"sender_12\", \"sender_4\", \"sender_4\", \"sender_4\", \"sender_12\", \"sender_7\", \"sender_12\", \"sender_14\", \"sender_4\", \"sender_4\", \"sender_7\", \"sender_4\", \"sender_4\", \"sender_7\", \"sender_4\", \"sender_4\", \"sender_4\", \"sender_4\", \"sender_4\", \"sender_7\", \"sender_4\", \"sender_4\", \"sender_8\", \"sender_4\", \"sender_4\", \"sender_4\", \"sender_8\", \"sender_4\", \"sender_4\", \"sender_4\", \"sender_4\", \"sender_7\", \"sender_4\", \"sender_8\", \"sender_4\", \"sender_8\", \"sender_10\", \"sender_8\", \"sender_4\", \"sender_4\", \"sender_10\", \"sender_14\", \"sender_4\", \"sender_14\", \"sender_4\", \"sender_16\", \"sender_16\", \"sender_4\", \"sender_4\", \"sender_12\", \"sender_4\", \"sender_4\", \"sender_12\", \"sender_7\", \"sender_7\", \"sender_8\", \"sender_4\", \"sender_4\", \"sender_4\", \"sender_5\", \"sender_8\", \"sender_4\", \"sender_3\", \"sender_4\", \"sender_4\", \"sender_8\", \"sender_4\", \"sender_4\", \"sender_4\", \"sender_4\", \"sender_4\", \"sender_7\", \"sender_16\", \"sender_4\", \"sender_3\", \"sender_16\", \"sender_3\", \"sender_4\", \"sender_4\", \"sender_4\", \"sender_8\", \"sender_3\", \"sender_8\", \"sender_3\", \"sender_7\", \"sender_7\", \"sender_4\", \"sender_5\", \"sender_5\", \"sender_4\", \"sender_5\", \"sender_5\", \"sender_4\", \"sender_4\", \"sender_4\", \"sender_11\", \"sender_10\", \"sender_7\", \"sender_4\", \"sender_8\", \"sender_4\", \"sender_4\", \"sender_8\", \"sender_4\", \"sender_4\", \"sender_7\", \"sender_7\", \"sender_4\", \"sender_4\", \"sender_4\", \"sender_4\", \"sender_4\", \"sender_4\", \"sender_7\", \"sender_6\", \"sender_4\", \"sender_4\", \"sender_4\", \"sender_3\", \"sender_4\", \"sender_4\", \"sender_4\", \"sender_7\", \"sender_4\", \"sender_7\", \"sender_4\", \"sender_1\", \"sender_4\", \"sender_4\", \"sender_4\", \"sender_4\", \"sender_4\", \"sender_4\", \"sender_4\", \"sender_4\", \"sender_8\", \"sender_4\", \"sender_8\", \"sender_4\", \"sender_4\", \"sender_4\", \"sender_12\", \"sender_12\", \"sender_12\", \"sender_12\", \"sender_4\", \"sender_4\", \"sender_1\", \"sender_7\", \"sender_1\", \"sender_12\", \"sender_4\", \"sender_1\", \"sender_4\", \"sender_4\", \"sender_7\", \"sender_4\", \"sender_4\", \"sender_4\", \"sender_12\", \"sender_4\", \"sender_4\", \"sender_4\", \"sender_4\", \"sender_4\", \"sender_8\", \"sender_4\", \"sender_7\", \"sender_4\", \"sender_4\", \"sender_7\", \"sender_4\", \"sender_4\", \"sender_4\", \"sender_4\", \"sender_4\", \"sender_4\", \"sender_4\", \"sender_4\", \"sender_7\", \"sender_7\", \"sender_4\", \"sender_4\", \"sender_7\", \"sender_7\", \"sender_4\", \"sender_4\", \"sender_4\", \"sender_1\", \"sender_4\", \"sender_7\", \"sender_4\", \"sender_4\", \"sender_4\", \"sender_4\", \"sender_4\", \"sender_4\", \"sender_11\", \"sender_4\", \"sender_16\", \"sender_4\", \"sender_4\", \"sender_16\", \"sender_4\", \"sender_4\", \"sender_4\", \"sender_10\", \"sender_5\", \"sender_9\", \"sender_3\", \"sender_10\", \"sender_4\", \"sender_4\", \"sender_4\", \"sender_5\", \"sender_4\", \"sender_4\", \"sender_4\", \"sender_4\", \"sender_4\", \"sender_4\", \"sender_4\", \"sender_4\", \"sender_6\", \"sender_4\", \"sender_4\", \"sender_6\", \"sender_4\", \"sender_4\", \"sender_4\", \"sender_4\", \"sender_6\", \"sender_4\", \"sender_6\", \"sender_6\", \"sender_4\", \"sender_4\", \"sender_4\", \"sender_4\", \"sender_4\", \"sender_4\", \"sender_4\", \"sender_7\", \"sender_4\", \"sender_7\", \"sender_4\", \"sender_4\", \"sender_4\", \"sender_4\", \"sender_7\", \"sender_4\", \"sender_12\", \"sender_4\", \"sender_4\", \"sender_4\", \"sender_12\", \"sender_6\", \"sender_16\", \"sender_4\", \"sender_4\", \"sender_7\", \"sender_6\", \"sender_14\", \"sender_6\", \"sender_6\", \"sender_4\", \"sender_16\", \"sender_4\", \"sender_4\", \"sender_4\", \"sender_4\", \"sender_6\", \"sender_4\", \"sender_4\", \"sender_4\", \"sender_6\", \"sender_4\", \"sender_4\", \"sender_4\", \"sender_4\", \"sender_4\", \"sender_7\", \"sender_4\", \"sender_4\", \"sender_7\", \"sender_7\", \"sender_4\", \"sender_4\", \"sender_4\", \"sender_7\", \"sender_4\", \"sender_4\", \"sender_6\", \"sender_3\", \"sender_10\", \"sender_4\", \"sender_4\", \"sender_4\", \"sender_3\", \"sender_4\", \"sender_4\", \"sender_4\", \"sender_4\", \"sender_3\", \"sender_4\", \"sender_4\", \"sender_4\", \"sender_4\", \"sender_3\", \"sender_4\", \"sender_4\", \"sender_4\", \"sender_3\", \"sender_3\", \"sender_4\", \"sender_4\", \"sender_6\", \"sender_4\", \"sender_4\", \"sender_4\", \"sender_6\", \"sender_4\", \"sender_16\", \"sender_4\", \"sender_4\", \"sender_4\", \"sender_8\", \"sender_16\", \"sender_4\", \"sender_3\", \"sender_10\", \"sender_4\", \"sender_3\", \"sender_4\", \"sender_4\", \"sender_4\", \"sender_4\", \"sender_3\", \"sender_4\", \"sender_4\", \"sender_4\", \"sender_4\", \"sender_3\", \"sender_7\", \"sender_4\", \"sender_4\", \"sender_4\", \"sender_3\", \"sender_3\", \"sender_4\", \"sender_3\", \"sender_4\", \"sender_3\", \"sender_4\", \"sender_4\", \"sender_4\", \"sender_3\", \"sender_3\", \"sender_4\", \"sender_3\", \"sender_3\", \"sender_4\", \"sender_3\", \"sender_4\", \"sender_4\", \"sender_4\", \"sender_4\", \"sender_3\", \"sender_4\", \"sender_3\", \"sender_4\", \"sender_3\", \"sender_4\", \"sender_4\", \"sender_3\", \"sender_4\", \"sender_3\", \"sender_3\", \"sender_4\", \"sender_4\", \"sender_4\", \"sender_4\", \"sender_3\", \"sender_4\", \"sender_4\", \"sender_3\", \"sender_4\", \"sender_4\", \"sender_3\", \"sender_4\", \"sender_4\", \"sender_3\", \"sender_4\", \"sender_3\", \"sender_4\", \"sender_4\", \"sender_3\", \"sender_7\", \"sender_4\", \"sender_4\", \"sender_3\", \"sender_4\", \"sender_4\", \"sender_4\", \"sender_3\", \"sender_3\", \"sender_4\", \"sender_3\", \"sender_4\", \"sender_4\", \"sender_3\", \"sender_4\", \"sender_7\", \"sender_4\", \"sender_3\", \"sender_4\", \"sender_3\", \"sender_4\", \"sender_3\", \"sender_4\", \"sender_7\", \"sender_3\", \"sender_4\", \"sender_4\", \"sender_4\", \"sender_7\", \"sender_7\", \"sender_4\", \"sender_4\", \"sender_4\", \"sender_7\", \"sender_3\", \"sender_4\", \"sender_7\", \"sender_4\", \"sender_7\", \"sender_4\", \"sender_4\", \"sender_4\", \"sender_4\", \"sender_4\", \"sender_7\", \"sender_4\", \"sender_4\", \"sender_4\", \"sender_6\", \"sender_4\", \"sender_6\", \"sender_4\", \"sender_4\", \"sender_6\", \"sender_4\", \"sender_7\", \"sender_4\", \"sender_4\", \"sender_7\", \"sender_7\", \"sender_4\", \"sender_8\", \"sender_4\", \"sender_7\", \"sender_4\", \"sender_4\", \"sender_4\", \"sender_7\", \"sender_7\", \"sender_4\", \"sender_4\", \"sender_7\", \"sender_7\", \"sender_4\", \"sender_8\", \"sender_4\", \"sender_7\", \"sender_4\", \"sender_7\", \"sender_4\", \"sender_10\", \"sender_4\", \"sender_4\", \"sender_4\", \"sender_7\", \"sender_4\", \"sender_10\", \"sender_4\", \"sender_4\", \"sender_4\", \"sender_4\", \"sender_10\", \"sender_7\", \"sender_4\", \"sender_4\", \"sender_4\", \"sender_4\", \"sender_7\", \"sender_4\", \"sender_7\", \"sender_4\", \"sender_4\", \"sender_4\", \"sender_7\", \"sender_4\", \"sender_4\", \"sender_4\", \"sender_4\", \"sender_4\", \"sender_7\", \"sender_7\", \"sender_4\", \"sender_4\", \"sender_7\", \"sender_7\", \"sender_4\", \"sender_4\", \"sender_4\", \"sender_7\", \"sender_3\", \"sender_4\", \"sender_3\", \"sender_10\", \"sender_4\", \"sender_7\", \"sender_8\", \"sender_7\", \"sender_4\", \"sender_4\", \"sender_3\", \"sender_3\", \"sender_10\", \"sender_7\", \"sender_4\", \"sender_3\", \"sender_7\", \"sender_4\", \"sender_7\", \"sender_7\", \"sender_8\", \"sender_6\", \"sender_7\", \"sender_7\", \"sender_7\", \"sender_4\", \"sender_4\", \"sender_4\", \"sender_4\", \"sender_9\", \"sender_4\", \"sender_13\", \"sender_4\", \"sender_4\", \"sender_4\", \"sender_5\", \"sender_3\", \"sender_8\", \"sender_3\", \"sender_4\", \"sender_3\", \"sender_4\", \"sender_3\", \"sender_8\", \"sender_8\", \"sender_3\", \"sender_4\", \"sender_13\", \"sender_4\", \"sender_3\", \"sender_8\", \"sender_4\", \"sender_4\", \"sender_4\", \"sender_4\", \"sender_4\", \"sender_3\", \"sender_7\", \"sender_7\", \"sender_4\", \"sender_1\", \"sender_4\", \"sender_7\", \"sender_4\", \"sender_3\", \"sender_4\", \"sender_4\", \"sender_4\", \"sender_4\", \"sender_4\", \"sender_4\", \"sender_4\", \"sender_14\", \"sender_14\", \"sender_7\", \"sender_8\", \"sender_4\", \"sender_7\", \"sender_4\", \"sender_4\", \"sender_7\", \"sender_4\", \"sender_7\", \"sender_4\", \"sender_3\", \"sender_16\", \"sender_7\", \"sender_14\", \"sender_14\", \"sender_4\", \"sender_3\", \"sender_4\", \"sender_4\", \"sender_4\", \"sender_16\", \"sender_3\", \"sender_4\", \"sender_3\", \"sender_14\", \"sender_7\", \"sender_16\", \"sender_3\", \"sender_3\", \"sender_3\", \"sender_4\", \"sender_4\", \"sender_16\", \"sender_4\", \"sender_4\", \"sender_4\", \"sender_14\", \"sender_4\", \"sender_4\", \"sender_4\", \"sender_3\", \"sender_7\", \"sender_4\", \"sender_4\", \"sender_14\", \"sender_3\", \"sender_4\", \"sender_3\", \"sender_4\", \"sender_16\", \"sender_14\", \"sender_7\", \"sender_4\", \"sender_4\", \"sender_3\", \"sender_7\", \"sender_4\", \"sender_4\", \"sender_4\", \"sender_3\", \"sender_4\", \"sender_4\", \"sender_4\", \"sender_14\", \"sender_14\", \"sender_4\", \"sender_3\", \"sender_4\", \"sender_4\", \"sender_3\", \"sender_4\", \"sender_14\", \"sender_7\", \"sender_4\", \"sender_7\", \"sender_14\", \"sender_4\", \"sender_4\", \"sender_7\", \"sender_4\", \"sender_4\", \"sender_3\", \"sender_4\", \"sender_14\", \"sender_4\", \"sender_14\", \"sender_4\", \"sender_4\", \"sender_16\", \"sender_4\", \"sender_4\", \"sender_4\", \"sender_7\", \"sender_4\", \"sender_7\", \"sender_3\", \"sender_4\", \"sender_4\", \"sender_14\", \"sender_4\", \"sender_4\", \"sender_4\", \"sender_7\", \"sender_4\", \"sender_4\", \"sender_8\", \"sender_4\", \"sender_4\", \"sender_4\", \"sender_4\", \"sender_7\", \"sender_4\", \"sender_4\", \"sender_10\", \"sender_6\", \"sender_9\", \"sender_4\", \"sender_3\", \"sender_4\", \"sender_3\", \"sender_11\", \"sender_3\", \"sender_4\", \"sender_14\", \"sender_3\", \"sender_4\", \"sender_14\", \"sender_8\", \"sender_16\", \"sender_4\", \"sender_14\", \"sender_14\", \"sender_4\", \"sender_14\", \"sender_4\", \"sender_4\", \"sender_14\", \"sender_3\", \"sender_16\", \"sender_8\", \"sender_16\", \"sender_16\", \"sender_3\", \"sender_16\", \"sender_3\", \"sender_3\", \"sender_16\", \"sender_3\", \"sender_8\", \"sender_3\", \"sender_3\", \"sender_16\", \"sender_14\", \"sender_3\", \"sender_16\", \"sender_3\", \"sender_3\", \"sender_4\", \"sender_7\", \"sender_7\", \"sender_14\", \"sender_3\", \"sender_14\", \"sender_3\", \"sender_3\", \"sender_14\", \"sender_3\", \"sender_14\", \"sender_3\", \"sender_5\", \"sender_3\", \"sender_14\", \"sender_3\", \"sender_14\", \"sender_3\", \"sender_7\", \"sender_14\", \"sender_4\", \"sender_4\", \"sender_4\", \"sender_5\", \"sender_7\", \"sender_3\", \"sender_11\", \"sender_13\", \"sender_4\", \"sender_4\", \"sender_4\", \"sender_4\", \"sender_3\", \"sender_7\", \"sender_4\", \"sender_4\", \"sender_3\", \"sender_3\", \"sender_4\", \"sender_4\", \"sender_3\", \"sender_4\", \"sender_4\", \"sender_4\", \"sender_3\", \"sender_4\", \"sender_4\", \"sender_3\", \"sender_4\", \"sender_4\", \"sender_4\", \"sender_4\", \"sender_3\", \"sender_7\", \"sender_4\", \"sender_4\", \"sender_7\", \"sender_7\", \"sender_4\", \"sender_7\", \"sender_4\", \"sender_8\", \"sender_3\", \"sender_8\", \"sender_3\", \"sender_8\", \"sender_4\", \"sender_4\", \"sender_4\", \"sender_4\", \"sender_4\", \"sender_4\", \"sender_3\", \"sender_3\", \"sender_4\", \"sender_3\", \"sender_3\", \"sender_12\", \"sender_3\", \"sender_5\", \"sender_16\", \"sender_11\", \"sender_16\", \"sender_1\", \"sender_3\", \"sender_11\", \"sender_3\", \"sender_4\", \"sender_7\", \"sender_4\", \"sender_14\", \"sender_3\", \"sender_16\", \"sender_3\", \"sender_10\", \"sender_16\", \"sender_7\", \"sender_3\", \"sender_8\", \"sender_3\", \"sender_4\", \"sender_4\", \"sender_3\", \"sender_4\", \"sender_4\", \"sender_3\", \"sender_14\", \"sender_3\", \"sender_7\", \"sender_14\", \"sender_8\", \"sender_8\", \"sender_10\", \"sender_12\", \"sender_6\", \"sender_8\", \"sender_10\", \"sender_10\", \"sender_10\", \"sender_8\", \"sender_4\", \"sender_4\", \"sender_4\", \"sender_3\", \"sender_3\", \"sender_4\", \"sender_4\", \"sender_4\", \"sender_4\", \"sender_3\", \"sender_4\", \"sender_4\", \"sender_3\", \"sender_8\", \"sender_3\", \"sender_8\", \"sender_4\", \"sender_3\", \"sender_12\", \"sender_12\", \"sender_12\", \"sender_12\", \"sender_12\", \"sender_6\", \"sender_12\", \"sender_6\", \"sender_10\", \"sender_4\", \"sender_4\", \"sender_4\", \"sender_4\", \"sender_4\", \"sender_4\", \"sender_4\", \"sender_3\", \"sender_3\", \"sender_4\", \"sender_4\", \"sender_4\", \"sender_4\", \"sender_8\", \"sender_8\", \"sender_4\", \"sender_4\", \"sender_4\", \"sender_4\", \"sender_4\", \"sender_8\", \"sender_4\", \"sender_4\", \"sender_4\", \"sender_8\", \"sender_4\", \"sender_4\", \"sender_4\", \"sender_4\", \"sender_12\", \"sender_4\", \"sender_4\", \"sender_12\", \"sender_4\", \"sender_4\", \"sender_7\", \"sender_12\", \"sender_4\", \"sender_4\", \"sender_4\", \"sender_7\", \"sender_7\", \"sender_4\", \"sender_4\", \"sender_4\", \"sender_3\", \"sender_4\", \"sender_4\", \"sender_3\", \"sender_4\", \"sender_3\", \"sender_4\", \"sender_4\", \"sender_4\", \"sender_4\", \"sender_4\", \"sender_4\", \"sender_4\", \"sender_7\", \"sender_6\", \"sender_4\", \"sender_6\", \"sender_4\", \"sender_3\", \"sender_6\", \"sender_6\", \"sender_3\", \"sender_6\", \"sender_13\", \"sender_4\", \"sender_4\", \"sender_3\", \"sender_4\", \"sender_4\", \"sender_4\", \"sender_6\", \"sender_4\", \"sender_4\", \"sender_6\", \"sender_4\", \"sender_6\", \"sender_4\", \"sender_6\", \"sender_4\", \"sender_6\", \"sender_7\", \"sender_4\", \"sender_4\", \"sender_7\", \"sender_6\", \"sender_4\", \"sender_7\", \"sender_4\", \"sender_4\", \"sender_4\", \"sender_3\", \"sender_4\", \"sender_7\", \"sender_3\", \"sender_7\", \"sender_4\", \"sender_4\", \"sender_4\", \"sender_4\", \"sender_3\", \"sender_4\", \"sender_4\", \"sender_3\", \"sender_4\", \"sender_4\", \"sender_8\", \"sender_4\", \"sender_4\", \"sender_13\", \"sender_4\", \"sender_4\", \"sender_4\", \"sender_4\", \"sender_7\", \"sender_7\", \"sender_12\", \"sender_6\", \"sender_7\", \"sender_6\", \"sender_7\", \"sender_7\", \"sender_7\", \"sender_6\", \"sender_8\", \"sender_7\", \"sender_8\", \"sender_7\", \"sender_4\", \"sender_4\", \"sender_6\", \"sender_7\", \"sender_7\", \"sender_4\", \"sender_7\", \"sender_4\", \"sender_4\", \"sender_4\", \"sender_4\", \"sender_4\", \"sender_12\", \"sender_12\", \"sender_4\", \"sender_12\", \"sender_4\", \"sender_4\", \"sender_12\", \"sender_12\", \"sender_4\", \"sender_4\", \"sender_4\", \"sender_4\", \"sender_4\", \"sender_4\", \"sender_6\", \"sender_4\", \"sender_4\", \"sender_4\", \"sender_4\", \"sender_13\", \"sender_4\", \"sender_4\", \"sender_4\", \"sender_12\", \"sender_4\", \"sender_4\", \"sender_4\", \"sender_4\", \"sender_4\", \"sender_7\", \"sender_4\", \"sender_12\", \"sender_8\", \"sender_4\", \"sender_4\", \"sender_4\", \"sender_4\", \"sender_4\", \"sender_4\", \"sender_8\", \"sender_4\", \"sender_12\", \"sender_4\", \"sender_7\", \"sender_4\", \"sender_7\", \"sender_7\", \"sender_4\", \"sender_7\", \"sender_4\", \"sender_4\", \"sender_7\", \"sender_4\", \"sender_4\", \"sender_7\", \"sender_4\", \"sender_7\", \"sender_10\", \"sender_4\", \"sender_4\", \"sender_4\", \"sender_4\", \"sender_16\", \"sender_4\", \"sender_7\", \"sender_4\", \"sender_4\", \"sender_4\", \"sender_4\", \"sender_7\", \"sender_4\", \"sender_4\", \"sender_4\", \"sender_4\", \"sender_4\", \"sender_4\", \"sender_14\", \"sender_4\", \"sender_4\", \"sender_4\", \"sender_4\", \"sender_14\", \"sender_4\", \"sender_14\", \"sender_4\", \"sender_4\", \"sender_4\", \"sender_4\", \"sender_4\", \"sender_14\", \"sender_4\", \"sender_4\", \"sender_4\", \"sender_7\", \"sender_16\", \"sender_4\", \"sender_7\", \"sender_4\", \"sender_5\", \"sender_4\", \"sender_11\", \"sender_14\", \"sender_14\", \"sender_7\", \"sender_14\", \"sender_4\", \"sender_7\", \"sender_14\", \"sender_5\", \"sender_5\", \"sender_13\", \"sender_4\", \"sender_3\", \"sender_4\", \"sender_4\", \"sender_4\", \"sender_3\", \"sender_4\", \"sender_3\", \"sender_4\", \"sender_4\", \"sender_3\", \"sender_4\", \"sender_3\", \"sender_1\", \"sender_1\", \"sender_4\", \"sender_4\", \"sender_3\", \"sender_4\", \"sender_4\", \"sender_3\", \"sender_4\", \"sender_4\", \"sender_4\", \"sender_4\", \"sender_3\", \"sender_4\", \"sender_4\", \"sender_3\", \"sender_4\", \"sender_9\", \"sender_3\", \"sender_4\", \"sender_5\", \"sender_3\", \"sender_5\", \"sender_4\", \"sender_4\", \"sender_4\", \"sender_5\", \"sender_16\", \"sender_3\", \"sender_4\", \"sender_4\", \"sender_4\", \"sender_3\", \"sender_4\", \"sender_3\", \"sender_4\", \"sender_3\", \"sender_4\", \"sender_3\", \"sender_3\", \"sender_4\", \"sender_4\", \"sender_3\", \"sender_4\", \"sender_4\", \"sender_3\", \"sender_4\", \"sender_4\", \"sender_4\", \"sender_3\", \"sender_3\", \"sender_4\", \"sender_4\", \"sender_4\", \"sender_4\", \"sender_9\", \"sender_4\", \"sender_4\", \"sender_4\", \"sender_4\", \"sender_4\", \"sender_4\", \"sender_9\", \"sender_4\", \"sender_4\", \"sender_3\", \"sender_4\", \"sender_4\", \"sender_9\", \"sender_4\", \"sender_9\", \"sender_4\", \"sender_4\", \"sender_4\", \"sender_4\", \"sender_4\", \"sender_4\", \"sender_13\", \"sender_4\", \"sender_16\", \"sender_4\", \"sender_6\", \"sender_4\", \"sender_10\", \"sender_4\", \"sender_12\", \"sender_4\", \"sender_7\", \"sender_6\", \"sender_10\", \"sender_4\", \"sender_4\", \"sender_4\", \"sender_4\", \"sender_4\", \"sender_3\", \"sender_3\", \"sender_4\", \"sender_4\", \"sender_4\", \"sender_4\", \"sender_3\", \"sender_4\", \"sender_4\", \"sender_3\", \"sender_4\", \"sender_7\", \"sender_4\", \"sender_4\", \"sender_4\", \"sender_4\", \"sender_7\", \"sender_4\", \"sender_4\", \"sender_3\", \"sender_4\", \"sender_4\", \"sender_3\", \"sender_7\", \"sender_3\", \"sender_7\", \"sender_4\", \"sender_3\", \"sender_4\", \"sender_7\", \"sender_7\", \"sender_4\", \"sender_7\", \"sender_4\", \"sender_4\", \"sender_4\", \"sender_7\", \"sender_4\", \"sender_4\", \"sender_3\", \"sender_7\", \"sender_4\", \"sender_7\", \"sender_4\", \"sender_4\", \"sender_3\", \"sender_4\", \"sender_4\", \"sender_4\", \"sender_4\", \"sender_4\", \"sender_4\", \"sender_3\", \"sender_4\", \"sender_4\", \"sender_4\", \"sender_3\", \"sender_4\", \"sender_4\", \"sender_3\", \"sender_7\", \"sender_4\", \"sender_4\", \"sender_7\", \"sender_4\", \"sender_7\", \"sender_4\", \"sender_4\", \"sender_3\", \"sender_7\", \"sender_4\", \"sender_4\", \"sender_4\", \"sender_4\", \"sender_4\", \"sender_4\", \"sender_4\", \"sender_4\", \"sender_4\", \"sender_9\", \"sender_4\", \"sender_4\", \"sender_13\", \"sender_3\", \"sender_11\", \"sender_4\", \"sender_13\", \"sender_7\", \"sender_4\", \"sender_4\", \"sender_4\", \"sender_4\", \"sender_3\", \"sender_4\", \"sender_4\", \"sender_16\", \"sender_4\", \"sender_4\", \"sender_16\", \"sender_4\", \"sender_4\", \"sender_3\", \"sender_8\", \"sender_4\", \"sender_4\", \"sender_3\", \"sender_4\", \"sender_3\", \"sender_4\", \"sender_4\", \"sender_3\", \"sender_4\", \"sender_4\", \"sender_4\", \"sender_3\", \"sender_4\", \"sender_4\", \"sender_4\", \"sender_3\", \"sender_4\", \"sender_4\", \"sender_4\", \"sender_7\", \"sender_4\", \"sender_4\", \"sender_7\", \"sender_7\", \"sender_4\", \"sender_4\", \"sender_3\", \"sender_7\", \"sender_4\", \"sender_4\", \"sender_7\", \"sender_4\", \"sender_10\", \"sender_7\", \"sender_10\", \"sender_7\", \"sender_7\", \"sender_4\", \"sender_4\", \"sender_4\", \"sender_3\", \"sender_4\", \"sender_7\", \"sender_4\", \"sender_4\", \"sender_4\", \"sender_3\", \"sender_7\", \"sender_4\", \"sender_4\", \"sender_7\", \"sender_4\", \"sender_4\", \"sender_4\", \"sender_7\", \"sender_4\", \"sender_7\", \"sender_4\", \"sender_7\", \"sender_13\", \"sender_4\", \"sender_4\", \"sender_4\", \"sender_4\", \"sender_4\", \"sender_4\", \"sender_4\", \"sender_6\", \"sender_13\", \"sender_4\", \"sender_4\", \"sender_6\", \"sender_4\", \"sender_4\", \"sender_7\", \"sender_4\", \"sender_4\", \"sender_4\", \"sender_4\", \"sender_3\", \"sender_4\", \"sender_3\", \"sender_4\", \"sender_3\", \"sender_4\", \"sender_4\", \"sender_4\", \"sender_3\", \"sender_4\", \"sender_4\", \"sender_4\", \"sender_3\", \"sender_3\", \"sender_4\", \"sender_4\", \"sender_4\", \"sender_4\", \"sender_4\", \"sender_7\", \"sender_4\", \"sender_4\", \"sender_4\", \"sender_4\", \"sender_7\", \"sender_4\", \"sender_4\", \"sender_7\", \"sender_7\", \"sender_4\", \"sender_4\", \"sender_4\", \"sender_4\", \"sender_4\", \"sender_7\", \"sender_4\", \"sender_7\", \"sender_4\", \"sender_7\", \"sender_4\", \"sender_4\", \"sender_4\", \"sender_7\", \"sender_4\", \"sender_4\", \"sender_7\", \"sender_4\", \"sender_7\", \"sender_4\", \"sender_4\", \"sender_7\", \"sender_7\", \"sender_4\", \"sender_7\", \"sender_4\", \"sender_7\", \"sender_4\", \"sender_4\", \"sender_4\", \"sender_4\", \"sender_4\", \"sender_5\", \"sender_4\", \"sender_3\", \"sender_4\", \"sender_3\", \"sender_4\", \"sender_4\", \"sender_3\", \"sender_4\", \"sender_4\", \"sender_6\", \"sender_4\", \"sender_16\", \"sender_4\", \"sender_4\", \"sender_4\", \"sender_4\", \"sender_9\", \"sender_16\", \"sender_4\", \"sender_4\", \"sender_4\", \"sender_4\", \"sender_3\", \"sender_4\", \"sender_4\", \"sender_4\", \"sender_5\", \"sender_4\", \"sender_4\", \"sender_16\", \"sender_4\", \"sender_4\", \"sender_16\", \"sender_9\", \"sender_4\", \"sender_4\", \"sender_3\", \"sender_4\", \"sender_4\", \"sender_4\", \"sender_4\", \"sender_5\", \"sender_16\", \"sender_4\", \"sender_16\", \"sender_4\", \"sender_4\", \"sender_4\", \"sender_16\", \"sender_4\", \"sender_4\", \"sender_5\", \"sender_4\", \"sender_4\", \"sender_5\", \"sender_4\", \"sender_4\", \"sender_16\", \"sender_4\", \"sender_4\", \"sender_4\", \"sender_3\", \"sender_4\", \"sender_4\", \"sender_4\", \"sender_17\", \"sender_4\", \"sender_3\", \"sender_17\", \"sender_4\", \"sender_7\", \"sender_4\", \"sender_4\", \"sender_3\", \"sender_4\", \"sender_4\", \"sender_4\", \"sender_4\", \"sender_16\", \"sender_3\", \"sender_4\", \"sender_7\", \"sender_3\", \"sender_4\", \"sender_4\", \"sender_7\", \"sender_17\", \"sender_4\", \"sender_4\", \"sender_7\", \"sender_4\", \"sender_4\", \"sender_16\", \"sender_4\", \"sender_4\", \"sender_16\", \"sender_4\", \"sender_4\", \"sender_16\", \"sender_4\", \"sender_4\", \"sender_16\", \"sender_4\", \"sender_4\", \"sender_4\", \"sender_3\", \"sender_4\", \"sender_4\", \"sender_4\", \"sender_4\", \"sender_4\", \"sender_4\", \"sender_3\", \"sender_4\", \"sender_4\", \"sender_4\", \"sender_3\", \"sender_4\", \"sender_4\", \"sender_16\", \"sender_3\", \"sender_18\", \"sender_4\", \"sender_16\", \"sender_4\", \"sender_4\", \"sender_4\", \"sender_4\", \"sender_7\", \"sender_19\", \"sender_4\", \"sender_19\", \"sender_7\", \"sender_19\", \"sender_7\", \"sender_4\", \"sender_4\", \"sender_19\", \"sender_4\", \"sender_4\", \"sender_4\", \"sender_1\", \"sender_4\", \"sender_4\", \"sender_4\", \"sender_8\", \"sender_4\", \"sender_4\", \"sender_4\", \"sender_4\", \"sender_8\", \"sender_4\", \"sender_4\", \"sender_3\", \"sender_7\", \"sender_5\", \"sender_8\", \"sender_7\", \"sender_4\", \"sender_4\", \"sender_5\", \"sender_4\", \"sender_7\", \"sender_4\", \"sender_4\", \"sender_4\", \"sender_4\", \"sender_5\", \"sender_4\", \"sender_4\", \"sender_4\", \"sender_4\", \"sender_5\", \"sender_4\", \"sender_4\", \"sender_4\", \"sender_5\", \"sender_5\", \"sender_8\", \"sender_4\", \"sender_4\", \"sender_3\", \"sender_19\", \"sender_16\", \"sender_3\", \"sender_19\", \"sender_4\", \"sender_4\", \"sender_4\", \"sender_4\", \"sender_7\", \"sender_4\", \"sender_4\", \"sender_4\", \"sender_7\", \"sender_4\", \"sender_4\", \"sender_4\", \"sender_20\", \"sender_4\", \"sender_3\", \"sender_4\", \"sender_4\", \"sender_4\", \"sender_3\", \"sender_4\", \"sender_4\", \"sender_4\", \"sender_4\"], \"xaxis\": \"x\", \"yaxis\": \"y\"}],\n",
              "                        {\"barmode\": \"relative\", \"legend\": {\"tracegroupgap\": 0}, \"margin\": {\"t\": 60}, \"template\": {\"data\": {\"bar\": [{\"error_x\": {\"color\": \"#2a3f5f\"}, \"error_y\": {\"color\": \"#2a3f5f\"}, \"marker\": {\"line\": {\"color\": \"#E5ECF6\", \"width\": 0.5}}, \"type\": \"bar\"}], \"barpolar\": [{\"marker\": {\"line\": {\"color\": \"#E5ECF6\", \"width\": 0.5}}, \"type\": \"barpolar\"}], \"carpet\": [{\"aaxis\": {\"endlinecolor\": \"#2a3f5f\", \"gridcolor\": \"white\", \"linecolor\": \"white\", \"minorgridcolor\": \"white\", \"startlinecolor\": \"#2a3f5f\"}, \"baxis\": {\"endlinecolor\": \"#2a3f5f\", \"gridcolor\": \"white\", \"linecolor\": \"white\", \"minorgridcolor\": \"white\", \"startlinecolor\": \"#2a3f5f\"}, \"type\": \"carpet\"}], \"choropleth\": [{\"colorbar\": {\"outlinewidth\": 0, \"ticks\": \"\"}, \"type\": \"choropleth\"}], \"contour\": [{\"colorbar\": {\"outlinewidth\": 0, \"ticks\": \"\"}, \"colorscale\": [[0.0, \"#0d0887\"], [0.1111111111111111, \"#46039f\"], [0.2222222222222222, \"#7201a8\"], [0.3333333333333333, \"#9c179e\"], [0.4444444444444444, \"#bd3786\"], [0.5555555555555556, \"#d8576b\"], [0.6666666666666666, \"#ed7953\"], [0.7777777777777778, \"#fb9f3a\"], [0.8888888888888888, \"#fdca26\"], [1.0, \"#f0f921\"]], \"type\": \"contour\"}], \"contourcarpet\": [{\"colorbar\": {\"outlinewidth\": 0, \"ticks\": \"\"}, \"type\": \"contourcarpet\"}], \"heatmap\": [{\"colorbar\": {\"outlinewidth\": 0, \"ticks\": \"\"}, \"colorscale\": [[0.0, \"#0d0887\"], [0.1111111111111111, \"#46039f\"], [0.2222222222222222, \"#7201a8\"], [0.3333333333333333, \"#9c179e\"], [0.4444444444444444, \"#bd3786\"], [0.5555555555555556, \"#d8576b\"], [0.6666666666666666, \"#ed7953\"], [0.7777777777777778, \"#fb9f3a\"], [0.8888888888888888, \"#fdca26\"], [1.0, \"#f0f921\"]], \"type\": \"heatmap\"}], \"heatmapgl\": [{\"colorbar\": {\"outlinewidth\": 0, \"ticks\": \"\"}, \"colorscale\": [[0.0, \"#0d0887\"], [0.1111111111111111, \"#46039f\"], [0.2222222222222222, \"#7201a8\"], [0.3333333333333333, \"#9c179e\"], [0.4444444444444444, \"#bd3786\"], [0.5555555555555556, \"#d8576b\"], [0.6666666666666666, \"#ed7953\"], [0.7777777777777778, \"#fb9f3a\"], [0.8888888888888888, \"#fdca26\"], [1.0, \"#f0f921\"]], \"type\": \"heatmapgl\"}], \"histogram\": [{\"marker\": {\"colorbar\": {\"outlinewidth\": 0, \"ticks\": \"\"}}, \"type\": \"histogram\"}], \"histogram2d\": [{\"colorbar\": {\"outlinewidth\": 0, \"ticks\": \"\"}, \"colorscale\": [[0.0, \"#0d0887\"], [0.1111111111111111, \"#46039f\"], [0.2222222222222222, \"#7201a8\"], [0.3333333333333333, \"#9c179e\"], [0.4444444444444444, \"#bd3786\"], [0.5555555555555556, \"#d8576b\"], [0.6666666666666666, \"#ed7953\"], [0.7777777777777778, \"#fb9f3a\"], [0.8888888888888888, \"#fdca26\"], [1.0, \"#f0f921\"]], \"type\": \"histogram2d\"}], \"histogram2dcontour\": [{\"colorbar\": {\"outlinewidth\": 0, \"ticks\": \"\"}, \"colorscale\": [[0.0, \"#0d0887\"], [0.1111111111111111, \"#46039f\"], [0.2222222222222222, \"#7201a8\"], [0.3333333333333333, \"#9c179e\"], [0.4444444444444444, \"#bd3786\"], [0.5555555555555556, \"#d8576b\"], [0.6666666666666666, \"#ed7953\"], [0.7777777777777778, \"#fb9f3a\"], [0.8888888888888888, \"#fdca26\"], [1.0, \"#f0f921\"]], \"type\": \"histogram2dcontour\"}], \"mesh3d\": [{\"colorbar\": {\"outlinewidth\": 0, \"ticks\": \"\"}, \"type\": \"mesh3d\"}], \"parcoords\": [{\"line\": {\"colorbar\": {\"outlinewidth\": 0, \"ticks\": \"\"}}, \"type\": \"parcoords\"}], \"pie\": [{\"automargin\": true, \"type\": \"pie\"}], \"scatter\": [{\"marker\": {\"colorbar\": {\"outlinewidth\": 0, \"ticks\": \"\"}}, \"type\": \"scatter\"}], \"scatter3d\": [{\"line\": {\"colorbar\": {\"outlinewidth\": 0, \"ticks\": \"\"}}, \"marker\": {\"colorbar\": {\"outlinewidth\": 0, \"ticks\": \"\"}}, \"type\": \"scatter3d\"}], \"scattercarpet\": [{\"marker\": {\"colorbar\": {\"outlinewidth\": 0, \"ticks\": \"\"}}, \"type\": \"scattercarpet\"}], \"scattergeo\": [{\"marker\": {\"colorbar\": {\"outlinewidth\": 0, \"ticks\": \"\"}}, \"type\": \"scattergeo\"}], \"scattergl\": [{\"marker\": {\"colorbar\": {\"outlinewidth\": 0, \"ticks\": \"\"}}, \"type\": \"scattergl\"}], \"scattermapbox\": [{\"marker\": {\"colorbar\": {\"outlinewidth\": 0, \"ticks\": \"\"}}, \"type\": \"scattermapbox\"}], \"scatterpolar\": [{\"marker\": {\"colorbar\": {\"outlinewidth\": 0, \"ticks\": \"\"}}, \"type\": \"scatterpolar\"}], \"scatterpolargl\": [{\"marker\": {\"colorbar\": {\"outlinewidth\": 0, \"ticks\": \"\"}}, \"type\": \"scatterpolargl\"}], \"scatterternary\": [{\"marker\": {\"colorbar\": {\"outlinewidth\": 0, \"ticks\": \"\"}}, \"type\": \"scatterternary\"}], \"surface\": [{\"colorbar\": {\"outlinewidth\": 0, \"ticks\": \"\"}, \"colorscale\": [[0.0, \"#0d0887\"], [0.1111111111111111, \"#46039f\"], [0.2222222222222222, \"#7201a8\"], [0.3333333333333333, \"#9c179e\"], [0.4444444444444444, \"#bd3786\"], [0.5555555555555556, \"#d8576b\"], [0.6666666666666666, \"#ed7953\"], [0.7777777777777778, \"#fb9f3a\"], [0.8888888888888888, \"#fdca26\"], [1.0, \"#f0f921\"]], \"type\": \"surface\"}], \"table\": [{\"cells\": {\"fill\": {\"color\": \"#EBF0F8\"}, \"line\": {\"color\": \"white\"}}, \"header\": {\"fill\": {\"color\": \"#C8D4E3\"}, \"line\": {\"color\": \"white\"}}, \"type\": \"table\"}]}, \"layout\": {\"annotationdefaults\": {\"arrowcolor\": \"#2a3f5f\", \"arrowhead\": 0, \"arrowwidth\": 1}, \"coloraxis\": {\"colorbar\": {\"outlinewidth\": 0, \"ticks\": \"\"}}, \"colorscale\": {\"diverging\": [[0, \"#8e0152\"], [0.1, \"#c51b7d\"], [0.2, \"#de77ae\"], [0.3, \"#f1b6da\"], [0.4, \"#fde0ef\"], [0.5, \"#f7f7f7\"], [0.6, \"#e6f5d0\"], [0.7, \"#b8e186\"], [0.8, \"#7fbc41\"], [0.9, \"#4d9221\"], [1, \"#276419\"]], \"sequential\": [[0.0, \"#0d0887\"], [0.1111111111111111, \"#46039f\"], [0.2222222222222222, \"#7201a8\"], [0.3333333333333333, \"#9c179e\"], [0.4444444444444444, \"#bd3786\"], [0.5555555555555556, \"#d8576b\"], [0.6666666666666666, \"#ed7953\"], [0.7777777777777778, \"#fb9f3a\"], [0.8888888888888888, \"#fdca26\"], [1.0, \"#f0f921\"]], \"sequentialminus\": [[0.0, \"#0d0887\"], [0.1111111111111111, \"#46039f\"], [0.2222222222222222, \"#7201a8\"], [0.3333333333333333, \"#9c179e\"], [0.4444444444444444, \"#bd3786\"], [0.5555555555555556, \"#d8576b\"], [0.6666666666666666, \"#ed7953\"], [0.7777777777777778, \"#fb9f3a\"], [0.8888888888888888, \"#fdca26\"], [1.0, \"#f0f921\"]]}, \"colorway\": [\"#636efa\", \"#EF553B\", \"#00cc96\", \"#ab63fa\", \"#FFA15A\", \"#19d3f3\", \"#FF6692\", \"#B6E880\", \"#FF97FF\", \"#FECB52\"], \"font\": {\"color\": \"#2a3f5f\"}, \"geo\": {\"bgcolor\": \"white\", \"lakecolor\": \"white\", \"landcolor\": \"#E5ECF6\", \"showlakes\": true, \"showland\": true, \"subunitcolor\": \"white\"}, \"hoverlabel\": {\"align\": \"left\"}, \"hovermode\": \"closest\", \"mapbox\": {\"style\": \"light\"}, \"paper_bgcolor\": \"white\", \"plot_bgcolor\": \"#E5ECF6\", \"polar\": {\"angularaxis\": {\"gridcolor\": \"white\", \"linecolor\": \"white\", \"ticks\": \"\"}, \"bgcolor\": \"#E5ECF6\", \"radialaxis\": {\"gridcolor\": \"white\", \"linecolor\": \"white\", \"ticks\": \"\"}}, \"scene\": {\"xaxis\": {\"backgroundcolor\": \"#E5ECF6\", \"gridcolor\": \"white\", \"gridwidth\": 2, \"linecolor\": \"white\", \"showbackground\": true, \"ticks\": \"\", \"zerolinecolor\": \"white\"}, \"yaxis\": {\"backgroundcolor\": \"#E5ECF6\", \"gridcolor\": \"white\", \"gridwidth\": 2, \"linecolor\": \"white\", \"showbackground\": true, \"ticks\": \"\", \"zerolinecolor\": \"white\"}, \"zaxis\": {\"backgroundcolor\": \"#E5ECF6\", \"gridcolor\": \"white\", \"gridwidth\": 2, \"linecolor\": \"white\", \"showbackground\": true, \"ticks\": \"\", \"zerolinecolor\": \"white\"}}, \"shapedefaults\": {\"line\": {\"color\": \"#2a3f5f\"}}, \"ternary\": {\"aaxis\": {\"gridcolor\": \"white\", \"linecolor\": \"white\", \"ticks\": \"\"}, \"baxis\": {\"gridcolor\": \"white\", \"linecolor\": \"white\", \"ticks\": \"\"}, \"bgcolor\": \"#E5ECF6\", \"caxis\": {\"gridcolor\": \"white\", \"linecolor\": \"white\", \"ticks\": \"\"}}, \"title\": {\"x\": 0.05}, \"xaxis\": {\"automargin\": true, \"gridcolor\": \"white\", \"linecolor\": \"white\", \"ticks\": \"\", \"title\": {\"standoff\": 15}, \"zerolinecolor\": \"white\", \"zerolinewidth\": 2}, \"yaxis\": {\"automargin\": true, \"gridcolor\": \"white\", \"linecolor\": \"white\", \"ticks\": \"\", \"title\": {\"standoff\": 15}, \"zerolinecolor\": \"white\", \"zerolinewidth\": 2}}}, \"title\": {\"text\": \"Contribution des membres\", \"x\": 0.5}, \"xaxis\": {\"anchor\": \"y\", \"categoryorder\": \"total descending\", \"domain\": [0.0, 1.0], \"title\": {\"text\": \"sender\"}}, \"yaxis\": {\"anchor\": \"x\", \"domain\": [0.0, 1.0], \"title\": {\"text\": \"count\"}}},\n",
              "                        {\"responsive\": true}\n",
              "                    ).then(function(){\n",
              "                            \n",
              "var gd = document.getElementById('64fdefbe-fef0-47fe-8d94-53e13cc1db09');\n",
              "var x = new MutationObserver(function (mutations, observer) {{\n",
              "        var display = window.getComputedStyle(gd).display;\n",
              "        if (!display || display === 'none') {{\n",
              "            console.log([gd, 'removed!']);\n",
              "            Plotly.purge(gd);\n",
              "            observer.disconnect();\n",
              "        }}\n",
              "}});\n",
              "\n",
              "// Listen for the removal of the full notebook cells\n",
              "var notebookContainer = gd.closest('#notebook-container');\n",
              "if (notebookContainer) {{\n",
              "    x.observe(notebookContainer, {childList: true});\n",
              "}}\n",
              "\n",
              "// Listen for the clearing of the current output cell\n",
              "var outputEl = gd.closest('.output');\n",
              "if (outputEl) {{\n",
              "    x.observe(outputEl, {childList: true});\n",
              "}}\n",
              "\n",
              "                        })\n",
              "                };\n",
              "                \n",
              "            </script>\n",
              "        </div>\n",
              "</body>\n",
              "</html>"
            ]
          },
          "metadata": {
            "tags": []
          }
        }
      ]
    },
    {
      "cell_type": "markdown",
      "metadata": {
        "id": "GijRmBoOFBjT"
      },
      "source": [
        "Un membre particulièrement très actif par rapport aux autres"
      ]
    },
    {
      "cell_type": "markdown",
      "metadata": {
        "id": "PDClYw3RDsL0"
      },
      "source": [
        "# Quels sont les 20 mots les plus utilisés (au global, puis par les 5 personnes qui envoient le plus de messages) ?"
      ]
    },
    {
      "cell_type": "code",
      "metadata": {
        "id": "S3SE-DXvXkD_",
        "outputId": "e063f78a-1658-4ac1-b162-c8e9e90c18df",
        "colab": {
          "base_uri": "https://localhost:8080/",
          "height": 542
        }
      },
      "source": [
        "fig = px.bar(data_frame = df_top_words,\n",
        "       x = 'words',\n",
        "       y = 'count')\n",
        "fig.update_layout(title = 'Top 20 des mots / expressions / etc... utilisés', title_x = 0.5)"
      ],
      "execution_count": null,
      "outputs": [
        {
          "output_type": "display_data",
          "data": {
            "text/html": [
              "<html>\n",
              "<head><meta charset=\"utf-8\" /></head>\n",
              "<body>\n",
              "    <div>\n",
              "            <script src=\"https://cdnjs.cloudflare.com/ajax/libs/mathjax/2.7.5/MathJax.js?config=TeX-AMS-MML_SVG\"></script><script type=\"text/javascript\">if (window.MathJax) {MathJax.Hub.Config({SVG: {font: \"STIX-Web\"}});}</script>\n",
              "                <script type=\"text/javascript\">window.PlotlyConfig = {MathJaxConfig: 'local'};</script>\n",
              "        <script src=\"https://cdn.plot.ly/plotly-latest.min.js\"></script>    \n",
              "            <div id=\"9bb94ccf-41a9-4c5d-a3cf-5d25abf3a65a\" class=\"plotly-graph-div\" style=\"height:525px; width:100%;\"></div>\n",
              "            <script type=\"text/javascript\">\n",
              "                \n",
              "                    window.PLOTLYENV=window.PLOTLYENV || {};\n",
              "                    \n",
              "                if (document.getElementById(\"9bb94ccf-41a9-4c5d-a3cf-5d25abf3a65a\")) {\n",
              "                    Plotly.newPlot(\n",
              "                        '9bb94ccf-41a9-4c5d-a3cf-5d25abf3a65a',\n",
              "                        [{\"alignmentgroup\": \"True\", \"hoverlabel\": {\"namelength\": 0}, \"hovertemplate\": \"words=%{x}<br>count=%{y}\", \"legendgroup\": \"\", \"marker\": {\"color\": \"#636efa\"}, \"name\": \"\", \"offsetgroup\": \"\", \"orientation\": \"v\", \"showlegend\": false, \"textposition\": \"auto\", \"type\": \"bar\", \"x\": [\"lol\", \"oui\", \"bon\", \"bien\", \"non\", \"merci\", \"ah\", \"fait\", \"si\", \"plus\", \"trop\", \"faire\", \"va\", \"aussi\", \"jojo\", \"\\ud83e\\udd23\", \"https\", \"tout\", \"c'est\", \"\\ud83d\\udc4d\"], \"xaxis\": \"x\", \"y\": [404, 364, 210, 208, 187, 185, 173, 171, 162, 161, 152, 147, 147, 141, 116, 111, 108, 103, 103, 97], \"yaxis\": \"y\"}],\n",
              "                        {\"barmode\": \"relative\", \"legend\": {\"tracegroupgap\": 0}, \"margin\": {\"t\": 60}, \"template\": {\"data\": {\"bar\": [{\"error_x\": {\"color\": \"#2a3f5f\"}, \"error_y\": {\"color\": \"#2a3f5f\"}, \"marker\": {\"line\": {\"color\": \"#E5ECF6\", \"width\": 0.5}}, \"type\": \"bar\"}], \"barpolar\": [{\"marker\": {\"line\": {\"color\": \"#E5ECF6\", \"width\": 0.5}}, \"type\": \"barpolar\"}], \"carpet\": [{\"aaxis\": {\"endlinecolor\": \"#2a3f5f\", \"gridcolor\": \"white\", \"linecolor\": \"white\", \"minorgridcolor\": \"white\", \"startlinecolor\": \"#2a3f5f\"}, \"baxis\": {\"endlinecolor\": \"#2a3f5f\", \"gridcolor\": \"white\", \"linecolor\": \"white\", \"minorgridcolor\": \"white\", \"startlinecolor\": \"#2a3f5f\"}, \"type\": \"carpet\"}], \"choropleth\": [{\"colorbar\": {\"outlinewidth\": 0, \"ticks\": \"\"}, \"type\": \"choropleth\"}], \"contour\": [{\"colorbar\": {\"outlinewidth\": 0, \"ticks\": \"\"}, \"colorscale\": [[0.0, \"#0d0887\"], [0.1111111111111111, \"#46039f\"], [0.2222222222222222, \"#7201a8\"], [0.3333333333333333, \"#9c179e\"], [0.4444444444444444, \"#bd3786\"], [0.5555555555555556, \"#d8576b\"], [0.6666666666666666, \"#ed7953\"], [0.7777777777777778, \"#fb9f3a\"], [0.8888888888888888, \"#fdca26\"], [1.0, \"#f0f921\"]], \"type\": \"contour\"}], \"contourcarpet\": [{\"colorbar\": {\"outlinewidth\": 0, \"ticks\": \"\"}, \"type\": \"contourcarpet\"}], \"heatmap\": [{\"colorbar\": {\"outlinewidth\": 0, \"ticks\": \"\"}, \"colorscale\": [[0.0, \"#0d0887\"], [0.1111111111111111, \"#46039f\"], [0.2222222222222222, \"#7201a8\"], [0.3333333333333333, \"#9c179e\"], [0.4444444444444444, \"#bd3786\"], [0.5555555555555556, \"#d8576b\"], [0.6666666666666666, \"#ed7953\"], [0.7777777777777778, \"#fb9f3a\"], [0.8888888888888888, \"#fdca26\"], [1.0, \"#f0f921\"]], \"type\": \"heatmap\"}], \"heatmapgl\": [{\"colorbar\": {\"outlinewidth\": 0, \"ticks\": \"\"}, \"colorscale\": [[0.0, \"#0d0887\"], [0.1111111111111111, \"#46039f\"], [0.2222222222222222, \"#7201a8\"], [0.3333333333333333, \"#9c179e\"], [0.4444444444444444, \"#bd3786\"], [0.5555555555555556, \"#d8576b\"], [0.6666666666666666, \"#ed7953\"], [0.7777777777777778, \"#fb9f3a\"], [0.8888888888888888, \"#fdca26\"], [1.0, \"#f0f921\"]], \"type\": \"heatmapgl\"}], \"histogram\": [{\"marker\": {\"colorbar\": {\"outlinewidth\": 0, \"ticks\": \"\"}}, \"type\": \"histogram\"}], \"histogram2d\": [{\"colorbar\": {\"outlinewidth\": 0, \"ticks\": \"\"}, \"colorscale\": [[0.0, \"#0d0887\"], [0.1111111111111111, \"#46039f\"], [0.2222222222222222, \"#7201a8\"], [0.3333333333333333, \"#9c179e\"], [0.4444444444444444, \"#bd3786\"], [0.5555555555555556, \"#d8576b\"], [0.6666666666666666, \"#ed7953\"], [0.7777777777777778, \"#fb9f3a\"], [0.8888888888888888, \"#fdca26\"], [1.0, \"#f0f921\"]], \"type\": \"histogram2d\"}], \"histogram2dcontour\": [{\"colorbar\": {\"outlinewidth\": 0, \"ticks\": \"\"}, \"colorscale\": [[0.0, \"#0d0887\"], [0.1111111111111111, \"#46039f\"], [0.2222222222222222, \"#7201a8\"], [0.3333333333333333, \"#9c179e\"], [0.4444444444444444, \"#bd3786\"], [0.5555555555555556, \"#d8576b\"], [0.6666666666666666, \"#ed7953\"], [0.7777777777777778, \"#fb9f3a\"], [0.8888888888888888, \"#fdca26\"], [1.0, \"#f0f921\"]], \"type\": \"histogram2dcontour\"}], \"mesh3d\": [{\"colorbar\": {\"outlinewidth\": 0, \"ticks\": \"\"}, \"type\": \"mesh3d\"}], \"parcoords\": [{\"line\": {\"colorbar\": {\"outlinewidth\": 0, \"ticks\": \"\"}}, \"type\": \"parcoords\"}], \"pie\": [{\"automargin\": true, \"type\": \"pie\"}], \"scatter\": [{\"marker\": {\"colorbar\": {\"outlinewidth\": 0, \"ticks\": \"\"}}, \"type\": \"scatter\"}], \"scatter3d\": [{\"line\": {\"colorbar\": {\"outlinewidth\": 0, \"ticks\": \"\"}}, \"marker\": {\"colorbar\": {\"outlinewidth\": 0, \"ticks\": \"\"}}, \"type\": \"scatter3d\"}], \"scattercarpet\": [{\"marker\": {\"colorbar\": {\"outlinewidth\": 0, \"ticks\": \"\"}}, \"type\": \"scattercarpet\"}], \"scattergeo\": [{\"marker\": {\"colorbar\": {\"outlinewidth\": 0, \"ticks\": \"\"}}, \"type\": \"scattergeo\"}], \"scattergl\": [{\"marker\": {\"colorbar\": {\"outlinewidth\": 0, \"ticks\": \"\"}}, \"type\": \"scattergl\"}], \"scattermapbox\": [{\"marker\": {\"colorbar\": {\"outlinewidth\": 0, \"ticks\": \"\"}}, \"type\": \"scattermapbox\"}], \"scatterpolar\": [{\"marker\": {\"colorbar\": {\"outlinewidth\": 0, \"ticks\": \"\"}}, \"type\": \"scatterpolar\"}], \"scatterpolargl\": [{\"marker\": {\"colorbar\": {\"outlinewidth\": 0, \"ticks\": \"\"}}, \"type\": \"scatterpolargl\"}], \"scatterternary\": [{\"marker\": {\"colorbar\": {\"outlinewidth\": 0, \"ticks\": \"\"}}, \"type\": \"scatterternary\"}], \"surface\": [{\"colorbar\": {\"outlinewidth\": 0, \"ticks\": \"\"}, \"colorscale\": [[0.0, \"#0d0887\"], [0.1111111111111111, \"#46039f\"], [0.2222222222222222, \"#7201a8\"], [0.3333333333333333, \"#9c179e\"], [0.4444444444444444, \"#bd3786\"], [0.5555555555555556, \"#d8576b\"], [0.6666666666666666, \"#ed7953\"], [0.7777777777777778, \"#fb9f3a\"], [0.8888888888888888, \"#fdca26\"], [1.0, \"#f0f921\"]], \"type\": \"surface\"}], \"table\": [{\"cells\": {\"fill\": {\"color\": \"#EBF0F8\"}, \"line\": {\"color\": \"white\"}}, \"header\": {\"fill\": {\"color\": \"#C8D4E3\"}, \"line\": {\"color\": \"white\"}}, \"type\": \"table\"}]}, \"layout\": {\"annotationdefaults\": {\"arrowcolor\": \"#2a3f5f\", \"arrowhead\": 0, \"arrowwidth\": 1}, \"coloraxis\": {\"colorbar\": {\"outlinewidth\": 0, \"ticks\": \"\"}}, \"colorscale\": {\"diverging\": [[0, \"#8e0152\"], [0.1, \"#c51b7d\"], [0.2, \"#de77ae\"], [0.3, \"#f1b6da\"], [0.4, \"#fde0ef\"], [0.5, \"#f7f7f7\"], [0.6, \"#e6f5d0\"], [0.7, \"#b8e186\"], [0.8, \"#7fbc41\"], [0.9, \"#4d9221\"], [1, \"#276419\"]], \"sequential\": [[0.0, \"#0d0887\"], [0.1111111111111111, \"#46039f\"], [0.2222222222222222, \"#7201a8\"], [0.3333333333333333, \"#9c179e\"], [0.4444444444444444, \"#bd3786\"], [0.5555555555555556, \"#d8576b\"], [0.6666666666666666, \"#ed7953\"], [0.7777777777777778, \"#fb9f3a\"], [0.8888888888888888, \"#fdca26\"], [1.0, \"#f0f921\"]], \"sequentialminus\": [[0.0, \"#0d0887\"], [0.1111111111111111, \"#46039f\"], [0.2222222222222222, \"#7201a8\"], [0.3333333333333333, \"#9c179e\"], [0.4444444444444444, \"#bd3786\"], [0.5555555555555556, \"#d8576b\"], [0.6666666666666666, \"#ed7953\"], [0.7777777777777778, \"#fb9f3a\"], [0.8888888888888888, \"#fdca26\"], [1.0, \"#f0f921\"]]}, \"colorway\": [\"#636efa\", \"#EF553B\", \"#00cc96\", \"#ab63fa\", \"#FFA15A\", \"#19d3f3\", \"#FF6692\", \"#B6E880\", \"#FF97FF\", \"#FECB52\"], \"font\": {\"color\": \"#2a3f5f\"}, \"geo\": {\"bgcolor\": \"white\", \"lakecolor\": \"white\", \"landcolor\": \"#E5ECF6\", \"showlakes\": true, \"showland\": true, \"subunitcolor\": \"white\"}, \"hoverlabel\": {\"align\": \"left\"}, \"hovermode\": \"closest\", \"mapbox\": {\"style\": \"light\"}, \"paper_bgcolor\": \"white\", \"plot_bgcolor\": \"#E5ECF6\", \"polar\": {\"angularaxis\": {\"gridcolor\": \"white\", \"linecolor\": \"white\", \"ticks\": \"\"}, \"bgcolor\": \"#E5ECF6\", \"radialaxis\": {\"gridcolor\": \"white\", \"linecolor\": \"white\", \"ticks\": \"\"}}, \"scene\": {\"xaxis\": {\"backgroundcolor\": \"#E5ECF6\", \"gridcolor\": \"white\", \"gridwidth\": 2, \"linecolor\": \"white\", \"showbackground\": true, \"ticks\": \"\", \"zerolinecolor\": \"white\"}, \"yaxis\": {\"backgroundcolor\": \"#E5ECF6\", \"gridcolor\": \"white\", \"gridwidth\": 2, \"linecolor\": \"white\", \"showbackground\": true, \"ticks\": \"\", \"zerolinecolor\": \"white\"}, \"zaxis\": {\"backgroundcolor\": \"#E5ECF6\", \"gridcolor\": \"white\", \"gridwidth\": 2, \"linecolor\": \"white\", \"showbackground\": true, \"ticks\": \"\", \"zerolinecolor\": \"white\"}}, \"shapedefaults\": {\"line\": {\"color\": \"#2a3f5f\"}}, \"ternary\": {\"aaxis\": {\"gridcolor\": \"white\", \"linecolor\": \"white\", \"ticks\": \"\"}, \"baxis\": {\"gridcolor\": \"white\", \"linecolor\": \"white\", \"ticks\": \"\"}, \"bgcolor\": \"#E5ECF6\", \"caxis\": {\"gridcolor\": \"white\", \"linecolor\": \"white\", \"ticks\": \"\"}}, \"title\": {\"x\": 0.05}, \"xaxis\": {\"automargin\": true, \"gridcolor\": \"white\", \"linecolor\": \"white\", \"ticks\": \"\", \"title\": {\"standoff\": 15}, \"zerolinecolor\": \"white\", \"zerolinewidth\": 2}, \"yaxis\": {\"automargin\": true, \"gridcolor\": \"white\", \"linecolor\": \"white\", \"ticks\": \"\", \"title\": {\"standoff\": 15}, \"zerolinecolor\": \"white\", \"zerolinewidth\": 2}}}, \"title\": {\"text\": \"Top 20 des mots / expressions / etc... utilis\\u00e9s\", \"x\": 0.5}, \"xaxis\": {\"anchor\": \"y\", \"domain\": [0.0, 1.0], \"title\": {\"text\": \"words\"}}, \"yaxis\": {\"anchor\": \"x\", \"domain\": [0.0, 1.0], \"title\": {\"text\": \"count\"}}},\n",
              "                        {\"responsive\": true}\n",
              "                    ).then(function(){\n",
              "                            \n",
              "var gd = document.getElementById('9bb94ccf-41a9-4c5d-a3cf-5d25abf3a65a');\n",
              "var x = new MutationObserver(function (mutations, observer) {{\n",
              "        var display = window.getComputedStyle(gd).display;\n",
              "        if (!display || display === 'none') {{\n",
              "            console.log([gd, 'removed!']);\n",
              "            Plotly.purge(gd);\n",
              "            observer.disconnect();\n",
              "        }}\n",
              "}});\n",
              "\n",
              "// Listen for the removal of the full notebook cells\n",
              "var notebookContainer = gd.closest('#notebook-container');\n",
              "if (notebookContainer) {{\n",
              "    x.observe(notebookContainer, {childList: true});\n",
              "}}\n",
              "\n",
              "// Listen for the clearing of the current output cell\n",
              "var outputEl = gd.closest('.output');\n",
              "if (outputEl) {{\n",
              "    x.observe(outputEl, {childList: true});\n",
              "}}\n",
              "\n",
              "                        })\n",
              "                };\n",
              "                \n",
              "            </script>\n",
              "        </div>\n",
              "</body>\n",
              "</html>"
            ]
          },
          "metadata": {
            "tags": []
          }
        }
      ]
    },
    {
      "cell_type": "code",
      "metadata": {
        "id": "u7qEDaNKn37X",
        "outputId": "3bf59b59-15e1-4c14-8d4c-1f256a7ea53f",
        "colab": {
          "base_uri": "https://localhost:8080/",
          "height": 542
        }
      },
      "source": [
        "fig = px.bar(data_frame = df_by_sender.iloc[:20,:], x = 'words', y = 'count')\n",
        "fig.update_layout(title = 'Mots les plus utilisés par {}'.format(df['sender'].value_counts().head(5).index[0]), title_x = 0.5)"
      ],
      "execution_count": null,
      "outputs": [
        {
          "output_type": "display_data",
          "data": {
            "text/html": [
              "<html>\n",
              "<head><meta charset=\"utf-8\" /></head>\n",
              "<body>\n",
              "    <div>\n",
              "            <script src=\"https://cdnjs.cloudflare.com/ajax/libs/mathjax/2.7.5/MathJax.js?config=TeX-AMS-MML_SVG\"></script><script type=\"text/javascript\">if (window.MathJax) {MathJax.Hub.Config({SVG: {font: \"STIX-Web\"}});}</script>\n",
              "                <script type=\"text/javascript\">window.PlotlyConfig = {MathJaxConfig: 'local'};</script>\n",
              "        <script src=\"https://cdn.plot.ly/plotly-latest.min.js\"></script>    \n",
              "            <div id=\"2c7f05da-f1c1-44c2-96fe-2cefca061cd6\" class=\"plotly-graph-div\" style=\"height:525px; width:100%;\"></div>\n",
              "            <script type=\"text/javascript\">\n",
              "                \n",
              "                    window.PLOTLYENV=window.PLOTLYENV || {};\n",
              "                    \n",
              "                if (document.getElementById(\"2c7f05da-f1c1-44c2-96fe-2cefca061cd6\")) {\n",
              "                    Plotly.newPlot(\n",
              "                        '2c7f05da-f1c1-44c2-96fe-2cefca061cd6',\n",
              "                        [{\"alignmentgroup\": \"True\", \"hoverlabel\": {\"namelength\": 0}, \"hovertemplate\": \"words=%{x}<br>count=%{y}\", \"legendgroup\": \"\", \"marker\": {\"color\": \"#636efa\"}, \"name\": \"\", \"offsetgroup\": \"\", \"orientation\": \"v\", \"showlegend\": false, \"textposition\": \"auto\", \"type\": \"bar\", \"x\": [\"lol\", \"oui\", \"bon\", \"bien\", \"fait\", \"faire\", \"https\", \"ah\", \"si\", \"\\ud83e\\udd23\", \"22\", \"plus\", \"merci\", \"va\", \"non\", \"\\ud83d\\udc4d\", \"trop\", \"2c\", \"etre\", \"mdr\"], \"xaxis\": \"x\", \"y\": [386, 120, 113, 87, 86, 83, 80, 79, 77, 77, 76, 73, 70, 64, 59, 56, 54, 52, 51, 49], \"yaxis\": \"y\"}],\n",
              "                        {\"barmode\": \"relative\", \"legend\": {\"tracegroupgap\": 0}, \"margin\": {\"t\": 60}, \"template\": {\"data\": {\"bar\": [{\"error_x\": {\"color\": \"#2a3f5f\"}, \"error_y\": {\"color\": \"#2a3f5f\"}, \"marker\": {\"line\": {\"color\": \"#E5ECF6\", \"width\": 0.5}}, \"type\": \"bar\"}], \"barpolar\": [{\"marker\": {\"line\": {\"color\": \"#E5ECF6\", \"width\": 0.5}}, \"type\": \"barpolar\"}], \"carpet\": [{\"aaxis\": {\"endlinecolor\": \"#2a3f5f\", \"gridcolor\": \"white\", \"linecolor\": \"white\", \"minorgridcolor\": \"white\", \"startlinecolor\": \"#2a3f5f\"}, \"baxis\": {\"endlinecolor\": \"#2a3f5f\", \"gridcolor\": \"white\", \"linecolor\": \"white\", \"minorgridcolor\": \"white\", \"startlinecolor\": \"#2a3f5f\"}, \"type\": \"carpet\"}], \"choropleth\": [{\"colorbar\": {\"outlinewidth\": 0, \"ticks\": \"\"}, \"type\": \"choropleth\"}], \"contour\": [{\"colorbar\": {\"outlinewidth\": 0, \"ticks\": \"\"}, \"colorscale\": [[0.0, \"#0d0887\"], [0.1111111111111111, \"#46039f\"], [0.2222222222222222, \"#7201a8\"], [0.3333333333333333, \"#9c179e\"], [0.4444444444444444, \"#bd3786\"], [0.5555555555555556, \"#d8576b\"], [0.6666666666666666, \"#ed7953\"], [0.7777777777777778, \"#fb9f3a\"], [0.8888888888888888, \"#fdca26\"], [1.0, \"#f0f921\"]], \"type\": \"contour\"}], \"contourcarpet\": [{\"colorbar\": {\"outlinewidth\": 0, \"ticks\": \"\"}, \"type\": \"contourcarpet\"}], \"heatmap\": [{\"colorbar\": {\"outlinewidth\": 0, \"ticks\": \"\"}, \"colorscale\": [[0.0, \"#0d0887\"], [0.1111111111111111, \"#46039f\"], [0.2222222222222222, \"#7201a8\"], [0.3333333333333333, \"#9c179e\"], [0.4444444444444444, \"#bd3786\"], [0.5555555555555556, \"#d8576b\"], [0.6666666666666666, \"#ed7953\"], [0.7777777777777778, \"#fb9f3a\"], [0.8888888888888888, \"#fdca26\"], [1.0, \"#f0f921\"]], \"type\": \"heatmap\"}], \"heatmapgl\": [{\"colorbar\": {\"outlinewidth\": 0, \"ticks\": \"\"}, \"colorscale\": [[0.0, \"#0d0887\"], [0.1111111111111111, \"#46039f\"], [0.2222222222222222, \"#7201a8\"], [0.3333333333333333, \"#9c179e\"], [0.4444444444444444, \"#bd3786\"], [0.5555555555555556, \"#d8576b\"], [0.6666666666666666, \"#ed7953\"], [0.7777777777777778, \"#fb9f3a\"], [0.8888888888888888, \"#fdca26\"], [1.0, \"#f0f921\"]], \"type\": \"heatmapgl\"}], \"histogram\": [{\"marker\": {\"colorbar\": {\"outlinewidth\": 0, \"ticks\": \"\"}}, \"type\": \"histogram\"}], \"histogram2d\": [{\"colorbar\": {\"outlinewidth\": 0, \"ticks\": \"\"}, \"colorscale\": [[0.0, \"#0d0887\"], [0.1111111111111111, \"#46039f\"], [0.2222222222222222, \"#7201a8\"], [0.3333333333333333, \"#9c179e\"], [0.4444444444444444, \"#bd3786\"], [0.5555555555555556, \"#d8576b\"], [0.6666666666666666, \"#ed7953\"], [0.7777777777777778, \"#fb9f3a\"], [0.8888888888888888, \"#fdca26\"], [1.0, \"#f0f921\"]], \"type\": \"histogram2d\"}], \"histogram2dcontour\": [{\"colorbar\": {\"outlinewidth\": 0, \"ticks\": \"\"}, \"colorscale\": [[0.0, \"#0d0887\"], [0.1111111111111111, \"#46039f\"], [0.2222222222222222, \"#7201a8\"], [0.3333333333333333, \"#9c179e\"], [0.4444444444444444, \"#bd3786\"], [0.5555555555555556, \"#d8576b\"], [0.6666666666666666, \"#ed7953\"], [0.7777777777777778, \"#fb9f3a\"], [0.8888888888888888, \"#fdca26\"], [1.0, \"#f0f921\"]], \"type\": \"histogram2dcontour\"}], \"mesh3d\": [{\"colorbar\": {\"outlinewidth\": 0, \"ticks\": \"\"}, \"type\": \"mesh3d\"}], \"parcoords\": [{\"line\": {\"colorbar\": {\"outlinewidth\": 0, \"ticks\": \"\"}}, \"type\": \"parcoords\"}], \"pie\": [{\"automargin\": true, \"type\": \"pie\"}], \"scatter\": [{\"marker\": {\"colorbar\": {\"outlinewidth\": 0, \"ticks\": \"\"}}, \"type\": \"scatter\"}], \"scatter3d\": [{\"line\": {\"colorbar\": {\"outlinewidth\": 0, \"ticks\": \"\"}}, \"marker\": {\"colorbar\": {\"outlinewidth\": 0, \"ticks\": \"\"}}, \"type\": \"scatter3d\"}], \"scattercarpet\": [{\"marker\": {\"colorbar\": {\"outlinewidth\": 0, \"ticks\": \"\"}}, \"type\": \"scattercarpet\"}], \"scattergeo\": [{\"marker\": {\"colorbar\": {\"outlinewidth\": 0, \"ticks\": \"\"}}, \"type\": \"scattergeo\"}], \"scattergl\": [{\"marker\": {\"colorbar\": {\"outlinewidth\": 0, \"ticks\": \"\"}}, \"type\": \"scattergl\"}], \"scattermapbox\": [{\"marker\": {\"colorbar\": {\"outlinewidth\": 0, \"ticks\": \"\"}}, \"type\": \"scattermapbox\"}], \"scatterpolar\": [{\"marker\": {\"colorbar\": {\"outlinewidth\": 0, \"ticks\": \"\"}}, \"type\": \"scatterpolar\"}], \"scatterpolargl\": [{\"marker\": {\"colorbar\": {\"outlinewidth\": 0, \"ticks\": \"\"}}, \"type\": \"scatterpolargl\"}], \"scatterternary\": [{\"marker\": {\"colorbar\": {\"outlinewidth\": 0, \"ticks\": \"\"}}, \"type\": \"scatterternary\"}], \"surface\": [{\"colorbar\": {\"outlinewidth\": 0, \"ticks\": \"\"}, \"colorscale\": [[0.0, \"#0d0887\"], [0.1111111111111111, \"#46039f\"], [0.2222222222222222, \"#7201a8\"], [0.3333333333333333, \"#9c179e\"], [0.4444444444444444, \"#bd3786\"], [0.5555555555555556, \"#d8576b\"], [0.6666666666666666, \"#ed7953\"], [0.7777777777777778, \"#fb9f3a\"], [0.8888888888888888, \"#fdca26\"], [1.0, \"#f0f921\"]], \"type\": \"surface\"}], \"table\": [{\"cells\": {\"fill\": {\"color\": \"#EBF0F8\"}, \"line\": {\"color\": \"white\"}}, \"header\": {\"fill\": {\"color\": \"#C8D4E3\"}, \"line\": {\"color\": \"white\"}}, \"type\": \"table\"}]}, \"layout\": {\"annotationdefaults\": {\"arrowcolor\": \"#2a3f5f\", \"arrowhead\": 0, \"arrowwidth\": 1}, \"coloraxis\": {\"colorbar\": {\"outlinewidth\": 0, \"ticks\": \"\"}}, \"colorscale\": {\"diverging\": [[0, \"#8e0152\"], [0.1, \"#c51b7d\"], [0.2, \"#de77ae\"], [0.3, \"#f1b6da\"], [0.4, \"#fde0ef\"], [0.5, \"#f7f7f7\"], [0.6, \"#e6f5d0\"], [0.7, \"#b8e186\"], [0.8, \"#7fbc41\"], [0.9, \"#4d9221\"], [1, \"#276419\"]], \"sequential\": [[0.0, \"#0d0887\"], [0.1111111111111111, \"#46039f\"], [0.2222222222222222, \"#7201a8\"], [0.3333333333333333, \"#9c179e\"], [0.4444444444444444, \"#bd3786\"], [0.5555555555555556, \"#d8576b\"], [0.6666666666666666, \"#ed7953\"], [0.7777777777777778, \"#fb9f3a\"], [0.8888888888888888, \"#fdca26\"], [1.0, \"#f0f921\"]], \"sequentialminus\": [[0.0, \"#0d0887\"], [0.1111111111111111, \"#46039f\"], [0.2222222222222222, \"#7201a8\"], [0.3333333333333333, \"#9c179e\"], [0.4444444444444444, \"#bd3786\"], [0.5555555555555556, \"#d8576b\"], [0.6666666666666666, \"#ed7953\"], [0.7777777777777778, \"#fb9f3a\"], [0.8888888888888888, \"#fdca26\"], [1.0, \"#f0f921\"]]}, \"colorway\": [\"#636efa\", \"#EF553B\", \"#00cc96\", \"#ab63fa\", \"#FFA15A\", \"#19d3f3\", \"#FF6692\", \"#B6E880\", \"#FF97FF\", \"#FECB52\"], \"font\": {\"color\": \"#2a3f5f\"}, \"geo\": {\"bgcolor\": \"white\", \"lakecolor\": \"white\", \"landcolor\": \"#E5ECF6\", \"showlakes\": true, \"showland\": true, \"subunitcolor\": \"white\"}, \"hoverlabel\": {\"align\": \"left\"}, \"hovermode\": \"closest\", \"mapbox\": {\"style\": \"light\"}, \"paper_bgcolor\": \"white\", \"plot_bgcolor\": \"#E5ECF6\", \"polar\": {\"angularaxis\": {\"gridcolor\": \"white\", \"linecolor\": \"white\", \"ticks\": \"\"}, \"bgcolor\": \"#E5ECF6\", \"radialaxis\": {\"gridcolor\": \"white\", \"linecolor\": \"white\", \"ticks\": \"\"}}, \"scene\": {\"xaxis\": {\"backgroundcolor\": \"#E5ECF6\", \"gridcolor\": \"white\", \"gridwidth\": 2, \"linecolor\": \"white\", \"showbackground\": true, \"ticks\": \"\", \"zerolinecolor\": \"white\"}, \"yaxis\": {\"backgroundcolor\": \"#E5ECF6\", \"gridcolor\": \"white\", \"gridwidth\": 2, \"linecolor\": \"white\", \"showbackground\": true, \"ticks\": \"\", \"zerolinecolor\": \"white\"}, \"zaxis\": {\"backgroundcolor\": \"#E5ECF6\", \"gridcolor\": \"white\", \"gridwidth\": 2, \"linecolor\": \"white\", \"showbackground\": true, \"ticks\": \"\", \"zerolinecolor\": \"white\"}}, \"shapedefaults\": {\"line\": {\"color\": \"#2a3f5f\"}}, \"ternary\": {\"aaxis\": {\"gridcolor\": \"white\", \"linecolor\": \"white\", \"ticks\": \"\"}, \"baxis\": {\"gridcolor\": \"white\", \"linecolor\": \"white\", \"ticks\": \"\"}, \"bgcolor\": \"#E5ECF6\", \"caxis\": {\"gridcolor\": \"white\", \"linecolor\": \"white\", \"ticks\": \"\"}}, \"title\": {\"x\": 0.05}, \"xaxis\": {\"automargin\": true, \"gridcolor\": \"white\", \"linecolor\": \"white\", \"ticks\": \"\", \"title\": {\"standoff\": 15}, \"zerolinecolor\": \"white\", \"zerolinewidth\": 2}, \"yaxis\": {\"automargin\": true, \"gridcolor\": \"white\", \"linecolor\": \"white\", \"ticks\": \"\", \"title\": {\"standoff\": 15}, \"zerolinecolor\": \"white\", \"zerolinewidth\": 2}}}, \"title\": {\"text\": \"Mots les plus utilis\\u00e9s par sender_4\", \"x\": 0.5}, \"xaxis\": {\"anchor\": \"y\", \"domain\": [0.0, 1.0], \"title\": {\"text\": \"words\"}}, \"yaxis\": {\"anchor\": \"x\", \"domain\": [0.0, 1.0], \"title\": {\"text\": \"count\"}}},\n",
              "                        {\"responsive\": true}\n",
              "                    ).then(function(){\n",
              "                            \n",
              "var gd = document.getElementById('2c7f05da-f1c1-44c2-96fe-2cefca061cd6');\n",
              "var x = new MutationObserver(function (mutations, observer) {{\n",
              "        var display = window.getComputedStyle(gd).display;\n",
              "        if (!display || display === 'none') {{\n",
              "            console.log([gd, 'removed!']);\n",
              "            Plotly.purge(gd);\n",
              "            observer.disconnect();\n",
              "        }}\n",
              "}});\n",
              "\n",
              "// Listen for the removal of the full notebook cells\n",
              "var notebookContainer = gd.closest('#notebook-container');\n",
              "if (notebookContainer) {{\n",
              "    x.observe(notebookContainer, {childList: true});\n",
              "}}\n",
              "\n",
              "// Listen for the clearing of the current output cell\n",
              "var outputEl = gd.closest('.output');\n",
              "if (outputEl) {{\n",
              "    x.observe(outputEl, {childList: true});\n",
              "}}\n",
              "\n",
              "                        })\n",
              "                };\n",
              "                \n",
              "            </script>\n",
              "        </div>\n",
              "</body>\n",
              "</html>"
            ]
          },
          "metadata": {
            "tags": []
          }
        }
      ]
    },
    {
      "cell_type": "code",
      "metadata": {
        "id": "QqNUBlmDrcnT",
        "outputId": "dbdfe63c-69f3-4bdf-d2f4-ba5dfe702d53",
        "colab": {
          "base_uri": "https://localhost:8080/",
          "height": 542
        }
      },
      "source": [
        "fig = px.bar(data_frame = df_by_sender.iloc[20:40,:], x = 'words', y = 'count')\n",
        "fig.update_layout(title = 'Mots les plus utilisés par {}'.format(df['sender'].value_counts().head(5).index[1]), title_x = 0.5)"
      ],
      "execution_count": null,
      "outputs": [
        {
          "output_type": "display_data",
          "data": {
            "text/html": [
              "<html>\n",
              "<head><meta charset=\"utf-8\" /></head>\n",
              "<body>\n",
              "    <div>\n",
              "            <script src=\"https://cdnjs.cloudflare.com/ajax/libs/mathjax/2.7.5/MathJax.js?config=TeX-AMS-MML_SVG\"></script><script type=\"text/javascript\">if (window.MathJax) {MathJax.Hub.Config({SVG: {font: \"STIX-Web\"}});}</script>\n",
              "                <script type=\"text/javascript\">window.PlotlyConfig = {MathJaxConfig: 'local'};</script>\n",
              "        <script src=\"https://cdn.plot.ly/plotly-latest.min.js\"></script>    \n",
              "            <div id=\"0b401e68-0edd-43cc-805c-343b01e1eae1\" class=\"plotly-graph-div\" style=\"height:525px; width:100%;\"></div>\n",
              "            <script type=\"text/javascript\">\n",
              "                \n",
              "                    window.PLOTLYENV=window.PLOTLYENV || {};\n",
              "                    \n",
              "                if (document.getElementById(\"0b401e68-0edd-43cc-805c-343b01e1eae1\")) {\n",
              "                    Plotly.newPlot(\n",
              "                        '0b401e68-0edd-43cc-805c-343b01e1eae1',\n",
              "                        [{\"alignmentgroup\": \"True\", \"hoverlabel\": {\"namelength\": 0}, \"hovertemplate\": \"words=%{x}<br>count=%{y}\", \"legendgroup\": \"\", \"marker\": {\"color\": \"#636efa\"}, \"name\": \"\", \"offsetgroup\": \"\", \"orientation\": \"v\", \"showlegend\": false, \"textposition\": \"auto\", \"type\": \"bar\", \"x\": [\"oui\", \"jojo\", \"ah\", \"aussi\", \"ben\", \"va\", \"fait\", \"\\ud83d\\ude02\\ud83d\\ude02\", \"plus\", \"tout\", \"\\ud83d\\ude01\", \"bien\", \"merci\", \"non\", \"trop\", \"nan\", \"bon\", \"faire\", \"\\u00eatre\", \"vais\"], \"xaxis\": \"x\", \"y\": [53, 32, 32, 30, 25, 23, 20, 20, 20, 20, 20, 19, 16, 16, 16, 16, 15, 13, 12, 12], \"yaxis\": \"y\"}],\n",
              "                        {\"barmode\": \"relative\", \"legend\": {\"tracegroupgap\": 0}, \"margin\": {\"t\": 60}, \"template\": {\"data\": {\"bar\": [{\"error_x\": {\"color\": \"#2a3f5f\"}, \"error_y\": {\"color\": \"#2a3f5f\"}, \"marker\": {\"line\": {\"color\": \"#E5ECF6\", \"width\": 0.5}}, \"type\": \"bar\"}], \"barpolar\": [{\"marker\": {\"line\": {\"color\": \"#E5ECF6\", \"width\": 0.5}}, \"type\": \"barpolar\"}], \"carpet\": [{\"aaxis\": {\"endlinecolor\": \"#2a3f5f\", \"gridcolor\": \"white\", \"linecolor\": \"white\", \"minorgridcolor\": \"white\", \"startlinecolor\": \"#2a3f5f\"}, \"baxis\": {\"endlinecolor\": \"#2a3f5f\", \"gridcolor\": \"white\", \"linecolor\": \"white\", \"minorgridcolor\": \"white\", \"startlinecolor\": \"#2a3f5f\"}, \"type\": \"carpet\"}], \"choropleth\": [{\"colorbar\": {\"outlinewidth\": 0, \"ticks\": \"\"}, \"type\": \"choropleth\"}], \"contour\": [{\"colorbar\": {\"outlinewidth\": 0, \"ticks\": \"\"}, \"colorscale\": [[0.0, \"#0d0887\"], [0.1111111111111111, \"#46039f\"], [0.2222222222222222, \"#7201a8\"], [0.3333333333333333, \"#9c179e\"], [0.4444444444444444, \"#bd3786\"], [0.5555555555555556, \"#d8576b\"], [0.6666666666666666, \"#ed7953\"], [0.7777777777777778, \"#fb9f3a\"], [0.8888888888888888, \"#fdca26\"], [1.0, \"#f0f921\"]], \"type\": \"contour\"}], \"contourcarpet\": [{\"colorbar\": {\"outlinewidth\": 0, \"ticks\": \"\"}, \"type\": \"contourcarpet\"}], \"heatmap\": [{\"colorbar\": {\"outlinewidth\": 0, \"ticks\": \"\"}, \"colorscale\": [[0.0, \"#0d0887\"], [0.1111111111111111, \"#46039f\"], [0.2222222222222222, \"#7201a8\"], [0.3333333333333333, \"#9c179e\"], [0.4444444444444444, \"#bd3786\"], [0.5555555555555556, \"#d8576b\"], [0.6666666666666666, \"#ed7953\"], [0.7777777777777778, \"#fb9f3a\"], [0.8888888888888888, \"#fdca26\"], [1.0, \"#f0f921\"]], \"type\": \"heatmap\"}], \"heatmapgl\": [{\"colorbar\": {\"outlinewidth\": 0, \"ticks\": \"\"}, \"colorscale\": [[0.0, \"#0d0887\"], [0.1111111111111111, \"#46039f\"], [0.2222222222222222, \"#7201a8\"], [0.3333333333333333, \"#9c179e\"], [0.4444444444444444, \"#bd3786\"], [0.5555555555555556, \"#d8576b\"], [0.6666666666666666, \"#ed7953\"], [0.7777777777777778, \"#fb9f3a\"], [0.8888888888888888, \"#fdca26\"], [1.0, \"#f0f921\"]], \"type\": \"heatmapgl\"}], \"histogram\": [{\"marker\": {\"colorbar\": {\"outlinewidth\": 0, \"ticks\": \"\"}}, \"type\": \"histogram\"}], \"histogram2d\": [{\"colorbar\": {\"outlinewidth\": 0, \"ticks\": \"\"}, \"colorscale\": [[0.0, \"#0d0887\"], [0.1111111111111111, \"#46039f\"], [0.2222222222222222, \"#7201a8\"], [0.3333333333333333, \"#9c179e\"], [0.4444444444444444, \"#bd3786\"], [0.5555555555555556, \"#d8576b\"], [0.6666666666666666, \"#ed7953\"], [0.7777777777777778, \"#fb9f3a\"], [0.8888888888888888, \"#fdca26\"], [1.0, \"#f0f921\"]], \"type\": \"histogram2d\"}], \"histogram2dcontour\": [{\"colorbar\": {\"outlinewidth\": 0, \"ticks\": \"\"}, \"colorscale\": [[0.0, \"#0d0887\"], [0.1111111111111111, \"#46039f\"], [0.2222222222222222, \"#7201a8\"], [0.3333333333333333, \"#9c179e\"], [0.4444444444444444, \"#bd3786\"], [0.5555555555555556, \"#d8576b\"], [0.6666666666666666, \"#ed7953\"], [0.7777777777777778, \"#fb9f3a\"], [0.8888888888888888, \"#fdca26\"], [1.0, \"#f0f921\"]], \"type\": \"histogram2dcontour\"}], \"mesh3d\": [{\"colorbar\": {\"outlinewidth\": 0, \"ticks\": \"\"}, \"type\": \"mesh3d\"}], \"parcoords\": [{\"line\": {\"colorbar\": {\"outlinewidth\": 0, \"ticks\": \"\"}}, \"type\": \"parcoords\"}], \"pie\": [{\"automargin\": true, \"type\": \"pie\"}], \"scatter\": [{\"marker\": {\"colorbar\": {\"outlinewidth\": 0, \"ticks\": \"\"}}, \"type\": \"scatter\"}], \"scatter3d\": [{\"line\": {\"colorbar\": {\"outlinewidth\": 0, \"ticks\": \"\"}}, \"marker\": {\"colorbar\": {\"outlinewidth\": 0, \"ticks\": \"\"}}, \"type\": \"scatter3d\"}], \"scattercarpet\": [{\"marker\": {\"colorbar\": {\"outlinewidth\": 0, \"ticks\": \"\"}}, \"type\": \"scattercarpet\"}], \"scattergeo\": [{\"marker\": {\"colorbar\": {\"outlinewidth\": 0, \"ticks\": \"\"}}, \"type\": \"scattergeo\"}], \"scattergl\": [{\"marker\": {\"colorbar\": {\"outlinewidth\": 0, \"ticks\": \"\"}}, \"type\": \"scattergl\"}], \"scattermapbox\": [{\"marker\": {\"colorbar\": {\"outlinewidth\": 0, \"ticks\": \"\"}}, \"type\": \"scattermapbox\"}], \"scatterpolar\": [{\"marker\": {\"colorbar\": {\"outlinewidth\": 0, \"ticks\": \"\"}}, \"type\": \"scatterpolar\"}], \"scatterpolargl\": [{\"marker\": {\"colorbar\": {\"outlinewidth\": 0, \"ticks\": \"\"}}, \"type\": \"scatterpolargl\"}], \"scatterternary\": [{\"marker\": {\"colorbar\": {\"outlinewidth\": 0, \"ticks\": \"\"}}, \"type\": \"scatterternary\"}], \"surface\": [{\"colorbar\": {\"outlinewidth\": 0, \"ticks\": \"\"}, \"colorscale\": [[0.0, \"#0d0887\"], [0.1111111111111111, \"#46039f\"], [0.2222222222222222, \"#7201a8\"], [0.3333333333333333, \"#9c179e\"], [0.4444444444444444, \"#bd3786\"], [0.5555555555555556, \"#d8576b\"], [0.6666666666666666, \"#ed7953\"], [0.7777777777777778, \"#fb9f3a\"], [0.8888888888888888, \"#fdca26\"], [1.0, \"#f0f921\"]], \"type\": \"surface\"}], \"table\": [{\"cells\": {\"fill\": {\"color\": \"#EBF0F8\"}, \"line\": {\"color\": \"white\"}}, \"header\": {\"fill\": {\"color\": \"#C8D4E3\"}, \"line\": {\"color\": \"white\"}}, \"type\": \"table\"}]}, \"layout\": {\"annotationdefaults\": {\"arrowcolor\": \"#2a3f5f\", \"arrowhead\": 0, \"arrowwidth\": 1}, \"coloraxis\": {\"colorbar\": {\"outlinewidth\": 0, \"ticks\": \"\"}}, \"colorscale\": {\"diverging\": [[0, \"#8e0152\"], [0.1, \"#c51b7d\"], [0.2, \"#de77ae\"], [0.3, \"#f1b6da\"], [0.4, \"#fde0ef\"], [0.5, \"#f7f7f7\"], [0.6, \"#e6f5d0\"], [0.7, \"#b8e186\"], [0.8, \"#7fbc41\"], [0.9, \"#4d9221\"], [1, \"#276419\"]], \"sequential\": [[0.0, \"#0d0887\"], [0.1111111111111111, \"#46039f\"], [0.2222222222222222, \"#7201a8\"], [0.3333333333333333, \"#9c179e\"], [0.4444444444444444, \"#bd3786\"], [0.5555555555555556, \"#d8576b\"], [0.6666666666666666, \"#ed7953\"], [0.7777777777777778, \"#fb9f3a\"], [0.8888888888888888, \"#fdca26\"], [1.0, \"#f0f921\"]], \"sequentialminus\": [[0.0, \"#0d0887\"], [0.1111111111111111, \"#46039f\"], [0.2222222222222222, \"#7201a8\"], [0.3333333333333333, \"#9c179e\"], [0.4444444444444444, \"#bd3786\"], [0.5555555555555556, \"#d8576b\"], [0.6666666666666666, \"#ed7953\"], [0.7777777777777778, \"#fb9f3a\"], [0.8888888888888888, \"#fdca26\"], [1.0, \"#f0f921\"]]}, \"colorway\": [\"#636efa\", \"#EF553B\", \"#00cc96\", \"#ab63fa\", \"#FFA15A\", \"#19d3f3\", \"#FF6692\", \"#B6E880\", \"#FF97FF\", \"#FECB52\"], \"font\": {\"color\": \"#2a3f5f\"}, \"geo\": {\"bgcolor\": \"white\", \"lakecolor\": \"white\", \"landcolor\": \"#E5ECF6\", \"showlakes\": true, \"showland\": true, \"subunitcolor\": \"white\"}, \"hoverlabel\": {\"align\": \"left\"}, \"hovermode\": \"closest\", \"mapbox\": {\"style\": \"light\"}, \"paper_bgcolor\": \"white\", \"plot_bgcolor\": \"#E5ECF6\", \"polar\": {\"angularaxis\": {\"gridcolor\": \"white\", \"linecolor\": \"white\", \"ticks\": \"\"}, \"bgcolor\": \"#E5ECF6\", \"radialaxis\": {\"gridcolor\": \"white\", \"linecolor\": \"white\", \"ticks\": \"\"}}, \"scene\": {\"xaxis\": {\"backgroundcolor\": \"#E5ECF6\", \"gridcolor\": \"white\", \"gridwidth\": 2, \"linecolor\": \"white\", \"showbackground\": true, \"ticks\": \"\", \"zerolinecolor\": \"white\"}, \"yaxis\": {\"backgroundcolor\": \"#E5ECF6\", \"gridcolor\": \"white\", \"gridwidth\": 2, \"linecolor\": \"white\", \"showbackground\": true, \"ticks\": \"\", \"zerolinecolor\": \"white\"}, \"zaxis\": {\"backgroundcolor\": \"#E5ECF6\", \"gridcolor\": \"white\", \"gridwidth\": 2, \"linecolor\": \"white\", \"showbackground\": true, \"ticks\": \"\", \"zerolinecolor\": \"white\"}}, \"shapedefaults\": {\"line\": {\"color\": \"#2a3f5f\"}}, \"ternary\": {\"aaxis\": {\"gridcolor\": \"white\", \"linecolor\": \"white\", \"ticks\": \"\"}, \"baxis\": {\"gridcolor\": \"white\", \"linecolor\": \"white\", \"ticks\": \"\"}, \"bgcolor\": \"#E5ECF6\", \"caxis\": {\"gridcolor\": \"white\", \"linecolor\": \"white\", \"ticks\": \"\"}}, \"title\": {\"x\": 0.05}, \"xaxis\": {\"automargin\": true, \"gridcolor\": \"white\", \"linecolor\": \"white\", \"ticks\": \"\", \"title\": {\"standoff\": 15}, \"zerolinecolor\": \"white\", \"zerolinewidth\": 2}, \"yaxis\": {\"automargin\": true, \"gridcolor\": \"white\", \"linecolor\": \"white\", \"ticks\": \"\", \"title\": {\"standoff\": 15}, \"zerolinecolor\": \"white\", \"zerolinewidth\": 2}}}, \"title\": {\"text\": \"Mots les plus utilis\\u00e9s par sender_7\", \"x\": 0.5}, \"xaxis\": {\"anchor\": \"y\", \"domain\": [0.0, 1.0], \"title\": {\"text\": \"words\"}}, \"yaxis\": {\"anchor\": \"x\", \"domain\": [0.0, 1.0], \"title\": {\"text\": \"count\"}}},\n",
              "                        {\"responsive\": true}\n",
              "                    ).then(function(){\n",
              "                            \n",
              "var gd = document.getElementById('0b401e68-0edd-43cc-805c-343b01e1eae1');\n",
              "var x = new MutationObserver(function (mutations, observer) {{\n",
              "        var display = window.getComputedStyle(gd).display;\n",
              "        if (!display || display === 'none') {{\n",
              "            console.log([gd, 'removed!']);\n",
              "            Plotly.purge(gd);\n",
              "            observer.disconnect();\n",
              "        }}\n",
              "}});\n",
              "\n",
              "// Listen for the removal of the full notebook cells\n",
              "var notebookContainer = gd.closest('#notebook-container');\n",
              "if (notebookContainer) {{\n",
              "    x.observe(notebookContainer, {childList: true});\n",
              "}}\n",
              "\n",
              "// Listen for the clearing of the current output cell\n",
              "var outputEl = gd.closest('.output');\n",
              "if (outputEl) {{\n",
              "    x.observe(outputEl, {childList: true});\n",
              "}}\n",
              "\n",
              "                        })\n",
              "                };\n",
              "                \n",
              "            </script>\n",
              "        </div>\n",
              "</body>\n",
              "</html>"
            ]
          },
          "metadata": {
            "tags": []
          }
        }
      ]
    },
    {
      "cell_type": "code",
      "metadata": {
        "id": "uvm_HtVVVHoD",
        "outputId": "3339dfff-ffc2-4e5c-a0a8-ba010fc5ed27",
        "colab": {
          "base_uri": "https://localhost:8080/",
          "height": 542
        }
      },
      "source": [
        "fig = px.bar(data_frame = df_by_sender.iloc[40:60,:], x = 'words', y = 'count')\n",
        "fig.update_layout(title = 'Mots les plus utilisés par {}'.format(df['sender'].value_counts().head(5).index[2]), title_x = 0.5)"
      ],
      "execution_count": null,
      "outputs": [
        {
          "output_type": "display_data",
          "data": {
            "text/html": [
              "<html>\n",
              "<head><meta charset=\"utf-8\" /></head>\n",
              "<body>\n",
              "    <div>\n",
              "            <script src=\"https://cdnjs.cloudflare.com/ajax/libs/mathjax/2.7.5/MathJax.js?config=TeX-AMS-MML_SVG\"></script><script type=\"text/javascript\">if (window.MathJax) {MathJax.Hub.Config({SVG: {font: \"STIX-Web\"}});}</script>\n",
              "                <script type=\"text/javascript\">window.PlotlyConfig = {MathJaxConfig: 'local'};</script>\n",
              "        <script src=\"https://cdn.plot.ly/plotly-latest.min.js\"></script>    \n",
              "            <div id=\"4e1d70cb-1c1d-460d-8316-ed90791c8387\" class=\"plotly-graph-div\" style=\"height:525px; width:100%;\"></div>\n",
              "            <script type=\"text/javascript\">\n",
              "                \n",
              "                    window.PLOTLYENV=window.PLOTLYENV || {};\n",
              "                    \n",
              "                if (document.getElementById(\"4e1d70cb-1c1d-460d-8316-ed90791c8387\")) {\n",
              "                    Plotly.newPlot(\n",
              "                        '4e1d70cb-1c1d-460d-8316-ed90791c8387',\n",
              "                        [{\"alignmentgroup\": \"True\", \"hoverlabel\": {\"namelength\": 0}, \"hovertemplate\": \"words=%{x}<br>count=%{y}\", \"legendgroup\": \"\", \"marker\": {\"color\": \"#636efa\"}, \"name\": \"\", \"offsetgroup\": \"\", \"orientation\": \"v\", \"showlegend\": false, \"textposition\": \"auto\", \"type\": \"bar\", \"x\": [\"oui\", \"trop\", \"jojo\", \"non\", \"bien\", \"merci\", \"oh\", \"va\", \"tout\", \"ben\", \"apr\\u00e8s\", \"sais\", \"ah\", \"bon\", \"\\ud83d\\ude02\", \"\\u00eatre\", \"aussi\", \"fait\", \"si\", \"demain\"], \"xaxis\": \"x\", \"y\": [69, 41, 40, 39, 29, 28, 25, 25, 21, 21, 20, 19, 19, 18, 18, 18, 18, 17, 17, 17], \"yaxis\": \"y\"}],\n",
              "                        {\"barmode\": \"relative\", \"legend\": {\"tracegroupgap\": 0}, \"margin\": {\"t\": 60}, \"template\": {\"data\": {\"bar\": [{\"error_x\": {\"color\": \"#2a3f5f\"}, \"error_y\": {\"color\": \"#2a3f5f\"}, \"marker\": {\"line\": {\"color\": \"#E5ECF6\", \"width\": 0.5}}, \"type\": \"bar\"}], \"barpolar\": [{\"marker\": {\"line\": {\"color\": \"#E5ECF6\", \"width\": 0.5}}, \"type\": \"barpolar\"}], \"carpet\": [{\"aaxis\": {\"endlinecolor\": \"#2a3f5f\", \"gridcolor\": \"white\", \"linecolor\": \"white\", \"minorgridcolor\": \"white\", \"startlinecolor\": \"#2a3f5f\"}, \"baxis\": {\"endlinecolor\": \"#2a3f5f\", \"gridcolor\": \"white\", \"linecolor\": \"white\", \"minorgridcolor\": \"white\", \"startlinecolor\": \"#2a3f5f\"}, \"type\": \"carpet\"}], \"choropleth\": [{\"colorbar\": {\"outlinewidth\": 0, \"ticks\": \"\"}, \"type\": \"choropleth\"}], \"contour\": [{\"colorbar\": {\"outlinewidth\": 0, \"ticks\": \"\"}, \"colorscale\": [[0.0, \"#0d0887\"], [0.1111111111111111, \"#46039f\"], [0.2222222222222222, \"#7201a8\"], [0.3333333333333333, \"#9c179e\"], [0.4444444444444444, \"#bd3786\"], [0.5555555555555556, \"#d8576b\"], [0.6666666666666666, \"#ed7953\"], [0.7777777777777778, \"#fb9f3a\"], [0.8888888888888888, \"#fdca26\"], [1.0, \"#f0f921\"]], \"type\": \"contour\"}], \"contourcarpet\": [{\"colorbar\": {\"outlinewidth\": 0, \"ticks\": \"\"}, \"type\": \"contourcarpet\"}], \"heatmap\": [{\"colorbar\": {\"outlinewidth\": 0, \"ticks\": \"\"}, \"colorscale\": [[0.0, \"#0d0887\"], [0.1111111111111111, \"#46039f\"], [0.2222222222222222, \"#7201a8\"], [0.3333333333333333, \"#9c179e\"], [0.4444444444444444, \"#bd3786\"], [0.5555555555555556, \"#d8576b\"], [0.6666666666666666, \"#ed7953\"], [0.7777777777777778, \"#fb9f3a\"], [0.8888888888888888, \"#fdca26\"], [1.0, \"#f0f921\"]], \"type\": \"heatmap\"}], \"heatmapgl\": [{\"colorbar\": {\"outlinewidth\": 0, \"ticks\": \"\"}, \"colorscale\": [[0.0, \"#0d0887\"], [0.1111111111111111, \"#46039f\"], [0.2222222222222222, \"#7201a8\"], [0.3333333333333333, \"#9c179e\"], [0.4444444444444444, \"#bd3786\"], [0.5555555555555556, \"#d8576b\"], [0.6666666666666666, \"#ed7953\"], [0.7777777777777778, \"#fb9f3a\"], [0.8888888888888888, \"#fdca26\"], [1.0, \"#f0f921\"]], \"type\": \"heatmapgl\"}], \"histogram\": [{\"marker\": {\"colorbar\": {\"outlinewidth\": 0, \"ticks\": \"\"}}, \"type\": \"histogram\"}], \"histogram2d\": [{\"colorbar\": {\"outlinewidth\": 0, \"ticks\": \"\"}, \"colorscale\": [[0.0, \"#0d0887\"], [0.1111111111111111, \"#46039f\"], [0.2222222222222222, \"#7201a8\"], [0.3333333333333333, \"#9c179e\"], [0.4444444444444444, \"#bd3786\"], [0.5555555555555556, \"#d8576b\"], [0.6666666666666666, \"#ed7953\"], [0.7777777777777778, \"#fb9f3a\"], [0.8888888888888888, \"#fdca26\"], [1.0, \"#f0f921\"]], \"type\": \"histogram2d\"}], \"histogram2dcontour\": [{\"colorbar\": {\"outlinewidth\": 0, \"ticks\": \"\"}, \"colorscale\": [[0.0, \"#0d0887\"], [0.1111111111111111, \"#46039f\"], [0.2222222222222222, \"#7201a8\"], [0.3333333333333333, \"#9c179e\"], [0.4444444444444444, \"#bd3786\"], [0.5555555555555556, \"#d8576b\"], [0.6666666666666666, \"#ed7953\"], [0.7777777777777778, \"#fb9f3a\"], [0.8888888888888888, \"#fdca26\"], [1.0, \"#f0f921\"]], \"type\": \"histogram2dcontour\"}], \"mesh3d\": [{\"colorbar\": {\"outlinewidth\": 0, \"ticks\": \"\"}, \"type\": \"mesh3d\"}], \"parcoords\": [{\"line\": {\"colorbar\": {\"outlinewidth\": 0, \"ticks\": \"\"}}, \"type\": \"parcoords\"}], \"pie\": [{\"automargin\": true, \"type\": \"pie\"}], \"scatter\": [{\"marker\": {\"colorbar\": {\"outlinewidth\": 0, \"ticks\": \"\"}}, \"type\": \"scatter\"}], \"scatter3d\": [{\"line\": {\"colorbar\": {\"outlinewidth\": 0, \"ticks\": \"\"}}, \"marker\": {\"colorbar\": {\"outlinewidth\": 0, \"ticks\": \"\"}}, \"type\": \"scatter3d\"}], \"scattercarpet\": [{\"marker\": {\"colorbar\": {\"outlinewidth\": 0, \"ticks\": \"\"}}, \"type\": \"scattercarpet\"}], \"scattergeo\": [{\"marker\": {\"colorbar\": {\"outlinewidth\": 0, \"ticks\": \"\"}}, \"type\": \"scattergeo\"}], \"scattergl\": [{\"marker\": {\"colorbar\": {\"outlinewidth\": 0, \"ticks\": \"\"}}, \"type\": \"scattergl\"}], \"scattermapbox\": [{\"marker\": {\"colorbar\": {\"outlinewidth\": 0, \"ticks\": \"\"}}, \"type\": \"scattermapbox\"}], \"scatterpolar\": [{\"marker\": {\"colorbar\": {\"outlinewidth\": 0, \"ticks\": \"\"}}, \"type\": \"scatterpolar\"}], \"scatterpolargl\": [{\"marker\": {\"colorbar\": {\"outlinewidth\": 0, \"ticks\": \"\"}}, \"type\": \"scatterpolargl\"}], \"scatterternary\": [{\"marker\": {\"colorbar\": {\"outlinewidth\": 0, \"ticks\": \"\"}}, \"type\": \"scatterternary\"}], \"surface\": [{\"colorbar\": {\"outlinewidth\": 0, \"ticks\": \"\"}, \"colorscale\": [[0.0, \"#0d0887\"], [0.1111111111111111, \"#46039f\"], [0.2222222222222222, \"#7201a8\"], [0.3333333333333333, \"#9c179e\"], [0.4444444444444444, \"#bd3786\"], [0.5555555555555556, \"#d8576b\"], [0.6666666666666666, \"#ed7953\"], [0.7777777777777778, \"#fb9f3a\"], [0.8888888888888888, \"#fdca26\"], [1.0, \"#f0f921\"]], \"type\": \"surface\"}], \"table\": [{\"cells\": {\"fill\": {\"color\": \"#EBF0F8\"}, \"line\": {\"color\": \"white\"}}, \"header\": {\"fill\": {\"color\": \"#C8D4E3\"}, \"line\": {\"color\": \"white\"}}, \"type\": \"table\"}]}, \"layout\": {\"annotationdefaults\": {\"arrowcolor\": \"#2a3f5f\", \"arrowhead\": 0, \"arrowwidth\": 1}, \"coloraxis\": {\"colorbar\": {\"outlinewidth\": 0, \"ticks\": \"\"}}, \"colorscale\": {\"diverging\": [[0, \"#8e0152\"], [0.1, \"#c51b7d\"], [0.2, \"#de77ae\"], [0.3, \"#f1b6da\"], [0.4, \"#fde0ef\"], [0.5, \"#f7f7f7\"], [0.6, \"#e6f5d0\"], [0.7, \"#b8e186\"], [0.8, \"#7fbc41\"], [0.9, \"#4d9221\"], [1, \"#276419\"]], \"sequential\": [[0.0, \"#0d0887\"], [0.1111111111111111, \"#46039f\"], [0.2222222222222222, \"#7201a8\"], [0.3333333333333333, \"#9c179e\"], [0.4444444444444444, \"#bd3786\"], [0.5555555555555556, \"#d8576b\"], [0.6666666666666666, \"#ed7953\"], [0.7777777777777778, \"#fb9f3a\"], [0.8888888888888888, \"#fdca26\"], [1.0, \"#f0f921\"]], \"sequentialminus\": [[0.0, \"#0d0887\"], [0.1111111111111111, \"#46039f\"], [0.2222222222222222, \"#7201a8\"], [0.3333333333333333, \"#9c179e\"], [0.4444444444444444, \"#bd3786\"], [0.5555555555555556, \"#d8576b\"], [0.6666666666666666, \"#ed7953\"], [0.7777777777777778, \"#fb9f3a\"], [0.8888888888888888, \"#fdca26\"], [1.0, \"#f0f921\"]]}, \"colorway\": [\"#636efa\", \"#EF553B\", \"#00cc96\", \"#ab63fa\", \"#FFA15A\", \"#19d3f3\", \"#FF6692\", \"#B6E880\", \"#FF97FF\", \"#FECB52\"], \"font\": {\"color\": \"#2a3f5f\"}, \"geo\": {\"bgcolor\": \"white\", \"lakecolor\": \"white\", \"landcolor\": \"#E5ECF6\", \"showlakes\": true, \"showland\": true, \"subunitcolor\": \"white\"}, \"hoverlabel\": {\"align\": \"left\"}, \"hovermode\": \"closest\", \"mapbox\": {\"style\": \"light\"}, \"paper_bgcolor\": \"white\", \"plot_bgcolor\": \"#E5ECF6\", \"polar\": {\"angularaxis\": {\"gridcolor\": \"white\", \"linecolor\": \"white\", \"ticks\": \"\"}, \"bgcolor\": \"#E5ECF6\", \"radialaxis\": {\"gridcolor\": \"white\", \"linecolor\": \"white\", \"ticks\": \"\"}}, \"scene\": {\"xaxis\": {\"backgroundcolor\": \"#E5ECF6\", \"gridcolor\": \"white\", \"gridwidth\": 2, \"linecolor\": \"white\", \"showbackground\": true, \"ticks\": \"\", \"zerolinecolor\": \"white\"}, \"yaxis\": {\"backgroundcolor\": \"#E5ECF6\", \"gridcolor\": \"white\", \"gridwidth\": 2, \"linecolor\": \"white\", \"showbackground\": true, \"ticks\": \"\", \"zerolinecolor\": \"white\"}, \"zaxis\": {\"backgroundcolor\": \"#E5ECF6\", \"gridcolor\": \"white\", \"gridwidth\": 2, \"linecolor\": \"white\", \"showbackground\": true, \"ticks\": \"\", \"zerolinecolor\": \"white\"}}, \"shapedefaults\": {\"line\": {\"color\": \"#2a3f5f\"}}, \"ternary\": {\"aaxis\": {\"gridcolor\": \"white\", \"linecolor\": \"white\", \"ticks\": \"\"}, \"baxis\": {\"gridcolor\": \"white\", \"linecolor\": \"white\", \"ticks\": \"\"}, \"bgcolor\": \"#E5ECF6\", \"caxis\": {\"gridcolor\": \"white\", \"linecolor\": \"white\", \"ticks\": \"\"}}, \"title\": {\"x\": 0.05}, \"xaxis\": {\"automargin\": true, \"gridcolor\": \"white\", \"linecolor\": \"white\", \"ticks\": \"\", \"title\": {\"standoff\": 15}, \"zerolinecolor\": \"white\", \"zerolinewidth\": 2}, \"yaxis\": {\"automargin\": true, \"gridcolor\": \"white\", \"linecolor\": \"white\", \"ticks\": \"\", \"title\": {\"standoff\": 15}, \"zerolinecolor\": \"white\", \"zerolinewidth\": 2}}}, \"title\": {\"text\": \"Mots les plus utilis\\u00e9s par sender_3\", \"x\": 0.5}, \"xaxis\": {\"anchor\": \"y\", \"domain\": [0.0, 1.0], \"title\": {\"text\": \"words\"}}, \"yaxis\": {\"anchor\": \"x\", \"domain\": [0.0, 1.0], \"title\": {\"text\": \"count\"}}},\n",
              "                        {\"responsive\": true}\n",
              "                    ).then(function(){\n",
              "                            \n",
              "var gd = document.getElementById('4e1d70cb-1c1d-460d-8316-ed90791c8387');\n",
              "var x = new MutationObserver(function (mutations, observer) {{\n",
              "        var display = window.getComputedStyle(gd).display;\n",
              "        if (!display || display === 'none') {{\n",
              "            console.log([gd, 'removed!']);\n",
              "            Plotly.purge(gd);\n",
              "            observer.disconnect();\n",
              "        }}\n",
              "}});\n",
              "\n",
              "// Listen for the removal of the full notebook cells\n",
              "var notebookContainer = gd.closest('#notebook-container');\n",
              "if (notebookContainer) {{\n",
              "    x.observe(notebookContainer, {childList: true});\n",
              "}}\n",
              "\n",
              "// Listen for the clearing of the current output cell\n",
              "var outputEl = gd.closest('.output');\n",
              "if (outputEl) {{\n",
              "    x.observe(outputEl, {childList: true});\n",
              "}}\n",
              "\n",
              "                        })\n",
              "                };\n",
              "                \n",
              "            </script>\n",
              "        </div>\n",
              "</body>\n",
              "</html>"
            ]
          },
          "metadata": {
            "tags": []
          }
        }
      ]
    },
    {
      "cell_type": "code",
      "metadata": {
        "id": "wncuERazyCo_",
        "outputId": "7085afef-dda3-4d67-9e2a-db1f3c988f26",
        "colab": {
          "base_uri": "https://localhost:8080/",
          "height": 542
        }
      },
      "source": [
        "fig = px.bar(data_frame = df_by_sender.iloc[60:80,:], x = 'words', y = 'count')\n",
        "fig.update_layout(title = 'Mots les plus utilisés par {}'.format(df['sender'].value_counts().head(5).index[3]), title_x = 0.5)"
      ],
      "execution_count": null,
      "outputs": [
        {
          "output_type": "display_data",
          "data": {
            "text/html": [
              "<html>\n",
              "<head><meta charset=\"utf-8\" /></head>\n",
              "<body>\n",
              "    <div>\n",
              "            <script src=\"https://cdnjs.cloudflare.com/ajax/libs/mathjax/2.7.5/MathJax.js?config=TeX-AMS-MML_SVG\"></script><script type=\"text/javascript\">if (window.MathJax) {MathJax.Hub.Config({SVG: {font: \"STIX-Web\"}});}</script>\n",
              "                <script type=\"text/javascript\">window.PlotlyConfig = {MathJaxConfig: 'local'};</script>\n",
              "        <script src=\"https://cdn.plot.ly/plotly-latest.min.js\"></script>    \n",
              "            <div id=\"d8d22309-ef33-4751-8b46-b96b7427554f\" class=\"plotly-graph-div\" style=\"height:525px; width:100%;\"></div>\n",
              "            <script type=\"text/javascript\">\n",
              "                \n",
              "                    window.PLOTLYENV=window.PLOTLYENV || {};\n",
              "                    \n",
              "                if (document.getElementById(\"d8d22309-ef33-4751-8b46-b96b7427554f\")) {\n",
              "                    Plotly.newPlot(\n",
              "                        'd8d22309-ef33-4751-8b46-b96b7427554f',\n",
              "                        [{\"alignmentgroup\": \"True\", \"hoverlabel\": {\"namelength\": 0}, \"hovertemplate\": \"words=%{x}<br>count=%{y}\", \"legendgroup\": \"\", \"marker\": {\"color\": \"#636efa\"}, \"name\": \"\", \"offsetgroup\": \"\", \"orientation\": \"v\", \"showlegend\": false, \"textposition\": \"auto\", \"type\": \"bar\", \"x\": [\"\\ud83d\\ude02\", \"non\", \"si\", \"oui\", \"peut\", \"jojo\", \"plus\", \"fait\", \"\\ud83d\\ude0a\", \"bon\", \"\\ud83e\\udd23\", \"aussi\", \"bien\", \"https\", \"crois\", \"trop\", \"merci\", \"ahah\", \"va\", \"apr\\u00e8s\"], \"xaxis\": \"x\", \"y\": [20, 19, 15, 14, 13, 13, 12, 12, 12, 11, 11, 11, 10, 10, 8, 8, 8, 8, 8, 7], \"yaxis\": \"y\"}],\n",
              "                        {\"barmode\": \"relative\", \"legend\": {\"tracegroupgap\": 0}, \"margin\": {\"t\": 60}, \"template\": {\"data\": {\"bar\": [{\"error_x\": {\"color\": \"#2a3f5f\"}, \"error_y\": {\"color\": \"#2a3f5f\"}, \"marker\": {\"line\": {\"color\": \"#E5ECF6\", \"width\": 0.5}}, \"type\": \"bar\"}], \"barpolar\": [{\"marker\": {\"line\": {\"color\": \"#E5ECF6\", \"width\": 0.5}}, \"type\": \"barpolar\"}], \"carpet\": [{\"aaxis\": {\"endlinecolor\": \"#2a3f5f\", \"gridcolor\": \"white\", \"linecolor\": \"white\", \"minorgridcolor\": \"white\", \"startlinecolor\": \"#2a3f5f\"}, \"baxis\": {\"endlinecolor\": \"#2a3f5f\", \"gridcolor\": \"white\", \"linecolor\": \"white\", \"minorgridcolor\": \"white\", \"startlinecolor\": \"#2a3f5f\"}, \"type\": \"carpet\"}], \"choropleth\": [{\"colorbar\": {\"outlinewidth\": 0, \"ticks\": \"\"}, \"type\": \"choropleth\"}], \"contour\": [{\"colorbar\": {\"outlinewidth\": 0, \"ticks\": \"\"}, \"colorscale\": [[0.0, \"#0d0887\"], [0.1111111111111111, \"#46039f\"], [0.2222222222222222, \"#7201a8\"], [0.3333333333333333, \"#9c179e\"], [0.4444444444444444, \"#bd3786\"], [0.5555555555555556, \"#d8576b\"], [0.6666666666666666, \"#ed7953\"], [0.7777777777777778, \"#fb9f3a\"], [0.8888888888888888, \"#fdca26\"], [1.0, \"#f0f921\"]], \"type\": \"contour\"}], \"contourcarpet\": [{\"colorbar\": {\"outlinewidth\": 0, \"ticks\": \"\"}, \"type\": \"contourcarpet\"}], \"heatmap\": [{\"colorbar\": {\"outlinewidth\": 0, \"ticks\": \"\"}, \"colorscale\": [[0.0, \"#0d0887\"], [0.1111111111111111, \"#46039f\"], [0.2222222222222222, \"#7201a8\"], [0.3333333333333333, \"#9c179e\"], [0.4444444444444444, \"#bd3786\"], [0.5555555555555556, \"#d8576b\"], [0.6666666666666666, \"#ed7953\"], [0.7777777777777778, \"#fb9f3a\"], [0.8888888888888888, \"#fdca26\"], [1.0, \"#f0f921\"]], \"type\": \"heatmap\"}], \"heatmapgl\": [{\"colorbar\": {\"outlinewidth\": 0, \"ticks\": \"\"}, \"colorscale\": [[0.0, \"#0d0887\"], [0.1111111111111111, \"#46039f\"], [0.2222222222222222, \"#7201a8\"], [0.3333333333333333, \"#9c179e\"], [0.4444444444444444, \"#bd3786\"], [0.5555555555555556, \"#d8576b\"], [0.6666666666666666, \"#ed7953\"], [0.7777777777777778, \"#fb9f3a\"], [0.8888888888888888, \"#fdca26\"], [1.0, \"#f0f921\"]], \"type\": \"heatmapgl\"}], \"histogram\": [{\"marker\": {\"colorbar\": {\"outlinewidth\": 0, \"ticks\": \"\"}}, \"type\": \"histogram\"}], \"histogram2d\": [{\"colorbar\": {\"outlinewidth\": 0, \"ticks\": \"\"}, \"colorscale\": [[0.0, \"#0d0887\"], [0.1111111111111111, \"#46039f\"], [0.2222222222222222, \"#7201a8\"], [0.3333333333333333, \"#9c179e\"], [0.4444444444444444, \"#bd3786\"], [0.5555555555555556, \"#d8576b\"], [0.6666666666666666, \"#ed7953\"], [0.7777777777777778, \"#fb9f3a\"], [0.8888888888888888, \"#fdca26\"], [1.0, \"#f0f921\"]], \"type\": \"histogram2d\"}], \"histogram2dcontour\": [{\"colorbar\": {\"outlinewidth\": 0, \"ticks\": \"\"}, \"colorscale\": [[0.0, \"#0d0887\"], [0.1111111111111111, \"#46039f\"], [0.2222222222222222, \"#7201a8\"], [0.3333333333333333, \"#9c179e\"], [0.4444444444444444, \"#bd3786\"], [0.5555555555555556, \"#d8576b\"], [0.6666666666666666, \"#ed7953\"], [0.7777777777777778, \"#fb9f3a\"], [0.8888888888888888, \"#fdca26\"], [1.0, \"#f0f921\"]], \"type\": \"histogram2dcontour\"}], \"mesh3d\": [{\"colorbar\": {\"outlinewidth\": 0, \"ticks\": \"\"}, \"type\": \"mesh3d\"}], \"parcoords\": [{\"line\": {\"colorbar\": {\"outlinewidth\": 0, \"ticks\": \"\"}}, \"type\": \"parcoords\"}], \"pie\": [{\"automargin\": true, \"type\": \"pie\"}], \"scatter\": [{\"marker\": {\"colorbar\": {\"outlinewidth\": 0, \"ticks\": \"\"}}, \"type\": \"scatter\"}], \"scatter3d\": [{\"line\": {\"colorbar\": {\"outlinewidth\": 0, \"ticks\": \"\"}}, \"marker\": {\"colorbar\": {\"outlinewidth\": 0, \"ticks\": \"\"}}, \"type\": \"scatter3d\"}], \"scattercarpet\": [{\"marker\": {\"colorbar\": {\"outlinewidth\": 0, \"ticks\": \"\"}}, \"type\": \"scattercarpet\"}], \"scattergeo\": [{\"marker\": {\"colorbar\": {\"outlinewidth\": 0, \"ticks\": \"\"}}, \"type\": \"scattergeo\"}], \"scattergl\": [{\"marker\": {\"colorbar\": {\"outlinewidth\": 0, \"ticks\": \"\"}}, \"type\": \"scattergl\"}], \"scattermapbox\": [{\"marker\": {\"colorbar\": {\"outlinewidth\": 0, \"ticks\": \"\"}}, \"type\": \"scattermapbox\"}], \"scatterpolar\": [{\"marker\": {\"colorbar\": {\"outlinewidth\": 0, \"ticks\": \"\"}}, \"type\": \"scatterpolar\"}], \"scatterpolargl\": [{\"marker\": {\"colorbar\": {\"outlinewidth\": 0, \"ticks\": \"\"}}, \"type\": \"scatterpolargl\"}], \"scatterternary\": [{\"marker\": {\"colorbar\": {\"outlinewidth\": 0, \"ticks\": \"\"}}, \"type\": \"scatterternary\"}], \"surface\": [{\"colorbar\": {\"outlinewidth\": 0, \"ticks\": \"\"}, \"colorscale\": [[0.0, \"#0d0887\"], [0.1111111111111111, \"#46039f\"], [0.2222222222222222, \"#7201a8\"], [0.3333333333333333, \"#9c179e\"], [0.4444444444444444, \"#bd3786\"], [0.5555555555555556, \"#d8576b\"], [0.6666666666666666, \"#ed7953\"], [0.7777777777777778, \"#fb9f3a\"], [0.8888888888888888, \"#fdca26\"], [1.0, \"#f0f921\"]], \"type\": \"surface\"}], \"table\": [{\"cells\": {\"fill\": {\"color\": \"#EBF0F8\"}, \"line\": {\"color\": \"white\"}}, \"header\": {\"fill\": {\"color\": \"#C8D4E3\"}, \"line\": {\"color\": \"white\"}}, \"type\": \"table\"}]}, \"layout\": {\"annotationdefaults\": {\"arrowcolor\": \"#2a3f5f\", \"arrowhead\": 0, \"arrowwidth\": 1}, \"coloraxis\": {\"colorbar\": {\"outlinewidth\": 0, \"ticks\": \"\"}}, \"colorscale\": {\"diverging\": [[0, \"#8e0152\"], [0.1, \"#c51b7d\"], [0.2, \"#de77ae\"], [0.3, \"#f1b6da\"], [0.4, \"#fde0ef\"], [0.5, \"#f7f7f7\"], [0.6, \"#e6f5d0\"], [0.7, \"#b8e186\"], [0.8, \"#7fbc41\"], [0.9, \"#4d9221\"], [1, \"#276419\"]], \"sequential\": [[0.0, \"#0d0887\"], [0.1111111111111111, \"#46039f\"], [0.2222222222222222, \"#7201a8\"], [0.3333333333333333, \"#9c179e\"], [0.4444444444444444, \"#bd3786\"], [0.5555555555555556, \"#d8576b\"], [0.6666666666666666, \"#ed7953\"], [0.7777777777777778, \"#fb9f3a\"], [0.8888888888888888, \"#fdca26\"], [1.0, \"#f0f921\"]], \"sequentialminus\": [[0.0, \"#0d0887\"], [0.1111111111111111, \"#46039f\"], [0.2222222222222222, \"#7201a8\"], [0.3333333333333333, \"#9c179e\"], [0.4444444444444444, \"#bd3786\"], [0.5555555555555556, \"#d8576b\"], [0.6666666666666666, \"#ed7953\"], [0.7777777777777778, \"#fb9f3a\"], [0.8888888888888888, \"#fdca26\"], [1.0, \"#f0f921\"]]}, \"colorway\": [\"#636efa\", \"#EF553B\", \"#00cc96\", \"#ab63fa\", \"#FFA15A\", \"#19d3f3\", \"#FF6692\", \"#B6E880\", \"#FF97FF\", \"#FECB52\"], \"font\": {\"color\": \"#2a3f5f\"}, \"geo\": {\"bgcolor\": \"white\", \"lakecolor\": \"white\", \"landcolor\": \"#E5ECF6\", \"showlakes\": true, \"showland\": true, \"subunitcolor\": \"white\"}, \"hoverlabel\": {\"align\": \"left\"}, \"hovermode\": \"closest\", \"mapbox\": {\"style\": \"light\"}, \"paper_bgcolor\": \"white\", \"plot_bgcolor\": \"#E5ECF6\", \"polar\": {\"angularaxis\": {\"gridcolor\": \"white\", \"linecolor\": \"white\", \"ticks\": \"\"}, \"bgcolor\": \"#E5ECF6\", \"radialaxis\": {\"gridcolor\": \"white\", \"linecolor\": \"white\", \"ticks\": \"\"}}, \"scene\": {\"xaxis\": {\"backgroundcolor\": \"#E5ECF6\", \"gridcolor\": \"white\", \"gridwidth\": 2, \"linecolor\": \"white\", \"showbackground\": true, \"ticks\": \"\", \"zerolinecolor\": \"white\"}, \"yaxis\": {\"backgroundcolor\": \"#E5ECF6\", \"gridcolor\": \"white\", \"gridwidth\": 2, \"linecolor\": \"white\", \"showbackground\": true, \"ticks\": \"\", \"zerolinecolor\": \"white\"}, \"zaxis\": {\"backgroundcolor\": \"#E5ECF6\", \"gridcolor\": \"white\", \"gridwidth\": 2, \"linecolor\": \"white\", \"showbackground\": true, \"ticks\": \"\", \"zerolinecolor\": \"white\"}}, \"shapedefaults\": {\"line\": {\"color\": \"#2a3f5f\"}}, \"ternary\": {\"aaxis\": {\"gridcolor\": \"white\", \"linecolor\": \"white\", \"ticks\": \"\"}, \"baxis\": {\"gridcolor\": \"white\", \"linecolor\": \"white\", \"ticks\": \"\"}, \"bgcolor\": \"#E5ECF6\", \"caxis\": {\"gridcolor\": \"white\", \"linecolor\": \"white\", \"ticks\": \"\"}}, \"title\": {\"x\": 0.05}, \"xaxis\": {\"automargin\": true, \"gridcolor\": \"white\", \"linecolor\": \"white\", \"ticks\": \"\", \"title\": {\"standoff\": 15}, \"zerolinecolor\": \"white\", \"zerolinewidth\": 2}, \"yaxis\": {\"automargin\": true, \"gridcolor\": \"white\", \"linecolor\": \"white\", \"ticks\": \"\", \"title\": {\"standoff\": 15}, \"zerolinecolor\": \"white\", \"zerolinewidth\": 2}}}, \"title\": {\"text\": \"Mots les plus utilis\\u00e9s par sender_8\", \"x\": 0.5}, \"xaxis\": {\"anchor\": \"y\", \"domain\": [0.0, 1.0], \"title\": {\"text\": \"words\"}}, \"yaxis\": {\"anchor\": \"x\", \"domain\": [0.0, 1.0], \"title\": {\"text\": \"count\"}}},\n",
              "                        {\"responsive\": true}\n",
              "                    ).then(function(){\n",
              "                            \n",
              "var gd = document.getElementById('d8d22309-ef33-4751-8b46-b96b7427554f');\n",
              "var x = new MutationObserver(function (mutations, observer) {{\n",
              "        var display = window.getComputedStyle(gd).display;\n",
              "        if (!display || display === 'none') {{\n",
              "            console.log([gd, 'removed!']);\n",
              "            Plotly.purge(gd);\n",
              "            observer.disconnect();\n",
              "        }}\n",
              "}});\n",
              "\n",
              "// Listen for the removal of the full notebook cells\n",
              "var notebookContainer = gd.closest('#notebook-container');\n",
              "if (notebookContainer) {{\n",
              "    x.observe(notebookContainer, {childList: true});\n",
              "}}\n",
              "\n",
              "// Listen for the clearing of the current output cell\n",
              "var outputEl = gd.closest('.output');\n",
              "if (outputEl) {{\n",
              "    x.observe(outputEl, {childList: true});\n",
              "}}\n",
              "\n",
              "                        })\n",
              "                };\n",
              "                \n",
              "            </script>\n",
              "        </div>\n",
              "</body>\n",
              "</html>"
            ]
          },
          "metadata": {
            "tags": []
          }
        }
      ]
    },
    {
      "cell_type": "code",
      "metadata": {
        "id": "9NcNdB1VyDXB",
        "outputId": "05640ce2-02ad-4714-b625-3515593d5ba6",
        "colab": {
          "base_uri": "https://localhost:8080/",
          "height": 542
        }
      },
      "source": [
        "fig = px.bar(data_frame = df_by_sender.iloc[80:100,:], x = 'words', y = 'count')\n",
        "fig.update_layout(title = 'Mots les plus utilisés par {}'.format(df['sender'].value_counts().head(5).index[4]), title_x = 0.5)"
      ],
      "execution_count": null,
      "outputs": [
        {
          "output_type": "display_data",
          "data": {
            "text/html": [
              "<html>\n",
              "<head><meta charset=\"utf-8\" /></head>\n",
              "<body>\n",
              "    <div>\n",
              "            <script src=\"https://cdnjs.cloudflare.com/ajax/libs/mathjax/2.7.5/MathJax.js?config=TeX-AMS-MML_SVG\"></script><script type=\"text/javascript\">if (window.MathJax) {MathJax.Hub.Config({SVG: {font: \"STIX-Web\"}});}</script>\n",
              "                <script type=\"text/javascript\">window.PlotlyConfig = {MathJaxConfig: 'local'};</script>\n",
              "        <script src=\"https://cdn.plot.ly/plotly-latest.min.js\"></script>    \n",
              "            <div id=\"3f149ff3-ce83-43d4-8015-db050e6759ec\" class=\"plotly-graph-div\" style=\"height:525px; width:100%;\"></div>\n",
              "            <script type=\"text/javascript\">\n",
              "                \n",
              "                    window.PLOTLYENV=window.PLOTLYENV || {};\n",
              "                    \n",
              "                if (document.getElementById(\"3f149ff3-ce83-43d4-8015-db050e6759ec\")) {\n",
              "                    Plotly.newPlot(\n",
              "                        '3f149ff3-ce83-43d4-8015-db050e6759ec',\n",
              "                        [{\"alignmentgroup\": \"True\", \"hoverlabel\": {\"namelength\": 0}, \"hovertemplate\": \"words=%{x}<br>count=%{y}\", \"legendgroup\": \"\", \"marker\": {\"color\": \"#636efa\"}, \"name\": \"\", \"offsetgroup\": \"\", \"orientation\": \"v\", \"showlegend\": false, \"textposition\": \"auto\", \"type\": \"bar\", \"x\": [\"oui\", \"punaise\", \"tous\", \"bon\", \"c'est\", \"plus\", \"virus\", \"bien\", \"non\", \"mail\", \"jojo\", \"fichier\", \"rien\", \"demain\", \"donc\", \"faut\", \"peut\", \"hier\", \"faire\", \"oh\"], \"xaxis\": \"x\", \"y\": [11, 10, 9, 9, 8, 8, 7, 7, 7, 7, 6, 6, 6, 5, 5, 5, 5, 5, 5, 5], \"yaxis\": \"y\"}],\n",
              "                        {\"barmode\": \"relative\", \"legend\": {\"tracegroupgap\": 0}, \"margin\": {\"t\": 60}, \"template\": {\"data\": {\"bar\": [{\"error_x\": {\"color\": \"#2a3f5f\"}, \"error_y\": {\"color\": \"#2a3f5f\"}, \"marker\": {\"line\": {\"color\": \"#E5ECF6\", \"width\": 0.5}}, \"type\": \"bar\"}], \"barpolar\": [{\"marker\": {\"line\": {\"color\": \"#E5ECF6\", \"width\": 0.5}}, \"type\": \"barpolar\"}], \"carpet\": [{\"aaxis\": {\"endlinecolor\": \"#2a3f5f\", \"gridcolor\": \"white\", \"linecolor\": \"white\", \"minorgridcolor\": \"white\", \"startlinecolor\": \"#2a3f5f\"}, \"baxis\": {\"endlinecolor\": \"#2a3f5f\", \"gridcolor\": \"white\", \"linecolor\": \"white\", \"minorgridcolor\": \"white\", \"startlinecolor\": \"#2a3f5f\"}, \"type\": \"carpet\"}], \"choropleth\": [{\"colorbar\": {\"outlinewidth\": 0, \"ticks\": \"\"}, \"type\": \"choropleth\"}], \"contour\": [{\"colorbar\": {\"outlinewidth\": 0, \"ticks\": \"\"}, \"colorscale\": [[0.0, \"#0d0887\"], [0.1111111111111111, \"#46039f\"], [0.2222222222222222, \"#7201a8\"], [0.3333333333333333, \"#9c179e\"], [0.4444444444444444, \"#bd3786\"], [0.5555555555555556, \"#d8576b\"], [0.6666666666666666, \"#ed7953\"], [0.7777777777777778, \"#fb9f3a\"], [0.8888888888888888, \"#fdca26\"], [1.0, \"#f0f921\"]], \"type\": \"contour\"}], \"contourcarpet\": [{\"colorbar\": {\"outlinewidth\": 0, \"ticks\": \"\"}, \"type\": \"contourcarpet\"}], \"heatmap\": [{\"colorbar\": {\"outlinewidth\": 0, \"ticks\": \"\"}, \"colorscale\": [[0.0, \"#0d0887\"], [0.1111111111111111, \"#46039f\"], [0.2222222222222222, \"#7201a8\"], [0.3333333333333333, \"#9c179e\"], [0.4444444444444444, \"#bd3786\"], [0.5555555555555556, \"#d8576b\"], [0.6666666666666666, \"#ed7953\"], [0.7777777777777778, \"#fb9f3a\"], [0.8888888888888888, \"#fdca26\"], [1.0, \"#f0f921\"]], \"type\": \"heatmap\"}], \"heatmapgl\": [{\"colorbar\": {\"outlinewidth\": 0, \"ticks\": \"\"}, \"colorscale\": [[0.0, \"#0d0887\"], [0.1111111111111111, \"#46039f\"], [0.2222222222222222, \"#7201a8\"], [0.3333333333333333, \"#9c179e\"], [0.4444444444444444, \"#bd3786\"], [0.5555555555555556, \"#d8576b\"], [0.6666666666666666, \"#ed7953\"], [0.7777777777777778, \"#fb9f3a\"], [0.8888888888888888, \"#fdca26\"], [1.0, \"#f0f921\"]], \"type\": \"heatmapgl\"}], \"histogram\": [{\"marker\": {\"colorbar\": {\"outlinewidth\": 0, \"ticks\": \"\"}}, \"type\": \"histogram\"}], \"histogram2d\": [{\"colorbar\": {\"outlinewidth\": 0, \"ticks\": \"\"}, \"colorscale\": [[0.0, \"#0d0887\"], [0.1111111111111111, \"#46039f\"], [0.2222222222222222, \"#7201a8\"], [0.3333333333333333, \"#9c179e\"], [0.4444444444444444, \"#bd3786\"], [0.5555555555555556, \"#d8576b\"], [0.6666666666666666, \"#ed7953\"], [0.7777777777777778, \"#fb9f3a\"], [0.8888888888888888, \"#fdca26\"], [1.0, \"#f0f921\"]], \"type\": \"histogram2d\"}], \"histogram2dcontour\": [{\"colorbar\": {\"outlinewidth\": 0, \"ticks\": \"\"}, \"colorscale\": [[0.0, \"#0d0887\"], [0.1111111111111111, \"#46039f\"], [0.2222222222222222, \"#7201a8\"], [0.3333333333333333, \"#9c179e\"], [0.4444444444444444, \"#bd3786\"], [0.5555555555555556, \"#d8576b\"], [0.6666666666666666, \"#ed7953\"], [0.7777777777777778, \"#fb9f3a\"], [0.8888888888888888, \"#fdca26\"], [1.0, \"#f0f921\"]], \"type\": \"histogram2dcontour\"}], \"mesh3d\": [{\"colorbar\": {\"outlinewidth\": 0, \"ticks\": \"\"}, \"type\": \"mesh3d\"}], \"parcoords\": [{\"line\": {\"colorbar\": {\"outlinewidth\": 0, \"ticks\": \"\"}}, \"type\": \"parcoords\"}], \"pie\": [{\"automargin\": true, \"type\": \"pie\"}], \"scatter\": [{\"marker\": {\"colorbar\": {\"outlinewidth\": 0, \"ticks\": \"\"}}, \"type\": \"scatter\"}], \"scatter3d\": [{\"line\": {\"colorbar\": {\"outlinewidth\": 0, \"ticks\": \"\"}}, \"marker\": {\"colorbar\": {\"outlinewidth\": 0, \"ticks\": \"\"}}, \"type\": \"scatter3d\"}], \"scattercarpet\": [{\"marker\": {\"colorbar\": {\"outlinewidth\": 0, \"ticks\": \"\"}}, \"type\": \"scattercarpet\"}], \"scattergeo\": [{\"marker\": {\"colorbar\": {\"outlinewidth\": 0, \"ticks\": \"\"}}, \"type\": \"scattergeo\"}], \"scattergl\": [{\"marker\": {\"colorbar\": {\"outlinewidth\": 0, \"ticks\": \"\"}}, \"type\": \"scattergl\"}], \"scattermapbox\": [{\"marker\": {\"colorbar\": {\"outlinewidth\": 0, \"ticks\": \"\"}}, \"type\": \"scattermapbox\"}], \"scatterpolar\": [{\"marker\": {\"colorbar\": {\"outlinewidth\": 0, \"ticks\": \"\"}}, \"type\": \"scatterpolar\"}], \"scatterpolargl\": [{\"marker\": {\"colorbar\": {\"outlinewidth\": 0, \"ticks\": \"\"}}, \"type\": \"scatterpolargl\"}], \"scatterternary\": [{\"marker\": {\"colorbar\": {\"outlinewidth\": 0, \"ticks\": \"\"}}, \"type\": \"scatterternary\"}], \"surface\": [{\"colorbar\": {\"outlinewidth\": 0, \"ticks\": \"\"}, \"colorscale\": [[0.0, \"#0d0887\"], [0.1111111111111111, \"#46039f\"], [0.2222222222222222, \"#7201a8\"], [0.3333333333333333, \"#9c179e\"], [0.4444444444444444, \"#bd3786\"], [0.5555555555555556, \"#d8576b\"], [0.6666666666666666, \"#ed7953\"], [0.7777777777777778, \"#fb9f3a\"], [0.8888888888888888, \"#fdca26\"], [1.0, \"#f0f921\"]], \"type\": \"surface\"}], \"table\": [{\"cells\": {\"fill\": {\"color\": \"#EBF0F8\"}, \"line\": {\"color\": \"white\"}}, \"header\": {\"fill\": {\"color\": \"#C8D4E3\"}, \"line\": {\"color\": \"white\"}}, \"type\": \"table\"}]}, \"layout\": {\"annotationdefaults\": {\"arrowcolor\": \"#2a3f5f\", \"arrowhead\": 0, \"arrowwidth\": 1}, \"coloraxis\": {\"colorbar\": {\"outlinewidth\": 0, \"ticks\": \"\"}}, \"colorscale\": {\"diverging\": [[0, \"#8e0152\"], [0.1, \"#c51b7d\"], [0.2, \"#de77ae\"], [0.3, \"#f1b6da\"], [0.4, \"#fde0ef\"], [0.5, \"#f7f7f7\"], [0.6, \"#e6f5d0\"], [0.7, \"#b8e186\"], [0.8, \"#7fbc41\"], [0.9, \"#4d9221\"], [1, \"#276419\"]], \"sequential\": [[0.0, \"#0d0887\"], [0.1111111111111111, \"#46039f\"], [0.2222222222222222, \"#7201a8\"], [0.3333333333333333, \"#9c179e\"], [0.4444444444444444, \"#bd3786\"], [0.5555555555555556, \"#d8576b\"], [0.6666666666666666, \"#ed7953\"], [0.7777777777777778, \"#fb9f3a\"], [0.8888888888888888, \"#fdca26\"], [1.0, \"#f0f921\"]], \"sequentialminus\": [[0.0, \"#0d0887\"], [0.1111111111111111, \"#46039f\"], [0.2222222222222222, \"#7201a8\"], [0.3333333333333333, \"#9c179e\"], [0.4444444444444444, \"#bd3786\"], [0.5555555555555556, \"#d8576b\"], [0.6666666666666666, \"#ed7953\"], [0.7777777777777778, \"#fb9f3a\"], [0.8888888888888888, \"#fdca26\"], [1.0, \"#f0f921\"]]}, \"colorway\": [\"#636efa\", \"#EF553B\", \"#00cc96\", \"#ab63fa\", \"#FFA15A\", \"#19d3f3\", \"#FF6692\", \"#B6E880\", \"#FF97FF\", \"#FECB52\"], \"font\": {\"color\": \"#2a3f5f\"}, \"geo\": {\"bgcolor\": \"white\", \"lakecolor\": \"white\", \"landcolor\": \"#E5ECF6\", \"showlakes\": true, \"showland\": true, \"subunitcolor\": \"white\"}, \"hoverlabel\": {\"align\": \"left\"}, \"hovermode\": \"closest\", \"mapbox\": {\"style\": \"light\"}, \"paper_bgcolor\": \"white\", \"plot_bgcolor\": \"#E5ECF6\", \"polar\": {\"angularaxis\": {\"gridcolor\": \"white\", \"linecolor\": \"white\", \"ticks\": \"\"}, \"bgcolor\": \"#E5ECF6\", \"radialaxis\": {\"gridcolor\": \"white\", \"linecolor\": \"white\", \"ticks\": \"\"}}, \"scene\": {\"xaxis\": {\"backgroundcolor\": \"#E5ECF6\", \"gridcolor\": \"white\", \"gridwidth\": 2, \"linecolor\": \"white\", \"showbackground\": true, \"ticks\": \"\", \"zerolinecolor\": \"white\"}, \"yaxis\": {\"backgroundcolor\": \"#E5ECF6\", \"gridcolor\": \"white\", \"gridwidth\": 2, \"linecolor\": \"white\", \"showbackground\": true, \"ticks\": \"\", \"zerolinecolor\": \"white\"}, \"zaxis\": {\"backgroundcolor\": \"#E5ECF6\", \"gridcolor\": \"white\", \"gridwidth\": 2, \"linecolor\": \"white\", \"showbackground\": true, \"ticks\": \"\", \"zerolinecolor\": \"white\"}}, \"shapedefaults\": {\"line\": {\"color\": \"#2a3f5f\"}}, \"ternary\": {\"aaxis\": {\"gridcolor\": \"white\", \"linecolor\": \"white\", \"ticks\": \"\"}, \"baxis\": {\"gridcolor\": \"white\", \"linecolor\": \"white\", \"ticks\": \"\"}, \"bgcolor\": \"#E5ECF6\", \"caxis\": {\"gridcolor\": \"white\", \"linecolor\": \"white\", \"ticks\": \"\"}}, \"title\": {\"x\": 0.05}, \"xaxis\": {\"automargin\": true, \"gridcolor\": \"white\", \"linecolor\": \"white\", \"ticks\": \"\", \"title\": {\"standoff\": 15}, \"zerolinecolor\": \"white\", \"zerolinewidth\": 2}, \"yaxis\": {\"automargin\": true, \"gridcolor\": \"white\", \"linecolor\": \"white\", \"ticks\": \"\", \"title\": {\"standoff\": 15}, \"zerolinecolor\": \"white\", \"zerolinewidth\": 2}}}, \"title\": {\"text\": \"Mots les plus utilis\\u00e9s par sender_14\", \"x\": 0.5}, \"xaxis\": {\"anchor\": \"y\", \"domain\": [0.0, 1.0], \"title\": {\"text\": \"words\"}}, \"yaxis\": {\"anchor\": \"x\", \"domain\": [0.0, 1.0], \"title\": {\"text\": \"count\"}}},\n",
              "                        {\"responsive\": true}\n",
              "                    ).then(function(){\n",
              "                            \n",
              "var gd = document.getElementById('3f149ff3-ce83-43d4-8015-db050e6759ec');\n",
              "var x = new MutationObserver(function (mutations, observer) {{\n",
              "        var display = window.getComputedStyle(gd).display;\n",
              "        if (!display || display === 'none') {{\n",
              "            console.log([gd, 'removed!']);\n",
              "            Plotly.purge(gd);\n",
              "            observer.disconnect();\n",
              "        }}\n",
              "}});\n",
              "\n",
              "// Listen for the removal of the full notebook cells\n",
              "var notebookContainer = gd.closest('#notebook-container');\n",
              "if (notebookContainer) {{\n",
              "    x.observe(notebookContainer, {childList: true});\n",
              "}}\n",
              "\n",
              "// Listen for the clearing of the current output cell\n",
              "var outputEl = gd.closest('.output');\n",
              "if (outputEl) {{\n",
              "    x.observe(outputEl, {childList: true});\n",
              "}}\n",
              "\n",
              "                        })\n",
              "                };\n",
              "                \n",
              "            </script>\n",
              "        </div>\n",
              "</body>\n",
              "</html>"
            ]
          },
          "metadata": {
            "tags": []
          }
        }
      ]
    },
    {
      "cell_type": "markdown",
      "metadata": {
        "id": "2ZrTFD5yDyHl"
      },
      "source": [
        "# Quels sont les emojis les plus présents ?"
      ]
    },
    {
      "cell_type": "code",
      "metadata": {
        "id": "wo9av_7i0VsO",
        "outputId": "0db8b070-5d52-44aa-8932-05cb2794d8ce",
        "colab": {
          "base_uri": "https://localhost:8080/",
          "height": 873
        }
      },
      "source": [
        "px.bar(data_frame=df_top_emoji, x='emoji', y='count')\n",
        "df_top_emoji"
      ],
      "execution_count": null,
      "outputs": [
        {
          "output_type": "display_data",
          "data": {
            "text/html": [
              "<html>\n",
              "<head><meta charset=\"utf-8\" /></head>\n",
              "<body>\n",
              "    <div>\n",
              "            <script src=\"https://cdnjs.cloudflare.com/ajax/libs/mathjax/2.7.5/MathJax.js?config=TeX-AMS-MML_SVG\"></script><script type=\"text/javascript\">if (window.MathJax) {MathJax.Hub.Config({SVG: {font: \"STIX-Web\"}});}</script>\n",
              "                <script type=\"text/javascript\">window.PlotlyConfig = {MathJaxConfig: 'local'};</script>\n",
              "        <script src=\"https://cdn.plot.ly/plotly-latest.min.js\"></script>    \n",
              "            <div id=\"fb0b46fb-5015-4b0f-ab4f-c114a5ca28ef\" class=\"plotly-graph-div\" style=\"height:525px; width:100%;\"></div>\n",
              "            <script type=\"text/javascript\">\n",
              "                \n",
              "                    window.PLOTLYENV=window.PLOTLYENV || {};\n",
              "                    \n",
              "                if (document.getElementById(\"fb0b46fb-5015-4b0f-ab4f-c114a5ca28ef\")) {\n",
              "                    Plotly.newPlot(\n",
              "                        'fb0b46fb-5015-4b0f-ab4f-c114a5ca28ef',\n",
              "                        [{\"alignmentgroup\": \"True\", \"hoverlabel\": {\"namelength\": 0}, \"hovertemplate\": \"emoji=%{x}<br>count=%{y}\", \"legendgroup\": \"\", \"marker\": {\"color\": \"#636efa\"}, \"name\": \"\", \"offsetgroup\": \"\", \"orientation\": \"v\", \"showlegend\": false, \"textposition\": \"auto\", \"type\": \"bar\", \"x\": [\"\\ud83e\\udd23\", \"\\ud83d\\udc4d\", \"\\ud83d\\ude02\", \"\\ud83d\\ude01\", \"\\ud83d\\ude09\", \"\\ud83d\\ude0a\", \"\\ud83d\\ude31\", \"\\ud83d\\ude05\", \"\\ud83e\\udd14\", \"\\ud83d\\ude42\"], \"xaxis\": \"x\", \"y\": [111, 97, 88, 53, 32, 24, 22, 20, 16, 16], \"yaxis\": \"y\"}],\n",
              "                        {\"barmode\": \"relative\", \"legend\": {\"tracegroupgap\": 0}, \"margin\": {\"t\": 60}, \"template\": {\"data\": {\"bar\": [{\"error_x\": {\"color\": \"#2a3f5f\"}, \"error_y\": {\"color\": \"#2a3f5f\"}, \"marker\": {\"line\": {\"color\": \"#E5ECF6\", \"width\": 0.5}}, \"type\": \"bar\"}], \"barpolar\": [{\"marker\": {\"line\": {\"color\": \"#E5ECF6\", \"width\": 0.5}}, \"type\": \"barpolar\"}], \"carpet\": [{\"aaxis\": {\"endlinecolor\": \"#2a3f5f\", \"gridcolor\": \"white\", \"linecolor\": \"white\", \"minorgridcolor\": \"white\", \"startlinecolor\": \"#2a3f5f\"}, \"baxis\": {\"endlinecolor\": \"#2a3f5f\", \"gridcolor\": \"white\", \"linecolor\": \"white\", \"minorgridcolor\": \"white\", \"startlinecolor\": \"#2a3f5f\"}, \"type\": \"carpet\"}], \"choropleth\": [{\"colorbar\": {\"outlinewidth\": 0, \"ticks\": \"\"}, \"type\": \"choropleth\"}], \"contour\": [{\"colorbar\": {\"outlinewidth\": 0, \"ticks\": \"\"}, \"colorscale\": [[0.0, \"#0d0887\"], [0.1111111111111111, \"#46039f\"], [0.2222222222222222, \"#7201a8\"], [0.3333333333333333, \"#9c179e\"], [0.4444444444444444, \"#bd3786\"], [0.5555555555555556, \"#d8576b\"], [0.6666666666666666, \"#ed7953\"], [0.7777777777777778, \"#fb9f3a\"], [0.8888888888888888, \"#fdca26\"], [1.0, \"#f0f921\"]], \"type\": \"contour\"}], \"contourcarpet\": [{\"colorbar\": {\"outlinewidth\": 0, \"ticks\": \"\"}, \"type\": \"contourcarpet\"}], \"heatmap\": [{\"colorbar\": {\"outlinewidth\": 0, \"ticks\": \"\"}, \"colorscale\": [[0.0, \"#0d0887\"], [0.1111111111111111, \"#46039f\"], [0.2222222222222222, \"#7201a8\"], [0.3333333333333333, \"#9c179e\"], [0.4444444444444444, \"#bd3786\"], [0.5555555555555556, \"#d8576b\"], [0.6666666666666666, \"#ed7953\"], [0.7777777777777778, \"#fb9f3a\"], [0.8888888888888888, \"#fdca26\"], [1.0, \"#f0f921\"]], \"type\": \"heatmap\"}], \"heatmapgl\": [{\"colorbar\": {\"outlinewidth\": 0, \"ticks\": \"\"}, \"colorscale\": [[0.0, \"#0d0887\"], [0.1111111111111111, \"#46039f\"], [0.2222222222222222, \"#7201a8\"], [0.3333333333333333, \"#9c179e\"], [0.4444444444444444, \"#bd3786\"], [0.5555555555555556, \"#d8576b\"], [0.6666666666666666, \"#ed7953\"], [0.7777777777777778, \"#fb9f3a\"], [0.8888888888888888, \"#fdca26\"], [1.0, \"#f0f921\"]], \"type\": \"heatmapgl\"}], \"histogram\": [{\"marker\": {\"colorbar\": {\"outlinewidth\": 0, \"ticks\": \"\"}}, \"type\": \"histogram\"}], \"histogram2d\": [{\"colorbar\": {\"outlinewidth\": 0, \"ticks\": \"\"}, \"colorscale\": [[0.0, \"#0d0887\"], [0.1111111111111111, \"#46039f\"], [0.2222222222222222, \"#7201a8\"], [0.3333333333333333, \"#9c179e\"], [0.4444444444444444, \"#bd3786\"], [0.5555555555555556, \"#d8576b\"], [0.6666666666666666, \"#ed7953\"], [0.7777777777777778, \"#fb9f3a\"], [0.8888888888888888, \"#fdca26\"], [1.0, \"#f0f921\"]], \"type\": \"histogram2d\"}], \"histogram2dcontour\": [{\"colorbar\": {\"outlinewidth\": 0, \"ticks\": \"\"}, \"colorscale\": [[0.0, \"#0d0887\"], [0.1111111111111111, \"#46039f\"], [0.2222222222222222, \"#7201a8\"], [0.3333333333333333, \"#9c179e\"], [0.4444444444444444, \"#bd3786\"], [0.5555555555555556, \"#d8576b\"], [0.6666666666666666, \"#ed7953\"], [0.7777777777777778, \"#fb9f3a\"], [0.8888888888888888, \"#fdca26\"], [1.0, \"#f0f921\"]], \"type\": \"histogram2dcontour\"}], \"mesh3d\": [{\"colorbar\": {\"outlinewidth\": 0, \"ticks\": \"\"}, \"type\": \"mesh3d\"}], \"parcoords\": [{\"line\": {\"colorbar\": {\"outlinewidth\": 0, \"ticks\": \"\"}}, \"type\": \"parcoords\"}], \"pie\": [{\"automargin\": true, \"type\": \"pie\"}], \"scatter\": [{\"marker\": {\"colorbar\": {\"outlinewidth\": 0, \"ticks\": \"\"}}, \"type\": \"scatter\"}], \"scatter3d\": [{\"line\": {\"colorbar\": {\"outlinewidth\": 0, \"ticks\": \"\"}}, \"marker\": {\"colorbar\": {\"outlinewidth\": 0, \"ticks\": \"\"}}, \"type\": \"scatter3d\"}], \"scattercarpet\": [{\"marker\": {\"colorbar\": {\"outlinewidth\": 0, \"ticks\": \"\"}}, \"type\": \"scattercarpet\"}], \"scattergeo\": [{\"marker\": {\"colorbar\": {\"outlinewidth\": 0, \"ticks\": \"\"}}, \"type\": \"scattergeo\"}], \"scattergl\": [{\"marker\": {\"colorbar\": {\"outlinewidth\": 0, \"ticks\": \"\"}}, \"type\": \"scattergl\"}], \"scattermapbox\": [{\"marker\": {\"colorbar\": {\"outlinewidth\": 0, \"ticks\": \"\"}}, \"type\": \"scattermapbox\"}], \"scatterpolar\": [{\"marker\": {\"colorbar\": {\"outlinewidth\": 0, \"ticks\": \"\"}}, \"type\": \"scatterpolar\"}], \"scatterpolargl\": [{\"marker\": {\"colorbar\": {\"outlinewidth\": 0, \"ticks\": \"\"}}, \"type\": \"scatterpolargl\"}], \"scatterternary\": [{\"marker\": {\"colorbar\": {\"outlinewidth\": 0, \"ticks\": \"\"}}, \"type\": \"scatterternary\"}], \"surface\": [{\"colorbar\": {\"outlinewidth\": 0, \"ticks\": \"\"}, \"colorscale\": [[0.0, \"#0d0887\"], [0.1111111111111111, \"#46039f\"], [0.2222222222222222, \"#7201a8\"], [0.3333333333333333, \"#9c179e\"], [0.4444444444444444, \"#bd3786\"], [0.5555555555555556, \"#d8576b\"], [0.6666666666666666, \"#ed7953\"], [0.7777777777777778, \"#fb9f3a\"], [0.8888888888888888, \"#fdca26\"], [1.0, \"#f0f921\"]], \"type\": \"surface\"}], \"table\": [{\"cells\": {\"fill\": {\"color\": \"#EBF0F8\"}, \"line\": {\"color\": \"white\"}}, \"header\": {\"fill\": {\"color\": \"#C8D4E3\"}, \"line\": {\"color\": \"white\"}}, \"type\": \"table\"}]}, \"layout\": {\"annotationdefaults\": {\"arrowcolor\": \"#2a3f5f\", \"arrowhead\": 0, \"arrowwidth\": 1}, \"coloraxis\": {\"colorbar\": {\"outlinewidth\": 0, \"ticks\": \"\"}}, \"colorscale\": {\"diverging\": [[0, \"#8e0152\"], [0.1, \"#c51b7d\"], [0.2, \"#de77ae\"], [0.3, \"#f1b6da\"], [0.4, \"#fde0ef\"], [0.5, \"#f7f7f7\"], [0.6, \"#e6f5d0\"], [0.7, \"#b8e186\"], [0.8, \"#7fbc41\"], [0.9, \"#4d9221\"], [1, \"#276419\"]], \"sequential\": [[0.0, \"#0d0887\"], [0.1111111111111111, \"#46039f\"], [0.2222222222222222, \"#7201a8\"], [0.3333333333333333, \"#9c179e\"], [0.4444444444444444, \"#bd3786\"], [0.5555555555555556, \"#d8576b\"], [0.6666666666666666, \"#ed7953\"], [0.7777777777777778, \"#fb9f3a\"], [0.8888888888888888, \"#fdca26\"], [1.0, \"#f0f921\"]], \"sequentialminus\": [[0.0, \"#0d0887\"], [0.1111111111111111, \"#46039f\"], [0.2222222222222222, \"#7201a8\"], [0.3333333333333333, \"#9c179e\"], [0.4444444444444444, \"#bd3786\"], [0.5555555555555556, \"#d8576b\"], [0.6666666666666666, \"#ed7953\"], [0.7777777777777778, \"#fb9f3a\"], [0.8888888888888888, \"#fdca26\"], [1.0, \"#f0f921\"]]}, \"colorway\": [\"#636efa\", \"#EF553B\", \"#00cc96\", \"#ab63fa\", \"#FFA15A\", \"#19d3f3\", \"#FF6692\", \"#B6E880\", \"#FF97FF\", \"#FECB52\"], \"font\": {\"color\": \"#2a3f5f\"}, \"geo\": {\"bgcolor\": \"white\", \"lakecolor\": \"white\", \"landcolor\": \"#E5ECF6\", \"showlakes\": true, \"showland\": true, \"subunitcolor\": \"white\"}, \"hoverlabel\": {\"align\": \"left\"}, \"hovermode\": \"closest\", \"mapbox\": {\"style\": \"light\"}, \"paper_bgcolor\": \"white\", \"plot_bgcolor\": \"#E5ECF6\", \"polar\": {\"angularaxis\": {\"gridcolor\": \"white\", \"linecolor\": \"white\", \"ticks\": \"\"}, \"bgcolor\": \"#E5ECF6\", \"radialaxis\": {\"gridcolor\": \"white\", \"linecolor\": \"white\", \"ticks\": \"\"}}, \"scene\": {\"xaxis\": {\"backgroundcolor\": \"#E5ECF6\", \"gridcolor\": \"white\", \"gridwidth\": 2, \"linecolor\": \"white\", \"showbackground\": true, \"ticks\": \"\", \"zerolinecolor\": \"white\"}, \"yaxis\": {\"backgroundcolor\": \"#E5ECF6\", \"gridcolor\": \"white\", \"gridwidth\": 2, \"linecolor\": \"white\", \"showbackground\": true, \"ticks\": \"\", \"zerolinecolor\": \"white\"}, \"zaxis\": {\"backgroundcolor\": \"#E5ECF6\", \"gridcolor\": \"white\", \"gridwidth\": 2, \"linecolor\": \"white\", \"showbackground\": true, \"ticks\": \"\", \"zerolinecolor\": \"white\"}}, \"shapedefaults\": {\"line\": {\"color\": \"#2a3f5f\"}}, \"ternary\": {\"aaxis\": {\"gridcolor\": \"white\", \"linecolor\": \"white\", \"ticks\": \"\"}, \"baxis\": {\"gridcolor\": \"white\", \"linecolor\": \"white\", \"ticks\": \"\"}, \"bgcolor\": \"#E5ECF6\", \"caxis\": {\"gridcolor\": \"white\", \"linecolor\": \"white\", \"ticks\": \"\"}}, \"title\": {\"x\": 0.05}, \"xaxis\": {\"automargin\": true, \"gridcolor\": \"white\", \"linecolor\": \"white\", \"ticks\": \"\", \"title\": {\"standoff\": 15}, \"zerolinecolor\": \"white\", \"zerolinewidth\": 2}, \"yaxis\": {\"automargin\": true, \"gridcolor\": \"white\", \"linecolor\": \"white\", \"ticks\": \"\", \"title\": {\"standoff\": 15}, \"zerolinecolor\": \"white\", \"zerolinewidth\": 2}}}, \"xaxis\": {\"anchor\": \"y\", \"domain\": [0.0, 1.0], \"title\": {\"text\": \"emoji\"}}, \"yaxis\": {\"anchor\": \"x\", \"domain\": [0.0, 1.0], \"title\": {\"text\": \"count\"}}},\n",
              "                        {\"responsive\": true}\n",
              "                    ).then(function(){\n",
              "                            \n",
              "var gd = document.getElementById('fb0b46fb-5015-4b0f-ab4f-c114a5ca28ef');\n",
              "var x = new MutationObserver(function (mutations, observer) {{\n",
              "        var display = window.getComputedStyle(gd).display;\n",
              "        if (!display || display === 'none') {{\n",
              "            console.log([gd, 'removed!']);\n",
              "            Plotly.purge(gd);\n",
              "            observer.disconnect();\n",
              "        }}\n",
              "}});\n",
              "\n",
              "// Listen for the removal of the full notebook cells\n",
              "var notebookContainer = gd.closest('#notebook-container');\n",
              "if (notebookContainer) {{\n",
              "    x.observe(notebookContainer, {childList: true});\n",
              "}}\n",
              "\n",
              "// Listen for the clearing of the current output cell\n",
              "var outputEl = gd.closest('.output');\n",
              "if (outputEl) {{\n",
              "    x.observe(outputEl, {childList: true});\n",
              "}}\n",
              "\n",
              "                        })\n",
              "                };\n",
              "                \n",
              "            </script>\n",
              "        </div>\n",
              "</body>\n",
              "</html>"
            ]
          },
          "metadata": {
            "tags": []
          }
        },
        {
          "output_type": "execute_result",
          "data": {
            "text/html": [
              "<div>\n",
              "<style scoped>\n",
              "    .dataframe tbody tr th:only-of-type {\n",
              "        vertical-align: middle;\n",
              "    }\n",
              "\n",
              "    .dataframe tbody tr th {\n",
              "        vertical-align: top;\n",
              "    }\n",
              "\n",
              "    .dataframe thead th {\n",
              "        text-align: right;\n",
              "    }\n",
              "</style>\n",
              "<table border=\"1\" class=\"dataframe\">\n",
              "  <thead>\n",
              "    <tr style=\"text-align: right;\">\n",
              "      <th></th>\n",
              "      <th>emoji</th>\n",
              "      <th>count</th>\n",
              "    </tr>\n",
              "  </thead>\n",
              "  <tbody>\n",
              "    <tr>\n",
              "      <th>0</th>\n",
              "      <td>🤣</td>\n",
              "      <td>111</td>\n",
              "    </tr>\n",
              "    <tr>\n",
              "      <th>1</th>\n",
              "      <td>👍</td>\n",
              "      <td>97</td>\n",
              "    </tr>\n",
              "    <tr>\n",
              "      <th>2</th>\n",
              "      <td>😂</td>\n",
              "      <td>88</td>\n",
              "    </tr>\n",
              "    <tr>\n",
              "      <th>3</th>\n",
              "      <td>😁</td>\n",
              "      <td>53</td>\n",
              "    </tr>\n",
              "    <tr>\n",
              "      <th>4</th>\n",
              "      <td>😉</td>\n",
              "      <td>32</td>\n",
              "    </tr>\n",
              "    <tr>\n",
              "      <th>5</th>\n",
              "      <td>😊</td>\n",
              "      <td>24</td>\n",
              "    </tr>\n",
              "    <tr>\n",
              "      <th>6</th>\n",
              "      <td>😱</td>\n",
              "      <td>22</td>\n",
              "    </tr>\n",
              "    <tr>\n",
              "      <th>7</th>\n",
              "      <td>😅</td>\n",
              "      <td>20</td>\n",
              "    </tr>\n",
              "    <tr>\n",
              "      <th>8</th>\n",
              "      <td>🤔</td>\n",
              "      <td>16</td>\n",
              "    </tr>\n",
              "    <tr>\n",
              "      <th>9</th>\n",
              "      <td>🙂</td>\n",
              "      <td>16</td>\n",
              "    </tr>\n",
              "  </tbody>\n",
              "</table>\n",
              "</div>"
            ],
            "text/plain": [
              "  emoji  count\n",
              "0     🤣    111\n",
              "1     👍     97\n",
              "2     😂     88\n",
              "3     😁     53\n",
              "4     😉     32\n",
              "5     😊     24\n",
              "6     😱     22\n",
              "7     😅     20\n",
              "8     🤔     16\n",
              "9     🙂     16"
            ]
          },
          "metadata": {
            "tags": []
          },
          "execution_count": 58
        }
      ]
    },
    {
      "cell_type": "markdown",
      "metadata": {
        "id": "m1yWq93_FnY_"
      },
      "source": [
        "Dans ce groupe, d'abord on est de bonne humeur et on rigole, ensuite on panique, et à la fin seulement on réfléchit mdr"
      ]
    }
  ]
}